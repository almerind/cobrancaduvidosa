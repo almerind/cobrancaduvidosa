{
  "nbformat": 4,
  "nbformat_minor": 0,
  "metadata": {
    "colab": {
      "provenance": [],
      "collapsed_sections": [
        "8Khx-_d0iwhU"
      ]
    },
    "kernelspec": {
      "name": "python3",
      "display_name": "Python 3"
    },
    "language_info": {
      "name": "python"
    }
  },
  "cells": [
    {
      "cell_type": "code",
      "source": [
        "#NESTE NOTEBOOK PUCHEI O MEU DATASET SEM DADOS NULOS. JA TRABALHADA UM POUCO."
      ],
      "metadata": {
        "id": "qg8MZ1LLRzGO"
      },
      "execution_count": 38,
      "outputs": []
    },
    {
      "cell_type": "code",
      "execution_count": 39,
      "metadata": {
        "id": "JgseJagFRH21"
      },
      "outputs": [],
      "source": [
        "import pandas as pd"
      ]
    },
    {
      "cell_type": "code",
      "source": [
        "df = pd.read_excel(open('/content/drive/MyDrive/Monografia/Monografia 01/Parte Tecnica/Parte 1/Prestacoes_29.10.2022_18Categorias.xlsx', 'rb'),sheet_name='Sheet1')"
      ],
      "metadata": {
        "id": "P3ZvOHmLRQae"
      },
      "execution_count": 40,
      "outputs": []
    },
    {
      "cell_type": "code",
      "source": [
        "df.isna().sum()"
      ],
      "metadata": {
        "colab": {
          "base_uri": "https://localhost:8080/"
        },
        "id": "i9z0mEZaRbqz",
        "outputId": "e9f5081d-abd1-4a59-b460-2e2d7d95ac66"
      },
      "execution_count": 41,
      "outputs": [
        {
          "output_type": "execute_result",
          "data": {
            "text/plain": [
              "NUMEROCLIENTE                    0\n",
              "CODIGOCLIENTE                    0\n",
              "NR_PRESTACOES                    0\n",
              "NR_PREST_PAGAS_ATRASO            0\n",
              "NR_PREST_PAGAS_SEM_ATRASO        0\n",
              "NR_PREST_NAOPAGAS_ATRASO         0\n",
              "NR_PREST_NAO_PAGAS_SEM_ATRASO    0\n",
              "TIPOCREDITO                      0\n",
              "DATACRIACAOCREDITO               0\n",
              "PRAZO                            0\n",
              "CAPACIDADEENDIVIDAMENTO          0\n",
              "VALORCREDITO                     0\n",
              "VALORPRESTACAO                   0\n",
              "PAIS                             0\n",
              "PROVINCIA                        0\n",
              "IDADE                            0\n",
              "DATACRIACAO                      0\n",
              "PROFISSAO                        0\n",
              "CARGO                            0\n",
              "CATEGORIAPROFISSIONAL            0\n",
              "TIPOCLIENTE                      0\n",
              "RENDAMENSAL                      0\n",
              "RENDAANUAL                       0\n",
              "ESTADOCIVIL                      0\n",
              "HABILITACOES                     0\n",
              "EstadoCliente                    0\n",
              "SEXO                             0\n",
              "DT_REGISTO_CLIENTE               0\n",
              "dtype: int64"
            ]
          },
          "metadata": {},
          "execution_count": 41
        }
      ]
    },
    {
      "cell_type": "code",
      "source": [
        "df.head()"
      ],
      "metadata": {
        "colab": {
          "base_uri": "https://localhost:8080/",
          "height": 386
        },
        "id": "2ApIu2iaRf-i",
        "outputId": "2286db09-98cf-4845-975b-d55173c003ac"
      },
      "execution_count": 42,
      "outputs": [
        {
          "output_type": "execute_result",
          "data": {
            "text/plain": [
              "   NUMEROCLIENTE  CODIGOCLIENTE  NR_PRESTACOES  NR_PREST_PAGAS_ATRASO  \\\n",
              "0       10102010              1             36                      0   \n",
              "1       10102020              1              5                      2   \n",
              "2       10102040              1              1                      0   \n",
              "3       10102050              1              3                      0   \n",
              "4       10102060              1              1                      1   \n",
              "\n",
              "   NR_PREST_PAGAS_SEM_ATRASO  NR_PREST_NAOPAGAS_ATRASO  \\\n",
              "0                         36                         0   \n",
              "1                          3                         0   \n",
              "2                          1                         0   \n",
              "3                          3                         0   \n",
              "4                          0                         0   \n",
              "\n",
              "   NR_PREST_NAO_PAGAS_SEM_ATRASO TIPOCREDITO DATACRIACAOCREDITO  PRAZO  ...  \\\n",
              "0                              0          CU         2012-08-09     36  ...   \n",
              "1                              0          CJ         2015-06-16      5  ...   \n",
              "2                              0          CJ         2015-11-12      1  ...   \n",
              "3                              0          CJ         2016-04-19      3  ...   \n",
              "4                              0          CJ         2017-12-13      1  ...   \n",
              "\n",
              "         CARGO  CATEGORIAPROFISSIONAL  TIPOCLIENTE RENDAMENSAL RENDAANUAL  \\\n",
              "0  PROGRAMADOR       TECNICO SUPERIOR            S     23000.0   276000.0   \n",
              "1  PROGRAMADOR       TECNICO SUPERIOR            S     23000.0   276000.0   \n",
              "2  PROGRAMADOR       TECNICO SUPERIOR            S     23000.0   276000.0   \n",
              "3  PROGRAMADOR       TECNICO SUPERIOR            S     23000.0   276000.0   \n",
              "4  PROGRAMADOR       TECNICO SUPERIOR            S     23000.0   276000.0   \n",
              "\n",
              "   ESTADOCIVIL HABILITACOES  EstadoCliente SEXO      DT_REGISTO_CLIENTE  \n",
              "0            S            6              1    1 2012-07-20 13:44:29.220  \n",
              "1            S            6              0    1 2012-07-20 13:44:29.220  \n",
              "2            S            6              1    1 2012-07-20 13:44:29.220  \n",
              "3            S            6              1    1 2012-07-20 13:44:29.220  \n",
              "4            S            6              0    1 2012-07-20 13:44:29.220  \n",
              "\n",
              "[5 rows x 28 columns]"
            ],
            "text/html": [
              "\n",
              "  <div id=\"df-f1c859be-ca14-4712-acf0-91354e293625\">\n",
              "    <div class=\"colab-df-container\">\n",
              "      <div>\n",
              "<style scoped>\n",
              "    .dataframe tbody tr th:only-of-type {\n",
              "        vertical-align: middle;\n",
              "    }\n",
              "\n",
              "    .dataframe tbody tr th {\n",
              "        vertical-align: top;\n",
              "    }\n",
              "\n",
              "    .dataframe thead th {\n",
              "        text-align: right;\n",
              "    }\n",
              "</style>\n",
              "<table border=\"1\" class=\"dataframe\">\n",
              "  <thead>\n",
              "    <tr style=\"text-align: right;\">\n",
              "      <th></th>\n",
              "      <th>NUMEROCLIENTE</th>\n",
              "      <th>CODIGOCLIENTE</th>\n",
              "      <th>NR_PRESTACOES</th>\n",
              "      <th>NR_PREST_PAGAS_ATRASO</th>\n",
              "      <th>NR_PREST_PAGAS_SEM_ATRASO</th>\n",
              "      <th>NR_PREST_NAOPAGAS_ATRASO</th>\n",
              "      <th>NR_PREST_NAO_PAGAS_SEM_ATRASO</th>\n",
              "      <th>TIPOCREDITO</th>\n",
              "      <th>DATACRIACAOCREDITO</th>\n",
              "      <th>PRAZO</th>\n",
              "      <th>...</th>\n",
              "      <th>CARGO</th>\n",
              "      <th>CATEGORIAPROFISSIONAL</th>\n",
              "      <th>TIPOCLIENTE</th>\n",
              "      <th>RENDAMENSAL</th>\n",
              "      <th>RENDAANUAL</th>\n",
              "      <th>ESTADOCIVIL</th>\n",
              "      <th>HABILITACOES</th>\n",
              "      <th>EstadoCliente</th>\n",
              "      <th>SEXO</th>\n",
              "      <th>DT_REGISTO_CLIENTE</th>\n",
              "    </tr>\n",
              "  </thead>\n",
              "  <tbody>\n",
              "    <tr>\n",
              "      <th>0</th>\n",
              "      <td>10102010</td>\n",
              "      <td>1</td>\n",
              "      <td>36</td>\n",
              "      <td>0</td>\n",
              "      <td>36</td>\n",
              "      <td>0</td>\n",
              "      <td>0</td>\n",
              "      <td>CU</td>\n",
              "      <td>2012-08-09</td>\n",
              "      <td>36</td>\n",
              "      <td>...</td>\n",
              "      <td>PROGRAMADOR</td>\n",
              "      <td>TECNICO SUPERIOR</td>\n",
              "      <td>S</td>\n",
              "      <td>23000.0</td>\n",
              "      <td>276000.0</td>\n",
              "      <td>S</td>\n",
              "      <td>6</td>\n",
              "      <td>1</td>\n",
              "      <td>1</td>\n",
              "      <td>2012-07-20 13:44:29.220</td>\n",
              "    </tr>\n",
              "    <tr>\n",
              "      <th>1</th>\n",
              "      <td>10102020</td>\n",
              "      <td>1</td>\n",
              "      <td>5</td>\n",
              "      <td>2</td>\n",
              "      <td>3</td>\n",
              "      <td>0</td>\n",
              "      <td>0</td>\n",
              "      <td>CJ</td>\n",
              "      <td>2015-06-16</td>\n",
              "      <td>5</td>\n",
              "      <td>...</td>\n",
              "      <td>PROGRAMADOR</td>\n",
              "      <td>TECNICO SUPERIOR</td>\n",
              "      <td>S</td>\n",
              "      <td>23000.0</td>\n",
              "      <td>276000.0</td>\n",
              "      <td>S</td>\n",
              "      <td>6</td>\n",
              "      <td>0</td>\n",
              "      <td>1</td>\n",
              "      <td>2012-07-20 13:44:29.220</td>\n",
              "    </tr>\n",
              "    <tr>\n",
              "      <th>2</th>\n",
              "      <td>10102040</td>\n",
              "      <td>1</td>\n",
              "      <td>1</td>\n",
              "      <td>0</td>\n",
              "      <td>1</td>\n",
              "      <td>0</td>\n",
              "      <td>0</td>\n",
              "      <td>CJ</td>\n",
              "      <td>2015-11-12</td>\n",
              "      <td>1</td>\n",
              "      <td>...</td>\n",
              "      <td>PROGRAMADOR</td>\n",
              "      <td>TECNICO SUPERIOR</td>\n",
              "      <td>S</td>\n",
              "      <td>23000.0</td>\n",
              "      <td>276000.0</td>\n",
              "      <td>S</td>\n",
              "      <td>6</td>\n",
              "      <td>1</td>\n",
              "      <td>1</td>\n",
              "      <td>2012-07-20 13:44:29.220</td>\n",
              "    </tr>\n",
              "    <tr>\n",
              "      <th>3</th>\n",
              "      <td>10102050</td>\n",
              "      <td>1</td>\n",
              "      <td>3</td>\n",
              "      <td>0</td>\n",
              "      <td>3</td>\n",
              "      <td>0</td>\n",
              "      <td>0</td>\n",
              "      <td>CJ</td>\n",
              "      <td>2016-04-19</td>\n",
              "      <td>3</td>\n",
              "      <td>...</td>\n",
              "      <td>PROGRAMADOR</td>\n",
              "      <td>TECNICO SUPERIOR</td>\n",
              "      <td>S</td>\n",
              "      <td>23000.0</td>\n",
              "      <td>276000.0</td>\n",
              "      <td>S</td>\n",
              "      <td>6</td>\n",
              "      <td>1</td>\n",
              "      <td>1</td>\n",
              "      <td>2012-07-20 13:44:29.220</td>\n",
              "    </tr>\n",
              "    <tr>\n",
              "      <th>4</th>\n",
              "      <td>10102060</td>\n",
              "      <td>1</td>\n",
              "      <td>1</td>\n",
              "      <td>1</td>\n",
              "      <td>0</td>\n",
              "      <td>0</td>\n",
              "      <td>0</td>\n",
              "      <td>CJ</td>\n",
              "      <td>2017-12-13</td>\n",
              "      <td>1</td>\n",
              "      <td>...</td>\n",
              "      <td>PROGRAMADOR</td>\n",
              "      <td>TECNICO SUPERIOR</td>\n",
              "      <td>S</td>\n",
              "      <td>23000.0</td>\n",
              "      <td>276000.0</td>\n",
              "      <td>S</td>\n",
              "      <td>6</td>\n",
              "      <td>0</td>\n",
              "      <td>1</td>\n",
              "      <td>2012-07-20 13:44:29.220</td>\n",
              "    </tr>\n",
              "  </tbody>\n",
              "</table>\n",
              "<p>5 rows × 28 columns</p>\n",
              "</div>\n",
              "      <button class=\"colab-df-convert\" onclick=\"convertToInteractive('df-f1c859be-ca14-4712-acf0-91354e293625')\"\n",
              "              title=\"Convert this dataframe to an interactive table.\"\n",
              "              style=\"display:none;\">\n",
              "        \n",
              "  <svg xmlns=\"http://www.w3.org/2000/svg\" height=\"24px\"viewBox=\"0 0 24 24\"\n",
              "       width=\"24px\">\n",
              "    <path d=\"M0 0h24v24H0V0z\" fill=\"none\"/>\n",
              "    <path d=\"M18.56 5.44l.94 2.06.94-2.06 2.06-.94-2.06-.94-.94-2.06-.94 2.06-2.06.94zm-11 1L8.5 8.5l.94-2.06 2.06-.94-2.06-.94L8.5 2.5l-.94 2.06-2.06.94zm10 10l.94 2.06.94-2.06 2.06-.94-2.06-.94-.94-2.06-.94 2.06-2.06.94z\"/><path d=\"M17.41 7.96l-1.37-1.37c-.4-.4-.92-.59-1.43-.59-.52 0-1.04.2-1.43.59L10.3 9.45l-7.72 7.72c-.78.78-.78 2.05 0 2.83L4 21.41c.39.39.9.59 1.41.59.51 0 1.02-.2 1.41-.59l7.78-7.78 2.81-2.81c.8-.78.8-2.07 0-2.86zM5.41 20L4 18.59l7.72-7.72 1.47 1.35L5.41 20z\"/>\n",
              "  </svg>\n",
              "      </button>\n",
              "      \n",
              "  <style>\n",
              "    .colab-df-container {\n",
              "      display:flex;\n",
              "      flex-wrap:wrap;\n",
              "      gap: 12px;\n",
              "    }\n",
              "\n",
              "    .colab-df-convert {\n",
              "      background-color: #E8F0FE;\n",
              "      border: none;\n",
              "      border-radius: 50%;\n",
              "      cursor: pointer;\n",
              "      display: none;\n",
              "      fill: #1967D2;\n",
              "      height: 32px;\n",
              "      padding: 0 0 0 0;\n",
              "      width: 32px;\n",
              "    }\n",
              "\n",
              "    .colab-df-convert:hover {\n",
              "      background-color: #E2EBFA;\n",
              "      box-shadow: 0px 1px 2px rgba(60, 64, 67, 0.3), 0px 1px 3px 1px rgba(60, 64, 67, 0.15);\n",
              "      fill: #174EA6;\n",
              "    }\n",
              "\n",
              "    [theme=dark] .colab-df-convert {\n",
              "      background-color: #3B4455;\n",
              "      fill: #D2E3FC;\n",
              "    }\n",
              "\n",
              "    [theme=dark] .colab-df-convert:hover {\n",
              "      background-color: #434B5C;\n",
              "      box-shadow: 0px 1px 3px 1px rgba(0, 0, 0, 0.15);\n",
              "      filter: drop-shadow(0px 1px 2px rgba(0, 0, 0, 0.3));\n",
              "      fill: #FFFFFF;\n",
              "    }\n",
              "  </style>\n",
              "\n",
              "      <script>\n",
              "        const buttonEl =\n",
              "          document.querySelector('#df-f1c859be-ca14-4712-acf0-91354e293625 button.colab-df-convert');\n",
              "        buttonEl.style.display =\n",
              "          google.colab.kernel.accessAllowed ? 'block' : 'none';\n",
              "\n",
              "        async function convertToInteractive(key) {\n",
              "          const element = document.querySelector('#df-f1c859be-ca14-4712-acf0-91354e293625');\n",
              "          const dataTable =\n",
              "            await google.colab.kernel.invokeFunction('convertToInteractive',\n",
              "                                                     [key], {});\n",
              "          if (!dataTable) return;\n",
              "\n",
              "          const docLinkHtml = 'Like what you see? Visit the ' +\n",
              "            '<a target=\"_blank\" href=https://colab.research.google.com/notebooks/data_table.ipynb>data table notebook</a>'\n",
              "            + ' to learn more about interactive tables.';\n",
              "          element.innerHTML = '';\n",
              "          dataTable['output_type'] = 'display_data';\n",
              "          await google.colab.output.renderOutput(dataTable, element);\n",
              "          const docLink = document.createElement('div');\n",
              "          docLink.innerHTML = docLinkHtml;\n",
              "          element.appendChild(docLink);\n",
              "        }\n",
              "      </script>\n",
              "    </div>\n",
              "  </div>\n",
              "  "
            ]
          },
          "metadata": {},
          "execution_count": 42
        }
      ]
    },
    {
      "cell_type": "code",
      "source": [
        "#AQUI ESTOU A ADICIONAR OS DADOS DE GRADUACAO RELACIONADOS COM A COLUNA DE HABILITACOES:\n",
        "df['GRADUADO']='0';\n",
        "df['GRADUADO'][df.HABILITACOES==5]='1';\n",
        "df['GRADUADO'][df.HABILITACOES==6]='1';\n",
        "df['GRADUADO'][df.HABILITACOES==7]='1';\n",
        "df['GRADUADO'][df.HABILITACOES==10]='1';"
      ],
      "metadata": {
        "colab": {
          "base_uri": "https://localhost:8080/"
        },
        "id": "Fxw-tj1FRjCm",
        "outputId": "504c9234-af22-4490-d991-830be78b2462"
      },
      "execution_count": 43,
      "outputs": [
        {
          "output_type": "stream",
          "name": "stderr",
          "text": [
            "<ipython-input-43-46e496faef8b>:3: SettingWithCopyWarning: \n",
            "A value is trying to be set on a copy of a slice from a DataFrame\n",
            "\n",
            "See the caveats in the documentation: https://pandas.pydata.org/pandas-docs/stable/user_guide/indexing.html#returning-a-view-versus-a-copy\n",
            "  df['GRADUADO'][df.HABILITACOES==5]='1';\n",
            "<ipython-input-43-46e496faef8b>:4: SettingWithCopyWarning: \n",
            "A value is trying to be set on a copy of a slice from a DataFrame\n",
            "\n",
            "See the caveats in the documentation: https://pandas.pydata.org/pandas-docs/stable/user_guide/indexing.html#returning-a-view-versus-a-copy\n",
            "  df['GRADUADO'][df.HABILITACOES==6]='1';\n",
            "<ipython-input-43-46e496faef8b>:5: SettingWithCopyWarning: \n",
            "A value is trying to be set on a copy of a slice from a DataFrame\n",
            "\n",
            "See the caveats in the documentation: https://pandas.pydata.org/pandas-docs/stable/user_guide/indexing.html#returning-a-view-versus-a-copy\n",
            "  df['GRADUADO'][df.HABILITACOES==7]='1';\n",
            "<ipython-input-43-46e496faef8b>:6: SettingWithCopyWarning: \n",
            "A value is trying to be set on a copy of a slice from a DataFrame\n",
            "\n",
            "See the caveats in the documentation: https://pandas.pydata.org/pandas-docs/stable/user_guide/indexing.html#returning-a-view-versus-a-copy\n",
            "  df['GRADUADO'][df.HABILITACOES==10]='1';\n"
          ]
        }
      ]
    },
    {
      "cell_type": "code",
      "source": [
        "df.info()"
      ],
      "metadata": {
        "colab": {
          "base_uri": "https://localhost:8080/"
        },
        "id": "zfHrtCsuTHVd",
        "outputId": "260be277-162b-4da3-d969-971be16bf80e"
      },
      "execution_count": 44,
      "outputs": [
        {
          "output_type": "stream",
          "name": "stdout",
          "text": [
            "<class 'pandas.core.frame.DataFrame'>\n",
            "RangeIndex: 9487 entries, 0 to 9486\n",
            "Data columns (total 29 columns):\n",
            " #   Column                         Non-Null Count  Dtype         \n",
            "---  ------                         --------------  -----         \n",
            " 0   NUMEROCLIENTE                  9487 non-null   int64         \n",
            " 1   CODIGOCLIENTE                  9487 non-null   int64         \n",
            " 2   NR_PRESTACOES                  9487 non-null   int64         \n",
            " 3   NR_PREST_PAGAS_ATRASO          9487 non-null   int64         \n",
            " 4   NR_PREST_PAGAS_SEM_ATRASO      9487 non-null   int64         \n",
            " 5   NR_PREST_NAOPAGAS_ATRASO       9487 non-null   int64         \n",
            " 6   NR_PREST_NAO_PAGAS_SEM_ATRASO  9487 non-null   int64         \n",
            " 7   TIPOCREDITO                    9487 non-null   object        \n",
            " 8   DATACRIACAOCREDITO             9487 non-null   datetime64[ns]\n",
            " 9   PRAZO                          9487 non-null   int64         \n",
            " 10  CAPACIDADEENDIVIDAMENTO        9487 non-null   int64         \n",
            " 11  VALORCREDITO                   9487 non-null   float64       \n",
            " 12  VALORPRESTACAO                 9487 non-null   float64       \n",
            " 13  PAIS                           9487 non-null   object        \n",
            " 14  PROVINCIA                      9487 non-null   object        \n",
            " 15  IDADE                          9487 non-null   int64         \n",
            " 16  DATACRIACAO                    9487 non-null   datetime64[ns]\n",
            " 17  PROFISSAO                      9487 non-null   int64         \n",
            " 18  CARGO                          9487 non-null   object        \n",
            " 19  CATEGORIAPROFISSIONAL          9487 non-null   object        \n",
            " 20  TIPOCLIENTE                    9487 non-null   object        \n",
            " 21  RENDAMENSAL                    9487 non-null   float64       \n",
            " 22  RENDAANUAL                     9487 non-null   float64       \n",
            " 23  ESTADOCIVIL                    9487 non-null   object        \n",
            " 24  HABILITACOES                   9487 non-null   int64         \n",
            " 25  EstadoCliente                  9487 non-null   int64         \n",
            " 26  SEXO                           9487 non-null   int64         \n",
            " 27  DT_REGISTO_CLIENTE             9487 non-null   datetime64[ns]\n",
            " 28  GRADUADO                       9487 non-null   object        \n",
            "dtypes: datetime64[ns](3), float64(4), int64(14), object(8)\n",
            "memory usage: 2.1+ MB\n"
          ]
        }
      ]
    },
    {
      "cell_type": "code",
      "source": [
        "lista_colunas=df.dtypes.index\n",
        "lista_categoria_colunas=df.dtypes.values\n",
        "lista_numericos=[]\n",
        "lista_categoricos=[]\n",
        "for i in range(len(lista_categoria_colunas)):\n",
        "    if lista_categoria_colunas[i]=='object':\n",
        "        lista_categoricos.append(lista_colunas[i])\n",
        "\n",
        "def convert_dtypes(df,lista_categoricos):\n",
        "    for i in lista_categoricos:\n",
        "        df[i]=df[i].astype('category')\n",
        "convert_dtypes(df,lista_categoricos)\n",
        "df['CAPACIDADEENDIVIDAMENTO']=df['CAPACIDADEENDIVIDAMENTO'].astype('category')\n",
        "df['GRADUADO']=df['GRADUADO'].astype('category')\n",
        "df.drop(columns=['CARGO'],inplace=True)\n",
        "df.drop(columns=['DATACRIACAO'],inplace=True)"
      ],
      "metadata": {
        "id": "mL-nFP5bTOGW"
      },
      "execution_count": 45,
      "outputs": []
    },
    {
      "cell_type": "code",
      "source": [
        "df.info()"
      ],
      "metadata": {
        "colab": {
          "base_uri": "https://localhost:8080/"
        },
        "id": "9VfT8-nHWZ60",
        "outputId": "c7b94ffe-b2f9-44c3-d65c-56d37e852d80"
      },
      "execution_count": 46,
      "outputs": [
        {
          "output_type": "stream",
          "name": "stdout",
          "text": [
            "<class 'pandas.core.frame.DataFrame'>\n",
            "RangeIndex: 9487 entries, 0 to 9486\n",
            "Data columns (total 27 columns):\n",
            " #   Column                         Non-Null Count  Dtype         \n",
            "---  ------                         --------------  -----         \n",
            " 0   NUMEROCLIENTE                  9487 non-null   int64         \n",
            " 1   CODIGOCLIENTE                  9487 non-null   int64         \n",
            " 2   NR_PRESTACOES                  9487 non-null   int64         \n",
            " 3   NR_PREST_PAGAS_ATRASO          9487 non-null   int64         \n",
            " 4   NR_PREST_PAGAS_SEM_ATRASO      9487 non-null   int64         \n",
            " 5   NR_PREST_NAOPAGAS_ATRASO       9487 non-null   int64         \n",
            " 6   NR_PREST_NAO_PAGAS_SEM_ATRASO  9487 non-null   int64         \n",
            " 7   TIPOCREDITO                    9487 non-null   category      \n",
            " 8   DATACRIACAOCREDITO             9487 non-null   datetime64[ns]\n",
            " 9   PRAZO                          9487 non-null   int64         \n",
            " 10  CAPACIDADEENDIVIDAMENTO        9487 non-null   category      \n",
            " 11  VALORCREDITO                   9487 non-null   float64       \n",
            " 12  VALORPRESTACAO                 9487 non-null   float64       \n",
            " 13  PAIS                           9487 non-null   category      \n",
            " 14  PROVINCIA                      9487 non-null   category      \n",
            " 15  IDADE                          9487 non-null   int64         \n",
            " 16  PROFISSAO                      9487 non-null   int64         \n",
            " 17  CATEGORIAPROFISSIONAL          9487 non-null   category      \n",
            " 18  TIPOCLIENTE                    9487 non-null   category      \n",
            " 19  RENDAMENSAL                    9487 non-null   float64       \n",
            " 20  RENDAANUAL                     9487 non-null   float64       \n",
            " 21  ESTADOCIVIL                    9487 non-null   category      \n",
            " 22  HABILITACOES                   9487 non-null   int64         \n",
            " 23  EstadoCliente                  9487 non-null   int64         \n",
            " 24  SEXO                           9487 non-null   int64         \n",
            " 25  DT_REGISTO_CLIENTE             9487 non-null   datetime64[ns]\n",
            " 26  GRADUADO                       9487 non-null   category      \n",
            "dtypes: category(8), datetime64[ns](2), float64(4), int64(13)\n",
            "memory usage: 1.4 MB\n"
          ]
        }
      ]
    },
    {
      "cell_type": "code",
      "source": [
        "df.ESTADOCIVIL.unique()"
      ],
      "metadata": {
        "colab": {
          "base_uri": "https://localhost:8080/"
        },
        "id": "YrxsbUorDwHx",
        "outputId": "8c84b726-273b-45a6-f883-0a2ad2a30191"
      },
      "execution_count": 47,
      "outputs": [
        {
          "output_type": "execute_result",
          "data": {
            "text/plain": [
              "['S', 'C', 'SP', 'EP', 'D', 'V']\n",
              "Categories (6, object): ['C', 'D', 'EP', 'S', 'SP', 'V']"
            ]
          },
          "metadata": {},
          "execution_count": 47
        }
      ]
    },
    {
      "cell_type": "code",
      "source": [
        "pip install category_encoders"
      ],
      "metadata": {
        "colab": {
          "base_uri": "https://localhost:8080/"
        },
        "id": "0jYMAV2UaCU_",
        "outputId": "aea67582-f972-4522-d055-632f0053b70b"
      },
      "execution_count": 48,
      "outputs": [
        {
          "output_type": "stream",
          "name": "stdout",
          "text": [
            "Looking in indexes: https://pypi.org/simple, https://us-python.pkg.dev/colab-wheels/public/simple/\n",
            "Requirement already satisfied: category_encoders in /usr/local/lib/python3.8/dist-packages (2.5.1.post0)\n",
            "Requirement already satisfied: statsmodels>=0.9.0 in /usr/local/lib/python3.8/dist-packages (from category_encoders) (0.12.2)\n",
            "Requirement already satisfied: scikit-learn>=0.20.0 in /usr/local/lib/python3.8/dist-packages (from category_encoders) (1.0.2)\n",
            "Requirement already satisfied: patsy>=0.5.1 in /usr/local/lib/python3.8/dist-packages (from category_encoders) (0.5.3)\n",
            "Requirement already satisfied: pandas>=1.0.5 in /usr/local/lib/python3.8/dist-packages (from category_encoders) (1.3.5)\n",
            "Requirement already satisfied: numpy>=1.14.0 in /usr/local/lib/python3.8/dist-packages (from category_encoders) (1.21.6)\n",
            "Requirement already satisfied: scipy>=1.0.0 in /usr/local/lib/python3.8/dist-packages (from category_encoders) (1.7.3)\n",
            "Requirement already satisfied: pytz>=2017.3 in /usr/local/lib/python3.8/dist-packages (from pandas>=1.0.5->category_encoders) (2022.6)\n",
            "Requirement already satisfied: python-dateutil>=2.7.3 in /usr/local/lib/python3.8/dist-packages (from pandas>=1.0.5->category_encoders) (2.8.2)\n",
            "Requirement already satisfied: six in /usr/local/lib/python3.8/dist-packages (from patsy>=0.5.1->category_encoders) (1.15.0)\n",
            "Requirement already satisfied: joblib>=0.11 in /usr/local/lib/python3.8/dist-packages (from scikit-learn>=0.20.0->category_encoders) (1.2.0)\n",
            "Requirement already satisfied: threadpoolctl>=2.0.0 in /usr/local/lib/python3.8/dist-packages (from scikit-learn>=0.20.0->category_encoders) (3.1.0)\n"
          ]
        }
      ]
    },
    {
      "cell_type": "code",
      "source": [
        "#EFECTUANDO ORDENACAO POR DATA DE CRIACAO DE CREDITO PARA EFEITOS DE SEPARACAO ENTRE \n",
        "#DADOS DE TESTES E DE VALIDACAO\n",
        "dc = df.sort_values('DATACRIACAOCREDITO',ignore_index=True)\n",
        "df_train = dc[dc.index < 6000]\n",
        "df_val = dc[dc.index > 6000]\n",
        "df_val.sort_values('DATACRIACAOCREDITO',inplace=True,ignore_index=True)"
      ],
      "metadata": {
        "id": "W6cS-0KRZR9Q",
        "colab": {
          "base_uri": "https://localhost:8080/"
        },
        "outputId": "e4d77dd2-cfe9-4008-c4d2-3139337d96b1"
      },
      "execution_count": 49,
      "outputs": [
        {
          "output_type": "stream",
          "name": "stderr",
          "text": [
            "/usr/local/lib/python3.8/dist-packages/pandas/util/_decorators.py:311: SettingWithCopyWarning: \n",
            "A value is trying to be set on a copy of a slice from a DataFrame\n",
            "\n",
            "See the caveats in the documentation: https://pandas.pydata.org/pandas-docs/stable/user_guide/indexing.html#returning-a-view-versus-a-copy\n",
            "  return func(*args, **kwargs)\n"
          ]
        }
      ]
    },
    {
      "cell_type": "code",
      "source": [
        "dc = dc[['NUMEROCLIENTE',\n",
        " 'CODIGOCLIENTE',\n",
        " 'NR_PRESTACOES',\n",
        " 'NR_PREST_PAGAS_ATRASO',\n",
        " 'NR_PREST_PAGAS_SEM_ATRASO',\n",
        " 'NR_PREST_NAOPAGAS_ATRASO',\n",
        " 'NR_PREST_NAO_PAGAS_SEM_ATRASO',\n",
        " 'TIPOCREDITO',\n",
        " 'DATACRIACAOCREDITO',\n",
        " 'PRAZO',\n",
        " 'CAPACIDADEENDIVIDAMENTO',\n",
        " 'VALORCREDITO',\n",
        " 'VALORPRESTACAO',\n",
        " 'PAIS',\n",
        " 'PROVINCIA',\n",
        " 'IDADE',\n",
        " 'PROFISSAO',\n",
        " 'CATEGORIAPROFISSIONAL',\n",
        " 'TIPOCLIENTE',\n",
        " 'RENDAMENSAL',\n",
        " 'RENDAANUAL',\n",
        " 'ESTADOCIVIL',\n",
        " 'HABILITACOES',\n",
        " 'SEXO',\n",
        " 'DT_REGISTO_CLIENTE',\n",
        " 'GRADUADO',\n",
        " 'EstadoCliente']]"
      ],
      "metadata": {
        "id": "8CSrGlBso6OQ"
      },
      "execution_count": 50,
      "outputs": []
    },
    {
      "cell_type": "code",
      "source": [
        "import matplotlib.pyplot as plt"
      ],
      "metadata": {
        "id": "OUdq9HnTqxsM"
      },
      "execution_count": 51,
      "outputs": []
    },
    {
      "cell_type": "code",
      "source": [
        "import seaborn as sns\n",
        "import numpy as np"
      ],
      "metadata": {
        "id": "Ng_TbzxJq_ls"
      },
      "execution_count": 52,
      "outputs": []
    },
    {
      "cell_type": "code",
      "source": [
        "XX = dc.corr()"
      ],
      "metadata": {
        "id": "ze7oA75Eqenv"
      },
      "execution_count": 53,
      "outputs": []
    },
    {
      "cell_type": "code",
      "source": [
        "# plt.figure(figsize=(16,6))\n",
        "# sns.heatmap(data=XX, annot=True)\n",
        "# %matplotlib (line = \"inline\");"
      ],
      "metadata": {
        "id": "iuuZdAQXqjU9"
      },
      "execution_count": 54,
      "outputs": []
    },
    {
      "cell_type": "markdown",
      "source": [
        "# OneHotEncoding"
      ],
      "metadata": {
        "id": "b7n1wnl4cGYF"
      }
    },
    {
      "cell_type": "code",
      "source": [
        "from category_encoders.one_hot import OneHotEncoder\n",
        "enc = OneHotEncoder(cols=['TIPOCREDITO','CAPACIDADEENDIVIDAMENTO','PAIS','PROVINCIA','CATEGORIAPROFISSIONAL','TIPOCLIENTE','ESTADOCIVIL','SEXO','GRADUADO'])\n",
        "enc.fit(df_train)\n",
        "\n",
        "df_train_ohe = enc.transform(df_train)\n",
        "df_val_ohe = enc.transform(df_val)\n",
        "\n",
        "df_train_ohe = enc.transform(df_train)\n",
        "df_val_ohe = enc.transform(df_val)"
      ],
      "metadata": {
        "id": "MGD23y52Zrsf"
      },
      "execution_count": 55,
      "outputs": []
    },
    {
      "cell_type": "code",
      "source": [
        "X_train = df_train_ohe.drop(['DT_REGISTO_CLIENTE','EstadoCliente','DATACRIACAOCREDITO'], axis=1)\n",
        "X_val = df_val_ohe.drop(['DT_REGISTO_CLIENTE','EstadoCliente','DATACRIACAOCREDITO'], axis=1)\n",
        "\n",
        "y_train = df_train_ohe['EstadoCliente'] # Variavel Independente\n",
        "y_val = df_val_ohe['EstadoCliente'] # Variavel Independente"
      ],
      "metadata": {
        "id": "cfU0ScpyaTLU"
      },
      "execution_count": 56,
      "outputs": []
    },
    {
      "cell_type": "markdown",
      "source": [
        "## Random Forest"
      ],
      "metadata": {
        "id": "8Khx-_d0iwhU"
      }
    },
    {
      "cell_type": "code",
      "source": [
        "from sklearn.ensemble import RandomForestRegressor\n",
        "mdl = RandomForestRegressor(n_jobs=6, n_estimators=100, random_state=22)\n",
        "mdl.fit(X_train, y_train)\n",
        "\n",
        "p_ohe = mdl.predict(X_val)\n",
        "from sklearn.metrics import mean_absolute_error\n",
        "mean_absolute_error(y_val, p_ohe)\n"
      ],
      "metadata": {
        "colab": {
          "base_uri": "https://localhost:8080/"
        },
        "id": "JNETPrK5SOZl",
        "outputId": "d095ca24-45c2-49b3-bfb0-0a69be234134"
      },
      "execution_count": 57,
      "outputs": [
        {
          "output_type": "execute_result",
          "data": {
            "text/plain": [
              "0.01068273092369478"
            ]
          },
          "metadata": {},
          "execution_count": 57
        }
      ]
    },
    {
      "cell_type": "markdown",
      "source": [
        "## Xgboost"
      ],
      "metadata": {
        "id": "6iVFsi_nsSB4"
      }
    },
    {
      "cell_type": "code",
      "source": [
        "from xgboost import XGBClassifier"
      ],
      "metadata": {
        "id": "jfi4-j-rsdoP"
      },
      "execution_count": 58,
      "outputs": []
    },
    {
      "cell_type": "code",
      "source": [
        "clf = XGBClassifier(n_estimators=1000,learning_rate=0.01)"
      ],
      "metadata": {
        "id": "KXZ8-VQcsr_B"
      },
      "execution_count": 59,
      "outputs": []
    },
    {
      "cell_type": "code",
      "source": [
        "# clf.fit(X_train, y_train)\n",
        "# accuracy = clf.score()\n",
        "\n",
        "# p_ohe_xgb = clf.predict(X_val)\n",
        "# mean_absolute_error(y_val, p_ohe_xgb)"
      ],
      "metadata": {
        "id": "0Cl-vMCZs9BP"
      },
      "execution_count": 60,
      "outputs": []
    },
    {
      "cell_type": "markdown",
      "source": [
        "## Logistc Regretion WITH ONE HOT ENCODER"
      ],
      "metadata": {
        "id": "QvZU1wB0oOxJ"
      }
    },
    {
      "cell_type": "code",
      "source": [
        "dc_r0 = dc\n",
        "ordl = OneHotEncoder(cols=['TIPOCREDITO','CAPACIDADEENDIVIDAMENTO','PAIS','PROVINCIA','CATEGORIAPROFISSIONAL','TIPOCLIENTE','ESTADOCIVIL','SEXO','GRADUADO'])\n",
        "ordl.fit(dc_r0)\n",
        "\n",
        "Log = ordl.transform(dc_r0)"
      ],
      "metadata": {
        "id": "V-X2FCwWoTtS"
      },
      "execution_count": 61,
      "outputs": []
    },
    {
      "cell_type": "code",
      "source": [
        "Log.drop(['CODIGOCLIENTE','NUMEROCLIENTE','DATACRIACAOCREDITO','DT_REGISTO_CLIENTE'],inplace=True,axis=1)"
      ],
      "metadata": {
        "id": "FLRagBWtwcgp"
      },
      "execution_count": 62,
      "outputs": []
    },
    {
      "cell_type": "code",
      "source": [
        "Log.columns"
      ],
      "metadata": {
        "id": "-mZoJrEtxpHO",
        "colab": {
          "base_uri": "https://localhost:8080/"
        },
        "outputId": "d026b843-2600-4801-d1c7-8d7b1d7d8465"
      },
      "execution_count": 88,
      "outputs": [
        {
          "output_type": "execute_result",
          "data": {
            "text/plain": [
              "Index(['NR_PRESTACOES', 'NR_PREST_PAGAS_ATRASO', 'NR_PREST_PAGAS_SEM_ATRASO',\n",
              "       'NR_PREST_NAOPAGAS_ATRASO', 'NR_PREST_NAO_PAGAS_SEM_ATRASO',\n",
              "       'TIPOCREDITO_1', 'TIPOCREDITO_2', 'PRAZO', 'CAPACIDADEENDIVIDAMENTO_1',\n",
              "       'CAPACIDADEENDIVIDAMENTO_2', 'VALORCREDITO', 'VALORPRESTACAO', 'PAIS_1',\n",
              "       'PAIS_2', 'PAIS_3', 'PAIS_4', 'PROVINCIA_1', 'PROVINCIA_2',\n",
              "       'PROVINCIA_3', 'PROVINCIA_4', 'PROVINCIA_5', 'PROVINCIA_6',\n",
              "       'PROVINCIA_7', 'PROVINCIA_8', 'PROVINCIA_9', 'IDADE', 'PROFISSAO',\n",
              "       'CATEGORIAPROFISSIONAL_1', 'CATEGORIAPROFISSIONAL_2',\n",
              "       'CATEGORIAPROFISSIONAL_3', 'CATEGORIAPROFISSIONAL_4',\n",
              "       'CATEGORIAPROFISSIONAL_5', 'CATEGORIAPROFISSIONAL_6',\n",
              "       'CATEGORIAPROFISSIONAL_7', 'CATEGORIAPROFISSIONAL_8',\n",
              "       'CATEGORIAPROFISSIONAL_9', 'CATEGORIAPROFISSIONAL_10',\n",
              "       'CATEGORIAPROFISSIONAL_11', 'CATEGORIAPROFISSIONAL_12',\n",
              "       'CATEGORIAPROFISSIONAL_13', 'CATEGORIAPROFISSIONAL_14',\n",
              "       'CATEGORIAPROFISSIONAL_15', 'CATEGORIAPROFISSIONAL_16', 'TIPOCLIENTE_1',\n",
              "       'TIPOCLIENTE_2', 'RENDAMENSAL', 'RENDAANUAL', 'ESTADOCIVIL_1',\n",
              "       'ESTADOCIVIL_2', 'ESTADOCIVIL_3', 'ESTADOCIVIL_4', 'ESTADOCIVIL_5',\n",
              "       'ESTADOCIVIL_6', 'HABILITACOES', 'SEXO_1', 'SEXO_2', 'SEXO_3',\n",
              "       'GRADUADO_1', 'GRADUADO_2', 'EstadoCliente'],\n",
              "      dtype='object')"
            ]
          },
          "metadata": {},
          "execution_count": 88
        }
      ]
    },
    {
      "cell_type": "code",
      "source": [
        "m = Log.iloc[0:9487,0:59].values\n",
        "n = Log.iloc[0:9487,59:60].values"
      ],
      "metadata": {
        "id": "SJb-0mwOw7v-"
      },
      "execution_count": 64,
      "outputs": []
    },
    {
      "cell_type": "code",
      "source": [
        "#Log.drop(columns=['DT_REGISTO_CLIENTE','DATACRIACAOCREDITO'],inplace=True,axis=1)"
      ],
      "metadata": {
        "id": "FeeZiu5xHwUl"
      },
      "execution_count": 65,
      "outputs": []
    },
    {
      "cell_type": "code",
      "source": [
        "from sklearn.model_selection import train_test_split\n",
        "M_train,M_test,n_train,n_test = train_test_split(m,n, test_size=0.3,random_state=0)"
      ],
      "metadata": {
        "id": "9S9o2UVixFQU"
      },
      "execution_count": 66,
      "outputs": []
    },
    {
      "cell_type": "code",
      "source": [
        "from sklearn.preprocessing import StandardScaler\n",
        "scc = StandardScaler()\n",
        "M_train = np.squeeze(scc.fit_transform(M_train.reshape(-1, 1)))\n",
        "M_test = np.squeeze(scc.fit_transform(M_test.reshape(-1, 1)))\n",
        "\n",
        "M_train = scc.fit_transform(M_train.reshape(-1, 1))\n",
        "M_test = scc.transform(M_test.reshape(-1, 1))\n"
      ],
      "metadata": {
        "id": "D9K1vdATxSBj"
      },
      "execution_count": 68,
      "outputs": []
    },
    {
      "cell_type": "code",
      "source": [
        "M_train[0]"
      ],
      "metadata": {
        "colab": {
          "base_uri": "https://localhost:8080/"
        },
        "id": "LtB0ufa8tOzW",
        "outputId": "8540fb7f-bbe6-4d7d-a8a1-503ea8e0c126"
      },
      "execution_count": 87,
      "outputs": [
        {
          "output_type": "execute_result",
          "data": {
            "text/plain": [
              "array([-0.03787513])"
            ]
          },
          "metadata": {},
          "execution_count": 87
        }
      ]
    },
    {
      "cell_type": "code",
      "source": [
        "M_train"
      ],
      "metadata": {
        "colab": {
          "base_uri": "https://localhost:8080/"
        },
        "id": "BNfDUglOz0JG",
        "outputId": "9732f8ef-ae3d-4edc-a6ce-5dd4d422cedb"
      },
      "execution_count": 71,
      "outputs": [
        {
          "output_type": "execute_result",
          "data": {
            "text/plain": [
              "array([[-0.03787513],\n",
              "       [-0.03787914],\n",
              "       [-0.03787513],\n",
              "       ...,\n",
              "       [-0.03787914],\n",
              "       [-0.03787914],\n",
              "       [-0.03787513]])"
            ]
          },
          "metadata": {},
          "execution_count": 71
        }
      ]
    },
    {
      "cell_type": "code",
      "source": [
        "from sklearn.linear_model import LogisticRegression\n",
        "model1 = LogisticRegression()\n",
        "model1.fit(M_train.reshape(-1, 1),n_train.reshape(-1, 1))"
      ],
      "metadata": {
        "colab": {
          "base_uri": "https://localhost:8080/",
          "height": 380
        },
        "id": "MKsNByn5xS9o",
        "outputId": "7bff9520-4b2b-4d1d-b0fc-fb86ceed18a1"
      },
      "execution_count": 72,
      "outputs": [
        {
          "output_type": "stream",
          "name": "stderr",
          "text": [
            "/usr/local/lib/python3.8/dist-packages/sklearn/utils/validation.py:993: DataConversionWarning: A column-vector y was passed when a 1d array was expected. Please change the shape of y to (n_samples, ), for example using ravel().\n",
            "  y = column_or_1d(y, warn=True)\n"
          ]
        },
        {
          "output_type": "error",
          "ename": "ValueError",
          "evalue": "ignored",
          "traceback": [
            "\u001b[0;31m---------------------------------------------------------------------------\u001b[0m",
            "\u001b[0;31mValueError\u001b[0m                                Traceback (most recent call last)",
            "\u001b[0;32m<ipython-input-72-aebd5302a9de>\u001b[0m in \u001b[0;36m<module>\u001b[0;34m\u001b[0m\n\u001b[1;32m      1\u001b[0m \u001b[0;32mfrom\u001b[0m \u001b[0msklearn\u001b[0m\u001b[0;34m.\u001b[0m\u001b[0mlinear_model\u001b[0m \u001b[0;32mimport\u001b[0m \u001b[0mLogisticRegression\u001b[0m\u001b[0;34m\u001b[0m\u001b[0;34m\u001b[0m\u001b[0m\n\u001b[1;32m      2\u001b[0m \u001b[0mmodel1\u001b[0m \u001b[0;34m=\u001b[0m \u001b[0mLogisticRegression\u001b[0m\u001b[0;34m(\u001b[0m\u001b[0;34m)\u001b[0m\u001b[0;34m\u001b[0m\u001b[0;34m\u001b[0m\u001b[0m\n\u001b[0;32m----> 3\u001b[0;31m \u001b[0mmodel1\u001b[0m\u001b[0;34m.\u001b[0m\u001b[0mfit\u001b[0m\u001b[0;34m(\u001b[0m\u001b[0mM_train\u001b[0m\u001b[0;34m.\u001b[0m\u001b[0mreshape\u001b[0m\u001b[0;34m(\u001b[0m\u001b[0;34m-\u001b[0m\u001b[0;36m1\u001b[0m\u001b[0;34m,\u001b[0m \u001b[0;36m1\u001b[0m\u001b[0;34m)\u001b[0m\u001b[0;34m,\u001b[0m\u001b[0mn_train\u001b[0m\u001b[0;34m.\u001b[0m\u001b[0mreshape\u001b[0m\u001b[0;34m(\u001b[0m\u001b[0;34m-\u001b[0m\u001b[0;36m1\u001b[0m\u001b[0;34m,\u001b[0m \u001b[0;36m1\u001b[0m\u001b[0;34m)\u001b[0m\u001b[0;34m)\u001b[0m\u001b[0;34m\u001b[0m\u001b[0;34m\u001b[0m\u001b[0m\n\u001b[0m",
            "\u001b[0;32m/usr/local/lib/python3.8/dist-packages/sklearn/linear_model/_logistic.py\u001b[0m in \u001b[0;36mfit\u001b[0;34m(self, X, y, sample_weight)\u001b[0m\n\u001b[1;32m   1506\u001b[0m             \u001b[0m_dtype\u001b[0m \u001b[0;34m=\u001b[0m \u001b[0;34m[\u001b[0m\u001b[0mnp\u001b[0m\u001b[0;34m.\u001b[0m\u001b[0mfloat64\u001b[0m\u001b[0;34m,\u001b[0m \u001b[0mnp\u001b[0m\u001b[0;34m.\u001b[0m\u001b[0mfloat32\u001b[0m\u001b[0;34m]\u001b[0m\u001b[0;34m\u001b[0m\u001b[0;34m\u001b[0m\u001b[0m\n\u001b[1;32m   1507\u001b[0m \u001b[0;34m\u001b[0m\u001b[0m\n\u001b[0;32m-> 1508\u001b[0;31m         X, y = self._validate_data(\n\u001b[0m\u001b[1;32m   1509\u001b[0m             \u001b[0mX\u001b[0m\u001b[0;34m,\u001b[0m\u001b[0;34m\u001b[0m\u001b[0;34m\u001b[0m\u001b[0m\n\u001b[1;32m   1510\u001b[0m             \u001b[0my\u001b[0m\u001b[0;34m,\u001b[0m\u001b[0;34m\u001b[0m\u001b[0;34m\u001b[0m\u001b[0m\n",
            "\u001b[0;32m/usr/local/lib/python3.8/dist-packages/sklearn/base.py\u001b[0m in \u001b[0;36m_validate_data\u001b[0;34m(self, X, y, reset, validate_separately, **check_params)\u001b[0m\n\u001b[1;32m    579\u001b[0m                 \u001b[0my\u001b[0m \u001b[0;34m=\u001b[0m \u001b[0mcheck_array\u001b[0m\u001b[0;34m(\u001b[0m\u001b[0my\u001b[0m\u001b[0;34m,\u001b[0m \u001b[0;34m**\u001b[0m\u001b[0mcheck_y_params\u001b[0m\u001b[0;34m)\u001b[0m\u001b[0;34m\u001b[0m\u001b[0;34m\u001b[0m\u001b[0m\n\u001b[1;32m    580\u001b[0m             \u001b[0;32melse\u001b[0m\u001b[0;34m:\u001b[0m\u001b[0;34m\u001b[0m\u001b[0;34m\u001b[0m\u001b[0m\n\u001b[0;32m--> 581\u001b[0;31m                 \u001b[0mX\u001b[0m\u001b[0;34m,\u001b[0m \u001b[0my\u001b[0m \u001b[0;34m=\u001b[0m \u001b[0mcheck_X_y\u001b[0m\u001b[0;34m(\u001b[0m\u001b[0mX\u001b[0m\u001b[0;34m,\u001b[0m \u001b[0my\u001b[0m\u001b[0;34m,\u001b[0m \u001b[0;34m**\u001b[0m\u001b[0mcheck_params\u001b[0m\u001b[0;34m)\u001b[0m\u001b[0;34m\u001b[0m\u001b[0;34m\u001b[0m\u001b[0m\n\u001b[0m\u001b[1;32m    582\u001b[0m             \u001b[0mout\u001b[0m \u001b[0;34m=\u001b[0m \u001b[0mX\u001b[0m\u001b[0;34m,\u001b[0m \u001b[0my\u001b[0m\u001b[0;34m\u001b[0m\u001b[0;34m\u001b[0m\u001b[0m\n\u001b[1;32m    583\u001b[0m \u001b[0;34m\u001b[0m\u001b[0m\n",
            "\u001b[0;32m/usr/local/lib/python3.8/dist-packages/sklearn/utils/validation.py\u001b[0m in \u001b[0;36mcheck_X_y\u001b[0;34m(X, y, accept_sparse, accept_large_sparse, dtype, order, copy, force_all_finite, ensure_2d, allow_nd, multi_output, ensure_min_samples, ensure_min_features, y_numeric, estimator)\u001b[0m\n\u001b[1;32m    979\u001b[0m     \u001b[0my\u001b[0m \u001b[0;34m=\u001b[0m \u001b[0m_check_y\u001b[0m\u001b[0;34m(\u001b[0m\u001b[0my\u001b[0m\u001b[0;34m,\u001b[0m \u001b[0mmulti_output\u001b[0m\u001b[0;34m=\u001b[0m\u001b[0mmulti_output\u001b[0m\u001b[0;34m,\u001b[0m \u001b[0my_numeric\u001b[0m\u001b[0;34m=\u001b[0m\u001b[0my_numeric\u001b[0m\u001b[0;34m)\u001b[0m\u001b[0;34m\u001b[0m\u001b[0;34m\u001b[0m\u001b[0m\n\u001b[1;32m    980\u001b[0m \u001b[0;34m\u001b[0m\u001b[0m\n\u001b[0;32m--> 981\u001b[0;31m     \u001b[0mcheck_consistent_length\u001b[0m\u001b[0;34m(\u001b[0m\u001b[0mX\u001b[0m\u001b[0;34m,\u001b[0m \u001b[0my\u001b[0m\u001b[0;34m)\u001b[0m\u001b[0;34m\u001b[0m\u001b[0;34m\u001b[0m\u001b[0m\n\u001b[0m\u001b[1;32m    982\u001b[0m \u001b[0;34m\u001b[0m\u001b[0m\n\u001b[1;32m    983\u001b[0m     \u001b[0;32mreturn\u001b[0m \u001b[0mX\u001b[0m\u001b[0;34m,\u001b[0m \u001b[0my\u001b[0m\u001b[0;34m\u001b[0m\u001b[0;34m\u001b[0m\u001b[0m\n",
            "\u001b[0;32m/usr/local/lib/python3.8/dist-packages/sklearn/utils/validation.py\u001b[0m in \u001b[0;36mcheck_consistent_length\u001b[0;34m(*arrays)\u001b[0m\n\u001b[1;32m    330\u001b[0m     \u001b[0muniques\u001b[0m \u001b[0;34m=\u001b[0m \u001b[0mnp\u001b[0m\u001b[0;34m.\u001b[0m\u001b[0munique\u001b[0m\u001b[0;34m(\u001b[0m\u001b[0mlengths\u001b[0m\u001b[0;34m)\u001b[0m\u001b[0;34m\u001b[0m\u001b[0;34m\u001b[0m\u001b[0m\n\u001b[1;32m    331\u001b[0m     \u001b[0;32mif\u001b[0m \u001b[0mlen\u001b[0m\u001b[0;34m(\u001b[0m\u001b[0muniques\u001b[0m\u001b[0;34m)\u001b[0m \u001b[0;34m>\u001b[0m \u001b[0;36m1\u001b[0m\u001b[0;34m:\u001b[0m\u001b[0;34m\u001b[0m\u001b[0;34m\u001b[0m\u001b[0m\n\u001b[0;32m--> 332\u001b[0;31m         raise ValueError(\n\u001b[0m\u001b[1;32m    333\u001b[0m             \u001b[0;34m\"Found input variables with inconsistent numbers of samples: %r\"\u001b[0m\u001b[0;34m\u001b[0m\u001b[0;34m\u001b[0m\u001b[0m\n\u001b[1;32m    334\u001b[0m             \u001b[0;34m%\u001b[0m \u001b[0;34m[\u001b[0m\u001b[0mint\u001b[0m\u001b[0;34m(\u001b[0m\u001b[0ml\u001b[0m\u001b[0;34m)\u001b[0m \u001b[0;32mfor\u001b[0m \u001b[0ml\u001b[0m \u001b[0;32min\u001b[0m \u001b[0mlengths\u001b[0m\u001b[0;34m]\u001b[0m\u001b[0;34m\u001b[0m\u001b[0;34m\u001b[0m\u001b[0m\n",
            "\u001b[0;31mValueError\u001b[0m: Found input variables with inconsistent numbers of samples: [391760, 6640]"
          ]
        }
      ]
    },
    {
      "cell_type": "code",
      "source": [
        "from sklearn.metrics import accuracy_score,confusion_matrix,classification_report,plot_confusion_matrix\n",
        "n_pread = model1.predict(M_test)"
      ],
      "metadata": {
        "id": "H2YW-1aKxWMS"
      },
      "execution_count": null,
      "outputs": []
    },
    {
      "cell_type": "code",
      "source": [
        "accuracy_score(n_test,n_pread)*100"
      ],
      "metadata": {
        "id": "7rm6W4V6xZeH"
      },
      "execution_count": null,
      "outputs": []
    },
    {
      "cell_type": "code",
      "source": [
        "Log.iloc[100:101,0:60]"
      ],
      "metadata": {
        "id": "VXIaYvmcUQoN"
      },
      "execution_count": null,
      "outputs": []
    },
    {
      "cell_type": "code",
      "source": [
        "model1.predict(scc.transform(Log.iloc[100:101,0:59])) "
      ],
      "metadata": {
        "id": "7op8JIBzTvGW"
      },
      "execution_count": null,
      "outputs": []
    },
    {
      "cell_type": "code",
      "source": [
        "XX = dc['CAPACIDADEENDIVIDAMENTO']"
      ],
      "metadata": {
        "id": "4_CibJFxzhVI"
      },
      "execution_count": null,
      "outputs": []
    },
    {
      "cell_type": "markdown",
      "source": [
        "# ORDINAL ENCODING"
      ],
      "metadata": {
        "id": "N2cYWT-wa7_a"
      }
    },
    {
      "cell_type": "code",
      "source": [
        "from category_encoders.ordinal import OrdinalEncoder\n",
        "ent = OrdinalEncoder(cols=['TIPOCREDITO','CAPACIDADEENDIVIDAMENTO','PAIS','PROVINCIA','CATEGORIAPROFISSIONAL','TIPOCLIENTE','ESTADOCIVIL','SEXO','GRADUADO'])\n",
        "ent.fit(df_train)\n",
        "df_train_ord = ent.transform(df_train)\n",
        "df_val_ord = ent.transform(df_val)\n",
        "\n",
        "X_train_ord = df_train_ord.drop(['DT_REGISTO_CLIENTE','DATACRIACAOCREDITO','EstadoCliente','NUMEROCLIENTE'], axis=1)\n",
        "X_val_ord = df_val_ord.drop(['DT_REGISTO_CLIENTE','DATACRIACAOCREDITO','EstadoCliente','NUMEROCLIENTE'], axis=1)\n",
        "\n",
        "y_train_ord = df_train_ohe['EstadoCliente'] # Variavel Independente\n",
        "y_val_ord = df_val_ohe['EstadoCliente'] # Variavel Independente"
      ],
      "metadata": {
        "id": "tYYVV6lcbJ1S"
      },
      "execution_count": null,
      "outputs": []
    },
    {
      "cell_type": "code",
      "source": [
        "mdl = RandomForestRegressor(n_jobs=6, n_estimators=1000, random_state=22)\n",
        "mdl.fit(X_train_ord, y_train_ord)\n",
        "\n",
        "p_ord = mdl.predict(X_val_ord)\n",
        "mean_absolute_error(y_val_ord, p_ord)"
      ],
      "metadata": {
        "id": "8ISadiwkbSQi"
      },
      "execution_count": null,
      "outputs": []
    },
    {
      "cell_type": "markdown",
      "source": [
        "## Logistic Regretion with OrdinalEncoder"
      ],
      "metadata": {
        "id": "hW2zo_LeohQ4"
      }
    },
    {
      "cell_type": "code",
      "source": [
        "dc_r = dc\n",
        "rl = OrdinalEncoder(cols=['TIPOCREDITO','CAPACIDADEENDIVIDAMENTO','PAIS','PROVINCIA','CATEGORIAPROFISSIONAL','TIPOCLIENTE','ESTADOCIVIL','SEXO','GRADUADO'])\n",
        "rl.fit(dc_r)\n",
        "\n",
        "df_train_rl = ent.transform(dc_r)"
      ],
      "metadata": {
        "id": "oDJV-ZNwelWF"
      },
      "execution_count": null,
      "outputs": []
    },
    {
      "cell_type": "code",
      "source": [
        "df_train_rl.iloc[0:1,]"
      ],
      "metadata": {
        "id": "0NSZVtzXHPfq"
      },
      "execution_count": null,
      "outputs": []
    },
    {
      "cell_type": "code",
      "source": [
        "df_train_rl.drop(['DATACRIACAOCREDITO','DT_REGISTO_CLIENTE',],inplace=True,axis=1)\n",
        "df_train_rl.drop(['CODIGOCLIENTE','NUMEROCLIENTE',],inplace=True,axis=1)"
      ],
      "metadata": {
        "id": "l_Y7IJ7BfH0J"
      },
      "execution_count": null,
      "outputs": []
    },
    {
      "cell_type": "code",
      "source": [
        "cols = list(df.columns.values)"
      ],
      "metadata": {
        "id": "TmO35z67haP7"
      },
      "execution_count": null,
      "outputs": []
    },
    {
      "cell_type": "code",
      "source": [
        "df_train_rl.iloc[0:9,0:22]"
      ],
      "metadata": {
        "id": "q1nDYc-TjQ26"
      },
      "execution_count": null,
      "outputs": []
    },
    {
      "cell_type": "code",
      "source": [
        "df_train_rl.iloc[0:1,0:22]"
      ],
      "metadata": {
        "id": "n79rSD4qnHSx"
      },
      "execution_count": null,
      "outputs": []
    },
    {
      "cell_type": "code",
      "source": [
        "x = df_train_rl.iloc[0:9487,0:22].values\n",
        "y = df_train_rl.iloc[0:9487,22:23].values"
      ],
      "metadata": {
        "id": "go8Jr38AbcSc"
      },
      "execution_count": null,
      "outputs": []
    },
    {
      "cell_type": "code",
      "source": [
        "from sklearn.model_selection import train_test_split\n",
        "X_train,X_test,y_train,y_test = train_test_split(x,y, test_size=0.2,random_state=101)"
      ],
      "metadata": {
        "id": "6seYTDepTKQy"
      },
      "execution_count": null,
      "outputs": []
    },
    {
      "cell_type": "code",
      "source": [
        "from sklearn.preprocessing import StandardScaler\n",
        "sc = StandardScaler()\n",
        "X_train = sc.fit_transform(X_train)\n",
        "X_test = sc.transform(X_test)"
      ],
      "metadata": {
        "id": "g2H82gMEhczJ"
      },
      "execution_count": null,
      "outputs": []
    },
    {
      "cell_type": "code",
      "source": [
        "from sklearn.linear_model import LogisticRegression\n",
        "model = LogisticRegression()\n",
        "model.fit(X_train,y_train)"
      ],
      "metadata": {
        "id": "GCI5WBe7ZK2H"
      },
      "execution_count": null,
      "outputs": []
    },
    {
      "cell_type": "code",
      "source": [
        "X_train[0]"
      ],
      "metadata": {
        "id": "B_JGB2RWmtas"
      },
      "execution_count": null,
      "outputs": []
    },
    {
      "cell_type": "code",
      "source": [
        "from sklearn.metrics import accuracy_score,confusion_matrix,classification_report,plot_confusion_matrix\n",
        "ypread = model.predict(X_test)"
      ],
      "metadata": {
        "id": "p7sdE95RbvZH"
      },
      "execution_count": null,
      "outputs": []
    },
    {
      "cell_type": "code",
      "source": [
        "accuracy_score(y_test,ypread)"
      ],
      "metadata": {
        "id": "Sz1ERuDIeLRG"
      },
      "execution_count": null,
      "outputs": []
    },
    {
      "cell_type": "code",
      "source": [
        "confusion_matrix(y_test,ypread)"
      ],
      "metadata": {
        "id": "v6AkZ4IHeZFL"
      },
      "execution_count": null,
      "outputs": []
    },
    {
      "cell_type": "code",
      "source": [
        "plot_confusion_matrix(model,X_test,y_test)"
      ],
      "metadata": {
        "id": "sRhmaoYygtyc"
      },
      "execution_count": null,
      "outputs": []
    },
    {
      "cell_type": "code",
      "source": [
        "print(classification_report(y_test,ypread))"
      ],
      "metadata": {
        "id": "Q1NoFrQYg7j6"
      },
      "execution_count": null,
      "outputs": []
    },
    {
      "cell_type": "code",
      "source": [
        "df_train_rl.iloc[2500:2501,1:]"
      ],
      "metadata": {
        "id": "Ed3GxgozH4_J"
      },
      "execution_count": null,
      "outputs": []
    },
    {
      "cell_type": "code",
      "source": [
        "from sklearn.linear_model import LogisticRegressionCV\n",
        "model_CV = LogisticRegressionCV()\n",
        "model_CV.fit(X_train,y_train) "
      ],
      "metadata": {
        "id": "Jb0APBiPhXar"
      },
      "execution_count": null,
      "outputs": []
    },
    {
      "cell_type": "code",
      "source": [
        "model_CV.get_params()"
      ],
      "metadata": {
        "id": "Ljgv-H_Ph_-L"
      },
      "execution_count": null,
      "outputs": []
    },
    {
      "cell_type": "code",
      "source": [
        "model_CV.coef_"
      ],
      "metadata": {
        "id": "mt7PF8_8iNJl"
      },
      "execution_count": null,
      "outputs": []
    },
    {
      "cell_type": "code",
      "source": [
        "from sklearn.metrics import confusion_matrix,classification_report,plot_confusion_matrix"
      ],
      "metadata": {
        "id": "rdKiszIViUJQ"
      },
      "execution_count": null,
      "outputs": []
    },
    {
      "cell_type": "code",
      "source": [
        "y_pred = model_CV.predict(X_test)"
      ],
      "metadata": {
        "id": "zGV-Pg8TicGs"
      },
      "execution_count": null,
      "outputs": []
    },
    {
      "cell_type": "code",
      "source": [
        "accuracy_score(y_test,y_pred)"
      ],
      "metadata": {
        "id": "6vCZZtC0je2L"
      },
      "execution_count": null,
      "outputs": []
    },
    {
      "cell_type": "code",
      "source": [
        "plot_confusion_matrix(model_CV,X_test,y_test)"
      ],
      "metadata": {
        "id": "SLb9BS7ikXRl"
      },
      "execution_count": null,
      "outputs": []
    },
    {
      "cell_type": "code",
      "source": [
        "print(classification_report(y_test,y_pred))"
      ],
      "metadata": {
        "id": "nMT9frMTkw9m"
      },
      "execution_count": null,
      "outputs": []
    },
    {
      "cell_type": "code",
      "source": [
        "from sklearn.metrics import precision_recall_curve,plot_precision_recall_curve,plot_roc_curve"
      ],
      "metadata": {
        "id": "4zLglbgIlDvt"
      },
      "execution_count": null,
      "outputs": []
    },
    {
      "cell_type": "code",
      "source": [
        "plot_precision_recall_curve(model_CV,X_test,y_test);"
      ],
      "metadata": {
        "id": "nOh3Rl2YlRB8"
      },
      "execution_count": null,
      "outputs": []
    },
    {
      "cell_type": "code",
      "source": [
        "plot_roc_curve(model_CV,X_test,y_test);"
      ],
      "metadata": {
        "id": "j5I2ZSw8lYKc"
      },
      "execution_count": null,
      "outputs": []
    },
    {
      "cell_type": "markdown",
      "source": [
        "# Implementacao"
      ],
      "metadata": {
        "id": "SMMCGX5JVxyF"
      }
    },
    {
      "cell_type": "code",
      "source": [
        "import pickle"
      ],
      "metadata": {
        "id": "kliLHhJTV3W5"
      },
      "execution_count": null,
      "outputs": []
    },
    {
      "cell_type": "code",
      "source": [
        "pickle.dump(model1,open('/content/drive/MyDrive/Monografia/Monografia 01/Parte Tecnica/Parte 1/regmodelOHE.pkl','wb'))"
      ],
      "metadata": {
        "id": "UfdWJWPaV89Y"
      },
      "execution_count": null,
      "outputs": []
    },
    {
      "cell_type": "code",
      "source": [
        "pickled_model = pickle.load(open('/content/drive/MyDrive/Monografia/Monografia 01/Parte Tecnica/Parte 1/regmodelOHE.pkl','rb'))"
      ],
      "metadata": {
        "id": "JTv_dkMAWImy"
      },
      "execution_count": null,
      "outputs": []
    },
    {
      "cell_type": "code",
      "source": [
        "Log.iloc[9000:9001,0:59]"
      ],
      "metadata": {
        "id": "CKx70duS-0IA"
      },
      "execution_count": null,
      "outputs": []
    },
    {
      "cell_type": "code",
      "source": [
        "pickled_model.predict(scc.transform(Log.iloc[9000:9001,0:59]))"
      ],
      "metadata": {
        "id": "tcKyC-aXYQmL"
      },
      "execution_count": null,
      "outputs": []
    },
    {
      "cell_type": "code",
      "source": [
        "pickle.dump(scc,open('/content/drive/MyDrive/Monografia/Monografia 01/Parte Tecnica/Parte 1/scalerOHEF.pkl','wb'))"
      ],
      "metadata": {
        "id": "bh4bwQjeqGU0"
      },
      "execution_count": null,
      "outputs": []
    }
  ]
}