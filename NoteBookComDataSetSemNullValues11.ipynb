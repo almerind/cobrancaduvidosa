{
  "cells": [
    {
      "cell_type": "code",
      "execution_count": 1,
      "metadata": {
        "id": "qg8MZ1LLRzGO"
      },
      "outputs": [],
      "source": [
        "#NESTE NOTEBOOK PUCHEI O MEU DATASET SEM DADOS NULOS. JA TRABALHADA UM POUCO."
      ]
    },
    {
      "cell_type": "code",
      "execution_count": 2,
      "metadata": {
        "id": "JgseJagFRH21"
      },
      "outputs": [],
      "source": [
        "import pandas as pd"
      ]
    },
    {
      "cell_type": "code",
      "execution_count": 3,
      "metadata": {
        "id": "P3ZvOHmLRQae"
      },
      "outputs": [],
      "source": [
        "# df = pd.read_excel(open('/content/drive/MyDrive/Monografia/Monografia 01/Parte Tecnica/Parte 1/Prestacoes_29.10.2022_18Categorias.xlsx', 'rb'),sheet_name='Sheet1')\n",
        "df = pd.read_excel(open('Prestacoes_29.10.2022_18Categorias.xlsx', 'rb'),sheet_name='Sheet1')"
      ]
    },
    {
      "cell_type": "code",
      "execution_count": 4,
      "metadata": {
        "colab": {
          "base_uri": "https://localhost:8080/"
        },
        "id": "i9z0mEZaRbqz",
        "outputId": "d88d286e-fe64-4378-8b35-ba97bd00b8d8"
      },
      "outputs": [
        {
          "data": {
            "text/plain": [
              "NUMEROCLIENTE                    0\n",
              "CODIGOCLIENTE                    0\n",
              "NR_PRESTACOES                    0\n",
              "NR_PREST_PAGAS_ATRASO            0\n",
              "NR_PREST_PAGAS_SEM_ATRASO        0\n",
              "NR_PREST_NAOPAGAS_ATRASO         0\n",
              "NR_PREST_NAO_PAGAS_SEM_ATRASO    0\n",
              "TIPOCREDITO                      0\n",
              "DATACRIACAOCREDITO               0\n",
              "PRAZO                            0\n",
              "CAPACIDADEENDIVIDAMENTO          0\n",
              "VALORCREDITO                     0\n",
              "VALORPRESTACAO                   0\n",
              "PAIS                             0\n",
              "PROVINCIA                        0\n",
              "IDADE                            0\n",
              "DATACRIACAO                      0\n",
              "PROFISSAO                        0\n",
              "CARGO                            0\n",
              "CATEGORIAPROFISSIONAL            0\n",
              "TIPOCLIENTE                      0\n",
              "RENDAMENSAL                      0\n",
              "RENDAANUAL                       0\n",
              "ESTADOCIVIL                      0\n",
              "HABILITACOES                     0\n",
              "EstadoCliente                    0\n",
              "SEXO                             0\n",
              "DT_REGISTO_CLIENTE               0\n",
              "dtype: int64"
            ]
          },
          "execution_count": 4,
          "metadata": {},
          "output_type": "execute_result"
        }
      ],
      "source": [
        "df.isna().sum()"
      ]
    },
    {
      "cell_type": "code",
      "execution_count": 5,
      "metadata": {
        "colab": {
          "base_uri": "https://localhost:8080/",
          "height": 386
        },
        "id": "2ApIu2iaRf-i",
        "outputId": "e7813daf-d76b-4e7a-bb8c-46a324902f6f"
      },
      "outputs": [
        {
          "data": {
            "text/html": [
              "\n",
              "  <div id=\"df-f67d2fce-1570-47e2-8059-498244afc756\">\n",
              "    <div class=\"colab-df-container\">\n",
              "      <div>\n",
              "<style scoped>\n",
              "    .dataframe tbody tr th:only-of-type {\n",
              "        vertical-align: middle;\n",
              "    }\n",
              "\n",
              "    .dataframe tbody tr th {\n",
              "        vertical-align: top;\n",
              "    }\n",
              "\n",
              "    .dataframe thead th {\n",
              "        text-align: right;\n",
              "    }\n",
              "</style>\n",
              "<table border=\"1\" class=\"dataframe\">\n",
              "  <thead>\n",
              "    <tr style=\"text-align: right;\">\n",
              "      <th></th>\n",
              "      <th>NUMEROCLIENTE</th>\n",
              "      <th>CODIGOCLIENTE</th>\n",
              "      <th>NR_PRESTACOES</th>\n",
              "      <th>NR_PREST_PAGAS_ATRASO</th>\n",
              "      <th>NR_PREST_PAGAS_SEM_ATRASO</th>\n",
              "      <th>NR_PREST_NAOPAGAS_ATRASO</th>\n",
              "      <th>NR_PREST_NAO_PAGAS_SEM_ATRASO</th>\n",
              "      <th>TIPOCREDITO</th>\n",
              "      <th>DATACRIACAOCREDITO</th>\n",
              "      <th>PRAZO</th>\n",
              "      <th>...</th>\n",
              "      <th>CARGO</th>\n",
              "      <th>CATEGORIAPROFISSIONAL</th>\n",
              "      <th>TIPOCLIENTE</th>\n",
              "      <th>RENDAMENSAL</th>\n",
              "      <th>RENDAANUAL</th>\n",
              "      <th>ESTADOCIVIL</th>\n",
              "      <th>HABILITACOES</th>\n",
              "      <th>EstadoCliente</th>\n",
              "      <th>SEXO</th>\n",
              "      <th>DT_REGISTO_CLIENTE</th>\n",
              "    </tr>\n",
              "  </thead>\n",
              "  <tbody>\n",
              "    <tr>\n",
              "      <th>0</th>\n",
              "      <td>10102010</td>\n",
              "      <td>1</td>\n",
              "      <td>36</td>\n",
              "      <td>0</td>\n",
              "      <td>36</td>\n",
              "      <td>0</td>\n",
              "      <td>0</td>\n",
              "      <td>CU</td>\n",
              "      <td>2012-08-09</td>\n",
              "      <td>36</td>\n",
              "      <td>...</td>\n",
              "      <td>PROGRAMADOR</td>\n",
              "      <td>TECNICO SUPERIOR</td>\n",
              "      <td>S</td>\n",
              "      <td>23000.0</td>\n",
              "      <td>276000.0</td>\n",
              "      <td>S</td>\n",
              "      <td>6</td>\n",
              "      <td>1</td>\n",
              "      <td>1</td>\n",
              "      <td>2012-07-20 13:44:29.220</td>\n",
              "    </tr>\n",
              "    <tr>\n",
              "      <th>1</th>\n",
              "      <td>10102020</td>\n",
              "      <td>1</td>\n",
              "      <td>5</td>\n",
              "      <td>2</td>\n",
              "      <td>3</td>\n",
              "      <td>0</td>\n",
              "      <td>0</td>\n",
              "      <td>CJ</td>\n",
              "      <td>2015-06-16</td>\n",
              "      <td>5</td>\n",
              "      <td>...</td>\n",
              "      <td>PROGRAMADOR</td>\n",
              "      <td>TECNICO SUPERIOR</td>\n",
              "      <td>S</td>\n",
              "      <td>23000.0</td>\n",
              "      <td>276000.0</td>\n",
              "      <td>S</td>\n",
              "      <td>6</td>\n",
              "      <td>0</td>\n",
              "      <td>1</td>\n",
              "      <td>2012-07-20 13:44:29.220</td>\n",
              "    </tr>\n",
              "    <tr>\n",
              "      <th>2</th>\n",
              "      <td>10102040</td>\n",
              "      <td>1</td>\n",
              "      <td>1</td>\n",
              "      <td>0</td>\n",
              "      <td>1</td>\n",
              "      <td>0</td>\n",
              "      <td>0</td>\n",
              "      <td>CJ</td>\n",
              "      <td>2015-11-12</td>\n",
              "      <td>1</td>\n",
              "      <td>...</td>\n",
              "      <td>PROGRAMADOR</td>\n",
              "      <td>TECNICO SUPERIOR</td>\n",
              "      <td>S</td>\n",
              "      <td>23000.0</td>\n",
              "      <td>276000.0</td>\n",
              "      <td>S</td>\n",
              "      <td>6</td>\n",
              "      <td>1</td>\n",
              "      <td>1</td>\n",
              "      <td>2012-07-20 13:44:29.220</td>\n",
              "    </tr>\n",
              "    <tr>\n",
              "      <th>3</th>\n",
              "      <td>10102050</td>\n",
              "      <td>1</td>\n",
              "      <td>3</td>\n",
              "      <td>0</td>\n",
              "      <td>3</td>\n",
              "      <td>0</td>\n",
              "      <td>0</td>\n",
              "      <td>CJ</td>\n",
              "      <td>2016-04-19</td>\n",
              "      <td>3</td>\n",
              "      <td>...</td>\n",
              "      <td>PROGRAMADOR</td>\n",
              "      <td>TECNICO SUPERIOR</td>\n",
              "      <td>S</td>\n",
              "      <td>23000.0</td>\n",
              "      <td>276000.0</td>\n",
              "      <td>S</td>\n",
              "      <td>6</td>\n",
              "      <td>1</td>\n",
              "      <td>1</td>\n",
              "      <td>2012-07-20 13:44:29.220</td>\n",
              "    </tr>\n",
              "    <tr>\n",
              "      <th>4</th>\n",
              "      <td>10102060</td>\n",
              "      <td>1</td>\n",
              "      <td>1</td>\n",
              "      <td>1</td>\n",
              "      <td>0</td>\n",
              "      <td>0</td>\n",
              "      <td>0</td>\n",
              "      <td>CJ</td>\n",
              "      <td>2017-12-13</td>\n",
              "      <td>1</td>\n",
              "      <td>...</td>\n",
              "      <td>PROGRAMADOR</td>\n",
              "      <td>TECNICO SUPERIOR</td>\n",
              "      <td>S</td>\n",
              "      <td>23000.0</td>\n",
              "      <td>276000.0</td>\n",
              "      <td>S</td>\n",
              "      <td>6</td>\n",
              "      <td>0</td>\n",
              "      <td>1</td>\n",
              "      <td>2012-07-20 13:44:29.220</td>\n",
              "    </tr>\n",
              "  </tbody>\n",
              "</table>\n",
              "<p>5 rows × 28 columns</p>\n",
              "</div>\n",
              "      <button class=\"colab-df-convert\" onclick=\"convertToInteractive('df-f67d2fce-1570-47e2-8059-498244afc756')\"\n",
              "              title=\"Convert this dataframe to an interactive table.\"\n",
              "              style=\"display:none;\">\n",
              "        \n",
              "  <svg xmlns=\"http://www.w3.org/2000/svg\" height=\"24px\"viewBox=\"0 0 24 24\"\n",
              "       width=\"24px\">\n",
              "    <path d=\"M0 0h24v24H0V0z\" fill=\"none\"/>\n",
              "    <path d=\"M18.56 5.44l.94 2.06.94-2.06 2.06-.94-2.06-.94-.94-2.06-.94 2.06-2.06.94zm-11 1L8.5 8.5l.94-2.06 2.06-.94-2.06-.94L8.5 2.5l-.94 2.06-2.06.94zm10 10l.94 2.06.94-2.06 2.06-.94-2.06-.94-.94-2.06-.94 2.06-2.06.94z\"/><path d=\"M17.41 7.96l-1.37-1.37c-.4-.4-.92-.59-1.43-.59-.52 0-1.04.2-1.43.59L10.3 9.45l-7.72 7.72c-.78.78-.78 2.05 0 2.83L4 21.41c.39.39.9.59 1.41.59.51 0 1.02-.2 1.41-.59l7.78-7.78 2.81-2.81c.8-.78.8-2.07 0-2.86zM5.41 20L4 18.59l7.72-7.72 1.47 1.35L5.41 20z\"/>\n",
              "  </svg>\n",
              "      </button>\n",
              "      \n",
              "  <style>\n",
              "    .colab-df-container {\n",
              "      display:flex;\n",
              "      flex-wrap:wrap;\n",
              "      gap: 12px;\n",
              "    }\n",
              "\n",
              "    .colab-df-convert {\n",
              "      background-color: #E8F0FE;\n",
              "      border: none;\n",
              "      border-radius: 50%;\n",
              "      cursor: pointer;\n",
              "      display: none;\n",
              "      fill: #1967D2;\n",
              "      height: 32px;\n",
              "      padding: 0 0 0 0;\n",
              "      width: 32px;\n",
              "    }\n",
              "\n",
              "    .colab-df-convert:hover {\n",
              "      background-color: #E2EBFA;\n",
              "      box-shadow: 0px 1px 2px rgba(60, 64, 67, 0.3), 0px 1px 3px 1px rgba(60, 64, 67, 0.15);\n",
              "      fill: #174EA6;\n",
              "    }\n",
              "\n",
              "    [theme=dark] .colab-df-convert {\n",
              "      background-color: #3B4455;\n",
              "      fill: #D2E3FC;\n",
              "    }\n",
              "\n",
              "    [theme=dark] .colab-df-convert:hover {\n",
              "      background-color: #434B5C;\n",
              "      box-shadow: 0px 1px 3px 1px rgba(0, 0, 0, 0.15);\n",
              "      filter: drop-shadow(0px 1px 2px rgba(0, 0, 0, 0.3));\n",
              "      fill: #FFFFFF;\n",
              "    }\n",
              "  </style>\n",
              "\n",
              "      <script>\n",
              "        const buttonEl =\n",
              "          document.querySelector('#df-f67d2fce-1570-47e2-8059-498244afc756 button.colab-df-convert');\n",
              "        buttonEl.style.display =\n",
              "          google.colab.kernel.accessAllowed ? 'block' : 'none';\n",
              "\n",
              "        async function convertToInteractive(key) {\n",
              "          const element = document.querySelector('#df-f67d2fce-1570-47e2-8059-498244afc756');\n",
              "          const dataTable =\n",
              "            await google.colab.kernel.invokeFunction('convertToInteractive',\n",
              "                                                     [key], {});\n",
              "          if (!dataTable) return;\n",
              "\n",
              "          const docLinkHtml = 'Like what you see? Visit the ' +\n",
              "            '<a target=\"_blank\" href=https://colab.research.google.com/notebooks/data_table.ipynb>data table notebook</a>'\n",
              "            + ' to learn more about interactive tables.';\n",
              "          element.innerHTML = '';\n",
              "          dataTable['output_type'] = 'display_data';\n",
              "          await google.colab.output.renderOutput(dataTable, element);\n",
              "          const docLink = document.createElement('div');\n",
              "          docLink.innerHTML = docLinkHtml;\n",
              "          element.appendChild(docLink);\n",
              "        }\n",
              "      </script>\n",
              "    </div>\n",
              "  </div>\n",
              "  "
            ],
            "text/plain": [
              "   NUMEROCLIENTE  CODIGOCLIENTE  NR_PRESTACOES  NR_PREST_PAGAS_ATRASO  \\\n",
              "0       10102010              1             36                      0   \n",
              "1       10102020              1              5                      2   \n",
              "2       10102040              1              1                      0   \n",
              "3       10102050              1              3                      0   \n",
              "4       10102060              1              1                      1   \n",
              "\n",
              "   NR_PREST_PAGAS_SEM_ATRASO  NR_PREST_NAOPAGAS_ATRASO  \\\n",
              "0                         36                         0   \n",
              "1                          3                         0   \n",
              "2                          1                         0   \n",
              "3                          3                         0   \n",
              "4                          0                         0   \n",
              "\n",
              "   NR_PREST_NAO_PAGAS_SEM_ATRASO TIPOCREDITO DATACRIACAOCREDITO  PRAZO  ...  \\\n",
              "0                              0          CU         2012-08-09     36  ...   \n",
              "1                              0          CJ         2015-06-16      5  ...   \n",
              "2                              0          CJ         2015-11-12      1  ...   \n",
              "3                              0          CJ         2016-04-19      3  ...   \n",
              "4                              0          CJ         2017-12-13      1  ...   \n",
              "\n",
              "         CARGO  CATEGORIAPROFISSIONAL  TIPOCLIENTE RENDAMENSAL RENDAANUAL  \\\n",
              "0  PROGRAMADOR       TECNICO SUPERIOR            S     23000.0   276000.0   \n",
              "1  PROGRAMADOR       TECNICO SUPERIOR            S     23000.0   276000.0   \n",
              "2  PROGRAMADOR       TECNICO SUPERIOR            S     23000.0   276000.0   \n",
              "3  PROGRAMADOR       TECNICO SUPERIOR            S     23000.0   276000.0   \n",
              "4  PROGRAMADOR       TECNICO SUPERIOR            S     23000.0   276000.0   \n",
              "\n",
              "   ESTADOCIVIL HABILITACOES  EstadoCliente SEXO      DT_REGISTO_CLIENTE  \n",
              "0            S            6              1    1 2012-07-20 13:44:29.220  \n",
              "1            S            6              0    1 2012-07-20 13:44:29.220  \n",
              "2            S            6              1    1 2012-07-20 13:44:29.220  \n",
              "3            S            6              1    1 2012-07-20 13:44:29.220  \n",
              "4            S            6              0    1 2012-07-20 13:44:29.220  \n",
              "\n",
              "[5 rows x 28 columns]"
            ]
          },
          "execution_count": 5,
          "metadata": {},
          "output_type": "execute_result"
        }
      ],
      "source": [
        "df.head()"
      ]
    },
    {
      "cell_type": "code",
      "execution_count": 6,
      "metadata": {
        "colab": {
          "base_uri": "https://localhost:8080/"
        },
        "id": "Fxw-tj1FRjCm",
        "outputId": "7440b181-f127-42a6-808e-6c22eeed5008"
      },
      "outputs": [
        {
          "name": "stderr",
          "output_type": "stream",
          "text": [
            "/usr/local/lib/python3.7/dist-packages/ipykernel_launcher.py:3: SettingWithCopyWarning: \n",
            "A value is trying to be set on a copy of a slice from a DataFrame\n",
            "\n",
            "See the caveats in the documentation: https://pandas.pydata.org/pandas-docs/stable/user_guide/indexing.html#returning-a-view-versus-a-copy\n",
            "  This is separate from the ipykernel package so we can avoid doing imports until\n",
            "/usr/local/lib/python3.7/dist-packages/ipykernel_launcher.py:4: SettingWithCopyWarning: \n",
            "A value is trying to be set on a copy of a slice from a DataFrame\n",
            "\n",
            "See the caveats in the documentation: https://pandas.pydata.org/pandas-docs/stable/user_guide/indexing.html#returning-a-view-versus-a-copy\n",
            "  after removing the cwd from sys.path.\n",
            "/usr/local/lib/python3.7/dist-packages/ipykernel_launcher.py:5: SettingWithCopyWarning: \n",
            "A value is trying to be set on a copy of a slice from a DataFrame\n",
            "\n",
            "See the caveats in the documentation: https://pandas.pydata.org/pandas-docs/stable/user_guide/indexing.html#returning-a-view-versus-a-copy\n",
            "  \"\"\"\n",
            "/usr/local/lib/python3.7/dist-packages/ipykernel_launcher.py:6: SettingWithCopyWarning: \n",
            "A value is trying to be set on a copy of a slice from a DataFrame\n",
            "\n",
            "See the caveats in the documentation: https://pandas.pydata.org/pandas-docs/stable/user_guide/indexing.html#returning-a-view-versus-a-copy\n",
            "  \n"
          ]
        }
      ],
      "source": [
        "#AQUI ESTOU A ADICIONAR OS DADOS DE GRADUACAO RELACIONADOS COM A COLUNA DE HABILITACOES:\n",
        "df['GRADUADO']='0';\n",
        "df['GRADUADO'][df.HABILITACOES==5]='1';\n",
        "df['GRADUADO'][df.HABILITACOES==6]='1';\n",
        "df['GRADUADO'][df.HABILITACOES==7]='1';\n",
        "df['GRADUADO'][df.HABILITACOES==10]='1';"
      ]
    },
    {
      "cell_type": "code",
      "execution_count": 7,
      "metadata": {
        "colab": {
          "base_uri": "https://localhost:8080/"
        },
        "id": "zfHrtCsuTHVd",
        "outputId": "a65ee028-0c87-4c30-ce45-810ce550786a"
      },
      "outputs": [
        {
          "name": "stdout",
          "output_type": "stream",
          "text": [
            "<class 'pandas.core.frame.DataFrame'>\n",
            "RangeIndex: 9487 entries, 0 to 9486\n",
            "Data columns (total 29 columns):\n",
            " #   Column                         Non-Null Count  Dtype         \n",
            "---  ------                         --------------  -----         \n",
            " 0   NUMEROCLIENTE                  9487 non-null   int64         \n",
            " 1   CODIGOCLIENTE                  9487 non-null   int64         \n",
            " 2   NR_PRESTACOES                  9487 non-null   int64         \n",
            " 3   NR_PREST_PAGAS_ATRASO          9487 non-null   int64         \n",
            " 4   NR_PREST_PAGAS_SEM_ATRASO      9487 non-null   int64         \n",
            " 5   NR_PREST_NAOPAGAS_ATRASO       9487 non-null   int64         \n",
            " 6   NR_PREST_NAO_PAGAS_SEM_ATRASO  9487 non-null   int64         \n",
            " 7   TIPOCREDITO                    9487 non-null   object        \n",
            " 8   DATACRIACAOCREDITO             9487 non-null   datetime64[ns]\n",
            " 9   PRAZO                          9487 non-null   int64         \n",
            " 10  CAPACIDADEENDIVIDAMENTO        9487 non-null   int64         \n",
            " 11  VALORCREDITO                   9487 non-null   float64       \n",
            " 12  VALORPRESTACAO                 9487 non-null   float64       \n",
            " 13  PAIS                           9487 non-null   object        \n",
            " 14  PROVINCIA                      9487 non-null   object        \n",
            " 15  IDADE                          9487 non-null   int64         \n",
            " 16  DATACRIACAO                    9487 non-null   datetime64[ns]\n",
            " 17  PROFISSAO                      9487 non-null   int64         \n",
            " 18  CARGO                          9487 non-null   object        \n",
            " 19  CATEGORIAPROFISSIONAL          9487 non-null   object        \n",
            " 20  TIPOCLIENTE                    9487 non-null   object        \n",
            " 21  RENDAMENSAL                    9487 non-null   float64       \n",
            " 22  RENDAANUAL                     9487 non-null   float64       \n",
            " 23  ESTADOCIVIL                    9487 non-null   object        \n",
            " 24  HABILITACOES                   9487 non-null   int64         \n",
            " 25  EstadoCliente                  9487 non-null   int64         \n",
            " 26  SEXO                           9487 non-null   int64         \n",
            " 27  DT_REGISTO_CLIENTE             9487 non-null   datetime64[ns]\n",
            " 28  GRADUADO                       9487 non-null   object        \n",
            "dtypes: datetime64[ns](3), float64(4), int64(14), object(8)\n",
            "memory usage: 2.1+ MB\n"
          ]
        }
      ],
      "source": [
        "df.info()"
      ]
    },
    {
      "cell_type": "code",
      "execution_count": 8,
      "metadata": {
        "id": "mL-nFP5bTOGW"
      },
      "outputs": [],
      "source": [
        "lista_colunas=df.dtypes.index\n",
        "lista_categoria_colunas=df.dtypes.values\n",
        "lista_numericos=[]\n",
        "lista_categoricos=[]\n",
        "for i in range(len(lista_categoria_colunas)):\n",
        "    if lista_categoria_colunas[i]=='object':\n",
        "        lista_categoricos.append(lista_colunas[i])\n",
        "\n",
        "def convert_dtypes(df,lista_categoricos):\n",
        "    for i in lista_categoricos:\n",
        "        df[i]=df[i].astype('category')\n",
        "convert_dtypes(df,lista_categoricos)\n",
        "df['CAPACIDADEENDIVIDAMENTO']=df['CAPACIDADEENDIVIDAMENTO'].astype('category')\n",
        "df['GRADUADO']=df['GRADUADO'].astype('category')\n",
        "df.drop(columns=['CARGO'],inplace=True)\n",
        "df.drop(columns=['DATACRIACAO'],inplace=True)"
      ]
    },
    {
      "cell_type": "code",
      "execution_count": 9,
      "metadata": {
        "colab": {
          "base_uri": "https://localhost:8080/"
        },
        "id": "9VfT8-nHWZ60",
        "outputId": "d4bad069-e5b3-46b8-b7ae-961c6824897d"
      },
      "outputs": [
        {
          "name": "stdout",
          "output_type": "stream",
          "text": [
            "<class 'pandas.core.frame.DataFrame'>\n",
            "RangeIndex: 9487 entries, 0 to 9486\n",
            "Data columns (total 27 columns):\n",
            " #   Column                         Non-Null Count  Dtype         \n",
            "---  ------                         --------------  -----         \n",
            " 0   NUMEROCLIENTE                  9487 non-null   int64         \n",
            " 1   CODIGOCLIENTE                  9487 non-null   int64         \n",
            " 2   NR_PRESTACOES                  9487 non-null   int64         \n",
            " 3   NR_PREST_PAGAS_ATRASO          9487 non-null   int64         \n",
            " 4   NR_PREST_PAGAS_SEM_ATRASO      9487 non-null   int64         \n",
            " 5   NR_PREST_NAOPAGAS_ATRASO       9487 non-null   int64         \n",
            " 6   NR_PREST_NAO_PAGAS_SEM_ATRASO  9487 non-null   int64         \n",
            " 7   TIPOCREDITO                    9487 non-null   category      \n",
            " 8   DATACRIACAOCREDITO             9487 non-null   datetime64[ns]\n",
            " 9   PRAZO                          9487 non-null   int64         \n",
            " 10  CAPACIDADEENDIVIDAMENTO        9487 non-null   category      \n",
            " 11  VALORCREDITO                   9487 non-null   float64       \n",
            " 12  VALORPRESTACAO                 9487 non-null   float64       \n",
            " 13  PAIS                           9487 non-null   category      \n",
            " 14  PROVINCIA                      9487 non-null   category      \n",
            " 15  IDADE                          9487 non-null   int64         \n",
            " 16  PROFISSAO                      9487 non-null   int64         \n",
            " 17  CATEGORIAPROFISSIONAL          9487 non-null   category      \n",
            " 18  TIPOCLIENTE                    9487 non-null   category      \n",
            " 19  RENDAMENSAL                    9487 non-null   float64       \n",
            " 20  RENDAANUAL                     9487 non-null   float64       \n",
            " 21  ESTADOCIVIL                    9487 non-null   category      \n",
            " 22  HABILITACOES                   9487 non-null   int64         \n",
            " 23  EstadoCliente                  9487 non-null   int64         \n",
            " 24  SEXO                           9487 non-null   int64         \n",
            " 25  DT_REGISTO_CLIENTE             9487 non-null   datetime64[ns]\n",
            " 26  GRADUADO                       9487 non-null   category      \n",
            "dtypes: category(8), datetime64[ns](2), float64(4), int64(13)\n",
            "memory usage: 1.4 MB\n"
          ]
        }
      ],
      "source": [
        "df.info()"
      ]
    },
    {
      "cell_type": "code",
      "execution_count": 10,
      "metadata": {
        "colab": {
          "base_uri": "https://localhost:8080/"
        },
        "id": "0jYMAV2UaCU_",
        "outputId": "dd156ed7-e594-4c6a-eb29-10a4efb44e10"
      },
      "outputs": [
        {
          "name": "stdout",
          "output_type": "stream",
          "text": [
            "Looking in indexes: https://pypi.org/simple, https://us-python.pkg.dev/colab-wheels/public/simple/\n",
            "Collecting category_encoders\n",
            "  Downloading category_encoders-2.5.1.post0-py2.py3-none-any.whl (72 kB)\n",
            "\u001b[K     |████████████████████████████████| 72 kB 738 kB/s \n",
            "\u001b[?25hRequirement already satisfied: numpy>=1.14.0 in /usr/local/lib/python3.7/dist-packages (from category_encoders) (1.21.6)\n",
            "Requirement already satisfied: scikit-learn>=0.20.0 in /usr/local/lib/python3.7/dist-packages (from category_encoders) (1.0.2)\n",
            "Requirement already satisfied: pandas>=1.0.5 in /usr/local/lib/python3.7/dist-packages (from category_encoders) (1.3.5)\n",
            "Requirement already satisfied: statsmodels>=0.9.0 in /usr/local/lib/python3.7/dist-packages (from category_encoders) (0.12.2)\n",
            "Requirement already satisfied: patsy>=0.5.1 in /usr/local/lib/python3.7/dist-packages (from category_encoders) (0.5.3)\n",
            "Requirement already satisfied: scipy>=1.0.0 in /usr/local/lib/python3.7/dist-packages (from category_encoders) (1.7.3)\n",
            "Requirement already satisfied: python-dateutil>=2.7.3 in /usr/local/lib/python3.7/dist-packages (from pandas>=1.0.5->category_encoders) (2.8.2)\n",
            "Requirement already satisfied: pytz>=2017.3 in /usr/local/lib/python3.7/dist-packages (from pandas>=1.0.5->category_encoders) (2022.6)\n",
            "Requirement already satisfied: six in /usr/local/lib/python3.7/dist-packages (from patsy>=0.5.1->category_encoders) (1.15.0)\n",
            "Requirement already satisfied: joblib>=0.11 in /usr/local/lib/python3.7/dist-packages (from scikit-learn>=0.20.0->category_encoders) (1.2.0)\n",
            "Requirement already satisfied: threadpoolctl>=2.0.0 in /usr/local/lib/python3.7/dist-packages (from scikit-learn>=0.20.0->category_encoders) (3.1.0)\n",
            "Installing collected packages: category-encoders\n",
            "Successfully installed category-encoders-2.5.1.post0\n"
          ]
        }
      ],
      "source": [
        "pip install category_encoders"
      ]
    },
    {
      "cell_type": "code",
      "execution_count": 11,
      "metadata": {
        "colab": {
          "base_uri": "https://localhost:8080/"
        },
        "id": "W6cS-0KRZR9Q",
        "outputId": "2e86c30f-3999-4394-aad7-1452167e421b"
      },
      "outputs": [
        {
          "name": "stderr",
          "output_type": "stream",
          "text": [
            "/usr/local/lib/python3.7/dist-packages/pandas/util/_decorators.py:311: SettingWithCopyWarning: \n",
            "A value is trying to be set on a copy of a slice from a DataFrame\n",
            "\n",
            "See the caveats in the documentation: https://pandas.pydata.org/pandas-docs/stable/user_guide/indexing.html#returning-a-view-versus-a-copy\n",
            "  return func(*args, **kwargs)\n"
          ]
        }
      ],
      "source": [
        "#EFECTUANDO ORDENACAO POR DATA DE CRIACAO DE CREDITO PARA EFEITOS DE SEPARACAO ENTRE \n",
        "#DADOS DE TESTES E DE VALIDACAO\n",
        "dc = df.sort_values('DATACRIACAOCREDITO',ignore_index=True)\n",
        "df_train = dc[dc.index < 6000]\n",
        "df_val = dc[dc.index > 6000]\n",
        "df_val.sort_values('DATACRIACAOCREDITO',inplace=True,ignore_index=True)"
      ]
    },
    {
      "cell_type": "code",
      "execution_count": 12,
      "metadata": {
        "id": "8CSrGlBso6OQ"
      },
      "outputs": [],
      "source": [
        "dc = dc[['NUMEROCLIENTE',\n",
        " 'CODIGOCLIENTE',\n",
        " 'NR_PRESTACOES',\n",
        " 'NR_PREST_PAGAS_ATRASO',\n",
        " 'NR_PREST_PAGAS_SEM_ATRASO',\n",
        " 'NR_PREST_NAOPAGAS_ATRASO',\n",
        " 'NR_PREST_NAO_PAGAS_SEM_ATRASO',\n",
        " 'TIPOCREDITO',\n",
        " 'DATACRIACAOCREDITO',\n",
        " 'PRAZO',\n",
        " 'CAPACIDADEENDIVIDAMENTO',\n",
        " 'VALORCREDITO',\n",
        " 'VALORPRESTACAO',\n",
        " 'PAIS',\n",
        " 'PROVINCIA',\n",
        " 'IDADE',\n",
        " 'PROFISSAO',\n",
        " 'CATEGORIAPROFISSIONAL',\n",
        " 'TIPOCLIENTE',\n",
        " 'RENDAMENSAL',\n",
        " 'RENDAANUAL',\n",
        " 'ESTADOCIVIL',\n",
        " 'HABILITACOES',\n",
        " 'SEXO',\n",
        " 'DT_REGISTO_CLIENTE',\n",
        " 'GRADUADO',\n",
        " 'EstadoCliente']]"
      ]
    },
    {
      "cell_type": "code",
      "execution_count": 13,
      "metadata": {
        "id": "OUdq9HnTqxsM"
      },
      "outputs": [],
      "source": [
        "import matplotlib.pyplot as plt"
      ]
    },
    {
      "cell_type": "code",
      "execution_count": 14,
      "metadata": {
        "id": "Ng_TbzxJq_ls"
      },
      "outputs": [],
      "source": [
        "import seaborn as sns"
      ]
    },
    {
      "cell_type": "code",
      "execution_count": 15,
      "metadata": {
        "id": "ze7oA75Eqenv"
      },
      "outputs": [],
      "source": [
        "XX = dc.corr()"
      ]
    },
    {
      "cell_type": "code",
      "execution_count": 16,
      "metadata": {
        "id": "iuuZdAQXqjU9"
      },
      "outputs": [],
      "source": [
        "# plt.figure(figsize=(16,6))\n",
        "# sns.heatmap(data=XX, annot=True)\n",
        "# %matplotlib (line = \"inline\");"
      ]
    },
    {
      "cell_type": "markdown",
      "metadata": {
        "id": "b7n1wnl4cGYF"
      },
      "source": [
        "# OneHotEncoding"
      ]
    },
    {
      "cell_type": "code",
      "execution_count": 17,
      "metadata": {
        "id": "MGD23y52Zrsf"
      },
      "outputs": [],
      "source": [
        "from category_encoders.one_hot import OneHotEncoder\n",
        "enc = OneHotEncoder(cols=['TIPOCREDITO','CAPACIDADEENDIVIDAMENTO','PAIS','PROVINCIA','CATEGORIAPROFISSIONAL','TIPOCLIENTE','ESTADOCIVIL','SEXO','GRADUADO'])\n",
        "enc.fit(df_train)\n",
        "\n",
        "df_train_ohe = enc.transform(df_train)\n",
        "df_val_ohe = enc.transform(df_val)\n",
        "\n",
        "df_train_ohe = enc.transform(df_train)\n",
        "df_val_ohe = enc.transform(df_val)"
      ]
    },
    {
      "cell_type": "code",
      "execution_count": 18,
      "metadata": {
        "id": "cfU0ScpyaTLU"
      },
      "outputs": [],
      "source": [
        "X_train = df_train_ohe.drop(['DT_REGISTO_CLIENTE','EstadoCliente','DATACRIACAOCREDITO'], axis=1)\n",
        "X_val = df_val_ohe.drop(['DT_REGISTO_CLIENTE','EstadoCliente','DATACRIACAOCREDITO'], axis=1)\n",
        "\n",
        "y_train = df_train_ohe['EstadoCliente'] # Variavel Independente\n",
        "y_val = df_val_ohe['EstadoCliente'] # Variavel Independente"
      ]
    },
    {
      "cell_type": "markdown",
      "metadata": {
        "id": "8Khx-_d0iwhU"
      },
      "source": [
        "## Random Forest"
      ]
    },
    {
      "cell_type": "code",
      "execution_count": 19,
      "metadata": {
        "colab": {
          "base_uri": "https://localhost:8080/"
        },
        "id": "JNETPrK5SOZl",
        "outputId": "cfc9eda0-f55c-4958-d1f4-49c2ba25867f"
      },
      "outputs": [
        {
          "data": {
            "text/plain": [
              "0.01068273092369478"
            ]
          },
          "execution_count": 19,
          "metadata": {},
          "output_type": "execute_result"
        }
      ],
      "source": [
        "from sklearn.ensemble import RandomForestRegressor\n",
        "mdl = RandomForestRegressor(n_jobs=6, n_estimators=100, random_state=22)\n",
        "mdl.fit(X_train, y_train)\n",
        "\n",
        "p_ohe = mdl.predict(X_val)\n",
        "from sklearn.metrics import mean_absolute_error\n",
        "mean_absolute_error(y_val, p_ohe)\n"
      ]
    },
    {
      "cell_type": "markdown",
      "metadata": {
        "id": "6iVFsi_nsSB4"
      },
      "source": [
        "## Xgboost"
      ]
    },
    {
      "cell_type": "code",
      "execution_count": 20,
      "metadata": {
        "id": "jfi4-j-rsdoP"
      },
      "outputs": [],
      "source": [
        "from xgboost import XGBClassifier"
      ]
    },
    {
      "cell_type": "code",
      "execution_count": 21,
      "metadata": {
        "id": "KXZ8-VQcsr_B"
      },
      "outputs": [],
      "source": [
        "clf = XGBClassifier(n_estimators=1000,learning_rate=0.01)"
      ]
    },
    {
      "cell_type": "code",
      "execution_count": 22,
      "metadata": {
        "id": "0Cl-vMCZs9BP"
      },
      "outputs": [],
      "source": [
        "# clf.fit(X_train, y_train)\n",
        "# accuracy = clf.score()\n",
        "\n",
        "# p_ohe_xgb = clf.predict(X_val)\n",
        "# mean_absolute_error(y_val, p_ohe_xgb)"
      ]
    },
    {
      "cell_type": "markdown",
      "metadata": {
        "id": "QvZU1wB0oOxJ"
      },
      "source": [
        "## Logistc Regretion WITH ONE HOT ENCODER"
      ]
    },
    {
      "cell_type": "code",
      "execution_count": 23,
      "metadata": {
        "id": "V-X2FCwWoTtS"
      },
      "outputs": [],
      "source": [
        "dc_r0 = dc\n",
        "ordl = OneHotEncoder(cols=['TIPOCREDITO','CAPACIDADEENDIVIDAMENTO','PAIS','PROVINCIA','CATEGORIAPROFISSIONAL','TIPOCLIENTE','ESTADOCIVIL','SEXO','GRADUADO'])\n",
        "ordl.fit(dc_r0)\n",
        "\n",
        "Log = ordl.transform(dc_r0)"
      ]
    },
    {
      "cell_type": "code",
      "execution_count": 24,
      "metadata": {
        "id": "FLRagBWtwcgp"
      },
      "outputs": [],
      "source": [
        "Log.drop(['CODIGOCLIENTE','NUMEROCLIENTE','DATACRIACAOCREDITO','DT_REGISTO_CLIENTE'],inplace=True,axis=1)"
      ]
    },
    {
      "cell_type": "code",
      "execution_count": 25,
      "metadata": {
        "colab": {
          "base_uri": "https://localhost:8080/"
        },
        "id": "-mZoJrEtxpHO",
        "outputId": "b2c649ec-0b44-4f81-b7ea-7113a7bc6e60"
      },
      "outputs": [
        {
          "name": "stdout",
          "output_type": "stream",
          "text": [
            "<class 'pandas.core.frame.DataFrame'>\n",
            "RangeIndex: 9487 entries, 0 to 9486\n",
            "Data columns (total 60 columns):\n",
            " #   Column                         Non-Null Count  Dtype  \n",
            "---  ------                         --------------  -----  \n",
            " 0   NR_PRESTACOES                  9487 non-null   int64  \n",
            " 1   NR_PREST_PAGAS_ATRASO          9487 non-null   int64  \n",
            " 2   NR_PREST_PAGAS_SEM_ATRASO      9487 non-null   int64  \n",
            " 3   NR_PREST_NAOPAGAS_ATRASO       9487 non-null   int64  \n",
            " 4   NR_PREST_NAO_PAGAS_SEM_ATRASO  9487 non-null   int64  \n",
            " 5   TIPOCREDITO_1                  9487 non-null   int64  \n",
            " 6   TIPOCREDITO_2                  9487 non-null   int64  \n",
            " 7   PRAZO                          9487 non-null   int64  \n",
            " 8   CAPACIDADEENDIVIDAMENTO_1      9487 non-null   int64  \n",
            " 9   CAPACIDADEENDIVIDAMENTO_2      9487 non-null   int64  \n",
            " 10  VALORCREDITO                   9487 non-null   float64\n",
            " 11  VALORPRESTACAO                 9487 non-null   float64\n",
            " 12  PAIS_1                         9487 non-null   int64  \n",
            " 13  PAIS_2                         9487 non-null   int64  \n",
            " 14  PAIS_3                         9487 non-null   int64  \n",
            " 15  PAIS_4                         9487 non-null   int64  \n",
            " 16  PROVINCIA_1                    9487 non-null   int64  \n",
            " 17  PROVINCIA_2                    9487 non-null   int64  \n",
            " 18  PROVINCIA_3                    9487 non-null   int64  \n",
            " 19  PROVINCIA_4                    9487 non-null   int64  \n",
            " 20  PROVINCIA_5                    9487 non-null   int64  \n",
            " 21  PROVINCIA_6                    9487 non-null   int64  \n",
            " 22  PROVINCIA_7                    9487 non-null   int64  \n",
            " 23  PROVINCIA_8                    9487 non-null   int64  \n",
            " 24  PROVINCIA_9                    9487 non-null   int64  \n",
            " 25  IDADE                          9487 non-null   int64  \n",
            " 26  PROFISSAO                      9487 non-null   int64  \n",
            " 27  CATEGORIAPROFISSIONAL_1        9487 non-null   int64  \n",
            " 28  CATEGORIAPROFISSIONAL_2        9487 non-null   int64  \n",
            " 29  CATEGORIAPROFISSIONAL_3        9487 non-null   int64  \n",
            " 30  CATEGORIAPROFISSIONAL_4        9487 non-null   int64  \n",
            " 31  CATEGORIAPROFISSIONAL_5        9487 non-null   int64  \n",
            " 32  CATEGORIAPROFISSIONAL_6        9487 non-null   int64  \n",
            " 33  CATEGORIAPROFISSIONAL_7        9487 non-null   int64  \n",
            " 34  CATEGORIAPROFISSIONAL_8        9487 non-null   int64  \n",
            " 35  CATEGORIAPROFISSIONAL_9        9487 non-null   int64  \n",
            " 36  CATEGORIAPROFISSIONAL_10       9487 non-null   int64  \n",
            " 37  CATEGORIAPROFISSIONAL_11       9487 non-null   int64  \n",
            " 38  CATEGORIAPROFISSIONAL_12       9487 non-null   int64  \n",
            " 39  CATEGORIAPROFISSIONAL_13       9487 non-null   int64  \n",
            " 40  CATEGORIAPROFISSIONAL_14       9487 non-null   int64  \n",
            " 41  CATEGORIAPROFISSIONAL_15       9487 non-null   int64  \n",
            " 42  CATEGORIAPROFISSIONAL_16       9487 non-null   int64  \n",
            " 43  TIPOCLIENTE_1                  9487 non-null   int64  \n",
            " 44  TIPOCLIENTE_2                  9487 non-null   int64  \n",
            " 45  RENDAMENSAL                    9487 non-null   float64\n",
            " 46  RENDAANUAL                     9487 non-null   float64\n",
            " 47  ESTADOCIVIL_1                  9487 non-null   int64  \n",
            " 48  ESTADOCIVIL_2                  9487 non-null   int64  \n",
            " 49  ESTADOCIVIL_3                  9487 non-null   int64  \n",
            " 50  ESTADOCIVIL_4                  9487 non-null   int64  \n",
            " 51  ESTADOCIVIL_5                  9487 non-null   int64  \n",
            " 52  ESTADOCIVIL_6                  9487 non-null   int64  \n",
            " 53  HABILITACOES                   9487 non-null   int64  \n",
            " 54  SEXO_1                         9487 non-null   int64  \n",
            " 55  SEXO_2                         9487 non-null   int64  \n",
            " 56  SEXO_3                         9487 non-null   int64  \n",
            " 57  GRADUADO_1                     9487 non-null   int64  \n",
            " 58  GRADUADO_2                     9487 non-null   int64  \n",
            " 59  EstadoCliente                  9487 non-null   int64  \n",
            "dtypes: float64(4), int64(56)\n",
            "memory usage: 4.3 MB\n"
          ]
        }
      ],
      "source": [
        "Log.info()"
      ]
    },
    {
      "cell_type": "code",
      "execution_count": 26,
      "metadata": {
        "id": "SJb-0mwOw7v-"
      },
      "outputs": [],
      "source": [
        "m = Log.iloc[0:9487,0:59].values\n",
        "n = Log.iloc[0:9487,59:60].values"
      ]
    },
    {
      "cell_type": "code",
      "execution_count": 27,
      "metadata": {
        "id": "FeeZiu5xHwUl"
      },
      "outputs": [],
      "source": [
        "#Log.drop(columns=['DT_REGISTO_CLIENTE','DATACRIACAOCREDITO'],inplace=True,axis=1)"
      ]
    },
    {
      "cell_type": "code",
      "execution_count": 28,
      "metadata": {
        "id": "9S9o2UVixFQU"
      },
      "outputs": [],
      "source": [
        "from sklearn.model_selection import train_test_split\n",
        "M_train,M_test,n_train,n_test = train_test_split(m,n, test_size=0.3,random_state=0)"
      ]
    },
    {
      "cell_type": "code",
      "execution_count": 29,
      "metadata": {
        "id": "D9K1vdATxSBj"
      },
      "outputs": [],
      "source": [
        "from sklearn.preprocessing import StandardScaler\n",
        "scc = StandardScaler()\n",
        "M_train = scc.fit_transform(M_train)\n",
        "M_test = scc.transform(M_test)"
      ]
    },
    {
      "cell_type": "code",
      "execution_count": 30,
      "metadata": {
        "colab": {
          "base_uri": "https://localhost:8080/"
        },
        "id": "MKsNByn5xS9o",
        "outputId": "01d4b0df-7ba3-4585-8b71-97191ac001ab"
      },
      "outputs": [
        {
          "name": "stderr",
          "output_type": "stream",
          "text": [
            "/usr/local/lib/python3.7/dist-packages/sklearn/utils/validation.py:993: DataConversionWarning: A column-vector y was passed when a 1d array was expected. Please change the shape of y to (n_samples, ), for example using ravel().\n",
            "  y = column_or_1d(y, warn=True)\n"
          ]
        },
        {
          "data": {
            "text/plain": [
              "LogisticRegression()"
            ]
          },
          "execution_count": 30,
          "metadata": {},
          "output_type": "execute_result"
        }
      ],
      "source": [
        "from sklearn.linear_model import LogisticRegression\n",
        "model = LogisticRegression()\n",
        "model.fit(M_train,n_train)"
      ]
    },
    {
      "cell_type": "code",
      "execution_count": 31,
      "metadata": {
        "id": "H2YW-1aKxWMS"
      },
      "outputs": [],
      "source": [
        "from sklearn.metrics import accuracy_score,confusion_matrix,classification_report,plot_confusion_matrix\n",
        "n_pread = model.predict(M_test)"
      ]
    },
    {
      "cell_type": "code",
      "execution_count": 32,
      "metadata": {
        "colab": {
          "base_uri": "https://localhost:8080/"
        },
        "id": "7rm6W4V6xZeH",
        "outputId": "f5b1898d-5ea3-4a4f-9d3a-3609a85e93c0"
      },
      "outputs": [
        {
          "data": {
            "text/plain": [
              "99.57850368809274"
            ]
          },
          "execution_count": 32,
          "metadata": {},
          "output_type": "execute_result"
        }
      ],
      "source": [
        "accuracy_score(n_test,n_pread)*100"
      ]
    },
    {
      "cell_type": "code",
      "execution_count": 33,
      "metadata": {
        "colab": {
          "base_uri": "https://localhost:8080/",
          "height": 174
        },
        "id": "VXIaYvmcUQoN",
        "outputId": "bdd923d7-55fb-43ca-c557-4f97fbf6a2cc"
      },
      "outputs": [
        {
          "data": {
            "text/html": [
              "\n",
              "  <div id=\"df-bdb818dd-53ba-435a-91e2-063eecc1eb1b\">\n",
              "    <div class=\"colab-df-container\">\n",
              "      <div>\n",
              "<style scoped>\n",
              "    .dataframe tbody tr th:only-of-type {\n",
              "        vertical-align: middle;\n",
              "    }\n",
              "\n",
              "    .dataframe tbody tr th {\n",
              "        vertical-align: top;\n",
              "    }\n",
              "\n",
              "    .dataframe thead th {\n",
              "        text-align: right;\n",
              "    }\n",
              "</style>\n",
              "<table border=\"1\" class=\"dataframe\">\n",
              "  <thead>\n",
              "    <tr style=\"text-align: right;\">\n",
              "      <th></th>\n",
              "      <th>NR_PRESTACOES</th>\n",
              "      <th>NR_PREST_PAGAS_ATRASO</th>\n",
              "      <th>NR_PREST_PAGAS_SEM_ATRASO</th>\n",
              "      <th>NR_PREST_NAOPAGAS_ATRASO</th>\n",
              "      <th>NR_PREST_NAO_PAGAS_SEM_ATRASO</th>\n",
              "      <th>TIPOCREDITO_1</th>\n",
              "      <th>TIPOCREDITO_2</th>\n",
              "      <th>PRAZO</th>\n",
              "      <th>CAPACIDADEENDIVIDAMENTO_1</th>\n",
              "      <th>CAPACIDADEENDIVIDAMENTO_2</th>\n",
              "      <th>...</th>\n",
              "      <th>ESTADOCIVIL_4</th>\n",
              "      <th>ESTADOCIVIL_5</th>\n",
              "      <th>ESTADOCIVIL_6</th>\n",
              "      <th>HABILITACOES</th>\n",
              "      <th>SEXO_1</th>\n",
              "      <th>SEXO_2</th>\n",
              "      <th>SEXO_3</th>\n",
              "      <th>GRADUADO_1</th>\n",
              "      <th>GRADUADO_2</th>\n",
              "      <th>EstadoCliente</th>\n",
              "    </tr>\n",
              "  </thead>\n",
              "  <tbody>\n",
              "    <tr>\n",
              "      <th>100</th>\n",
              "      <td>1</td>\n",
              "      <td>0</td>\n",
              "      <td>1</td>\n",
              "      <td>0</td>\n",
              "      <td>0</td>\n",
              "      <td>0</td>\n",
              "      <td>1</td>\n",
              "      <td>1</td>\n",
              "      <td>0</td>\n",
              "      <td>1</td>\n",
              "      <td>...</td>\n",
              "      <td>0</td>\n",
              "      <td>0</td>\n",
              "      <td>0</td>\n",
              "      <td>3</td>\n",
              "      <td>1</td>\n",
              "      <td>0</td>\n",
              "      <td>0</td>\n",
              "      <td>0</td>\n",
              "      <td>1</td>\n",
              "      <td>1</td>\n",
              "    </tr>\n",
              "  </tbody>\n",
              "</table>\n",
              "<p>1 rows × 60 columns</p>\n",
              "</div>\n",
              "      <button class=\"colab-df-convert\" onclick=\"convertToInteractive('df-bdb818dd-53ba-435a-91e2-063eecc1eb1b')\"\n",
              "              title=\"Convert this dataframe to an interactive table.\"\n",
              "              style=\"display:none;\">\n",
              "        \n",
              "  <svg xmlns=\"http://www.w3.org/2000/svg\" height=\"24px\"viewBox=\"0 0 24 24\"\n",
              "       width=\"24px\">\n",
              "    <path d=\"M0 0h24v24H0V0z\" fill=\"none\"/>\n",
              "    <path d=\"M18.56 5.44l.94 2.06.94-2.06 2.06-.94-2.06-.94-.94-2.06-.94 2.06-2.06.94zm-11 1L8.5 8.5l.94-2.06 2.06-.94-2.06-.94L8.5 2.5l-.94 2.06-2.06.94zm10 10l.94 2.06.94-2.06 2.06-.94-2.06-.94-.94-2.06-.94 2.06-2.06.94z\"/><path d=\"M17.41 7.96l-1.37-1.37c-.4-.4-.92-.59-1.43-.59-.52 0-1.04.2-1.43.59L10.3 9.45l-7.72 7.72c-.78.78-.78 2.05 0 2.83L4 21.41c.39.39.9.59 1.41.59.51 0 1.02-.2 1.41-.59l7.78-7.78 2.81-2.81c.8-.78.8-2.07 0-2.86zM5.41 20L4 18.59l7.72-7.72 1.47 1.35L5.41 20z\"/>\n",
              "  </svg>\n",
              "      </button>\n",
              "      \n",
              "  <style>\n",
              "    .colab-df-container {\n",
              "      display:flex;\n",
              "      flex-wrap:wrap;\n",
              "      gap: 12px;\n",
              "    }\n",
              "\n",
              "    .colab-df-convert {\n",
              "      background-color: #E8F0FE;\n",
              "      border: none;\n",
              "      border-radius: 50%;\n",
              "      cursor: pointer;\n",
              "      display: none;\n",
              "      fill: #1967D2;\n",
              "      height: 32px;\n",
              "      padding: 0 0 0 0;\n",
              "      width: 32px;\n",
              "    }\n",
              "\n",
              "    .colab-df-convert:hover {\n",
              "      background-color: #E2EBFA;\n",
              "      box-shadow: 0px 1px 2px rgba(60, 64, 67, 0.3), 0px 1px 3px 1px rgba(60, 64, 67, 0.15);\n",
              "      fill: #174EA6;\n",
              "    }\n",
              "\n",
              "    [theme=dark] .colab-df-convert {\n",
              "      background-color: #3B4455;\n",
              "      fill: #D2E3FC;\n",
              "    }\n",
              "\n",
              "    [theme=dark] .colab-df-convert:hover {\n",
              "      background-color: #434B5C;\n",
              "      box-shadow: 0px 1px 3px 1px rgba(0, 0, 0, 0.15);\n",
              "      filter: drop-shadow(0px 1px 2px rgba(0, 0, 0, 0.3));\n",
              "      fill: #FFFFFF;\n",
              "    }\n",
              "  </style>\n",
              "\n",
              "      <script>\n",
              "        const buttonEl =\n",
              "          document.querySelector('#df-bdb818dd-53ba-435a-91e2-063eecc1eb1b button.colab-df-convert');\n",
              "        buttonEl.style.display =\n",
              "          google.colab.kernel.accessAllowed ? 'block' : 'none';\n",
              "\n",
              "        async function convertToInteractive(key) {\n",
              "          const element = document.querySelector('#df-bdb818dd-53ba-435a-91e2-063eecc1eb1b');\n",
              "          const dataTable =\n",
              "            await google.colab.kernel.invokeFunction('convertToInteractive',\n",
              "                                                     [key], {});\n",
              "          if (!dataTable) return;\n",
              "\n",
              "          const docLinkHtml = 'Like what you see? Visit the ' +\n",
              "            '<a target=\"_blank\" href=https://colab.research.google.com/notebooks/data_table.ipynb>data table notebook</a>'\n",
              "            + ' to learn more about interactive tables.';\n",
              "          element.innerHTML = '';\n",
              "          dataTable['output_type'] = 'display_data';\n",
              "          await google.colab.output.renderOutput(dataTable, element);\n",
              "          const docLink = document.createElement('div');\n",
              "          docLink.innerHTML = docLinkHtml;\n",
              "          element.appendChild(docLink);\n",
              "        }\n",
              "      </script>\n",
              "    </div>\n",
              "  </div>\n",
              "  "
            ],
            "text/plain": [
              "     NR_PRESTACOES  NR_PREST_PAGAS_ATRASO  NR_PREST_PAGAS_SEM_ATRASO  \\\n",
              "100              1                      0                          1   \n",
              "\n",
              "     NR_PREST_NAOPAGAS_ATRASO  NR_PREST_NAO_PAGAS_SEM_ATRASO  TIPOCREDITO_1  \\\n",
              "100                         0                              0              0   \n",
              "\n",
              "     TIPOCREDITO_2  PRAZO  CAPACIDADEENDIVIDAMENTO_1  \\\n",
              "100              1      1                          0   \n",
              "\n",
              "     CAPACIDADEENDIVIDAMENTO_2  ...  ESTADOCIVIL_4  ESTADOCIVIL_5  \\\n",
              "100                          1  ...              0              0   \n",
              "\n",
              "     ESTADOCIVIL_6  HABILITACOES  SEXO_1  SEXO_2  SEXO_3  GRADUADO_1  \\\n",
              "100              0             3       1       0       0           0   \n",
              "\n",
              "     GRADUADO_2  EstadoCliente  \n",
              "100           1              1  \n",
              "\n",
              "[1 rows x 60 columns]"
            ]
          },
          "execution_count": 33,
          "metadata": {},
          "output_type": "execute_result"
        }
      ],
      "source": [
        "Log.iloc[100:101,0:60]"
      ]
    },
    {
      "cell_type": "code",
      "execution_count": 34,
      "metadata": {
        "colab": {
          "base_uri": "https://localhost:8080/"
        },
        "id": "7op8JIBzTvGW",
        "outputId": "47b499ae-cfb6-4c10-daf4-69b89c029eec"
      },
      "outputs": [
        {
          "name": "stderr",
          "output_type": "stream",
          "text": [
            "/usr/local/lib/python3.7/dist-packages/sklearn/base.py:444: UserWarning: X has feature names, but StandardScaler was fitted without feature names\n",
            "  f\"X has feature names, but {self.__class__.__name__} was fitted without\"\n"
          ]
        },
        {
          "data": {
            "text/plain": [
              "array([1])"
            ]
          },
          "execution_count": 34,
          "metadata": {},
          "output_type": "execute_result"
        }
      ],
      "source": [
        "model.predict(scc.transform(Log.iloc[100:101,0:59])) "
      ]
    },
    {
      "cell_type": "code",
      "execution_count": 35,
      "metadata": {
        "id": "4_CibJFxzhVI"
      },
      "outputs": [],
      "source": [
        "XX = dc['CAPACIDADEENDIVIDAMENTO']"
      ]
    },
    {
      "cell_type": "markdown",
      "metadata": {
        "id": "N2cYWT-wa7_a"
      },
      "source": [
        "# ORDINAL ENCODING"
      ]
    },
    {
      "cell_type": "code",
      "execution_count": 36,
      "metadata": {
        "id": "tYYVV6lcbJ1S"
      },
      "outputs": [],
      "source": [
        "from category_encoders.ordinal import OrdinalEncoder\n",
        "ent = OrdinalEncoder(cols=['TIPOCREDITO','CAPACIDADEENDIVIDAMENTO','PAIS','PROVINCIA','CATEGORIAPROFISSIONAL','TIPOCLIENTE','ESTADOCIVIL','SEXO','GRADUADO'])\n",
        "ent.fit(df_train)\n",
        "df_train_ord = ent.transform(df_train)\n",
        "df_val_ord = ent.transform(df_val)\n",
        "\n",
        "X_train_ord = df_train_ord.drop(['DT_REGISTO_CLIENTE','DATACRIACAOCREDITO','EstadoCliente','NUMEROCLIENTE'], axis=1)\n",
        "X_val_ord = df_val_ord.drop(['DT_REGISTO_CLIENTE','DATACRIACAOCREDITO','EstadoCliente','NUMEROCLIENTE'], axis=1)\n",
        "\n",
        "y_train_ord = df_train_ohe['EstadoCliente'] # Variavel Independente\n",
        "y_val_ord = df_val_ohe['EstadoCliente'] # Variavel Independente"
      ]
    },
    {
      "cell_type": "code",
      "execution_count": 37,
      "metadata": {
        "colab": {
          "base_uri": "https://localhost:8080/"
        },
        "id": "8ISadiwkbSQi",
        "outputId": "fa2e8984-7427-4d5e-c52f-d840adbed590"
      },
      "outputs": [
        {
          "data": {
            "text/plain": [
              "0.01045639701663798"
            ]
          },
          "execution_count": 37,
          "metadata": {},
          "output_type": "execute_result"
        }
      ],
      "source": [
        "mdl = RandomForestRegressor(n_jobs=6, n_estimators=1000, random_state=22)\n",
        "mdl.fit(X_train_ord, y_train_ord)\n",
        "\n",
        "p_ord = mdl.predict(X_val_ord)\n",
        "mean_absolute_error(y_val_ord, p_ord)"
      ]
    },
    {
      "cell_type": "markdown",
      "metadata": {
        "id": "hW2zo_LeohQ4"
      },
      "source": [
        "## Logistic Regretion with OrdinalEncoder"
      ]
    },
    {
      "cell_type": "code",
      "execution_count": 38,
      "metadata": {
        "id": "oDJV-ZNwelWF"
      },
      "outputs": [],
      "source": [
        "dc_r = dc\n",
        "rl = OrdinalEncoder(cols=['TIPOCREDITO','CAPACIDADEENDIVIDAMENTO','PAIS','PROVINCIA','CATEGORIAPROFISSIONAL','TIPOCLIENTE','ESTADOCIVIL','SEXO','GRADUADO'])\n",
        "rl.fit(dc_r)\n",
        "\n",
        "df_train_rl = ent.transform(dc_r)"
      ]
    },
    {
      "cell_type": "code",
      "execution_count": 39,
      "metadata": {
        "colab": {
          "base_uri": "https://localhost:8080/",
          "height": 191
        },
        "id": "0NSZVtzXHPfq",
        "outputId": "7130eaae-bbe9-425b-cef1-0b9a4741204c"
      },
      "outputs": [
        {
          "data": {
            "text/html": [
              "\n",
              "  <div id=\"df-f6b4ad01-0dfc-4934-952d-a445e5455b8e\">\n",
              "    <div class=\"colab-df-container\">\n",
              "      <div>\n",
              "<style scoped>\n",
              "    .dataframe tbody tr th:only-of-type {\n",
              "        vertical-align: middle;\n",
              "    }\n",
              "\n",
              "    .dataframe tbody tr th {\n",
              "        vertical-align: top;\n",
              "    }\n",
              "\n",
              "    .dataframe thead th {\n",
              "        text-align: right;\n",
              "    }\n",
              "</style>\n",
              "<table border=\"1\" class=\"dataframe\">\n",
              "  <thead>\n",
              "    <tr style=\"text-align: right;\">\n",
              "      <th></th>\n",
              "      <th>NUMEROCLIENTE</th>\n",
              "      <th>CODIGOCLIENTE</th>\n",
              "      <th>NR_PRESTACOES</th>\n",
              "      <th>NR_PREST_PAGAS_ATRASO</th>\n",
              "      <th>NR_PREST_PAGAS_SEM_ATRASO</th>\n",
              "      <th>NR_PREST_NAOPAGAS_ATRASO</th>\n",
              "      <th>NR_PREST_NAO_PAGAS_SEM_ATRASO</th>\n",
              "      <th>TIPOCREDITO</th>\n",
              "      <th>DATACRIACAOCREDITO</th>\n",
              "      <th>PRAZO</th>\n",
              "      <th>...</th>\n",
              "      <th>CATEGORIAPROFISSIONAL</th>\n",
              "      <th>TIPOCLIENTE</th>\n",
              "      <th>RENDAMENSAL</th>\n",
              "      <th>RENDAANUAL</th>\n",
              "      <th>ESTADOCIVIL</th>\n",
              "      <th>HABILITACOES</th>\n",
              "      <th>SEXO</th>\n",
              "      <th>DT_REGISTO_CLIENTE</th>\n",
              "      <th>GRADUADO</th>\n",
              "      <th>EstadoCliente</th>\n",
              "    </tr>\n",
              "  </thead>\n",
              "  <tbody>\n",
              "    <tr>\n",
              "      <th>0</th>\n",
              "      <td>10102010</td>\n",
              "      <td>1</td>\n",
              "      <td>36</td>\n",
              "      <td>0</td>\n",
              "      <td>36</td>\n",
              "      <td>0</td>\n",
              "      <td>0</td>\n",
              "      <td>1</td>\n",
              "      <td>2012-08-09</td>\n",
              "      <td>36</td>\n",
              "      <td>...</td>\n",
              "      <td>1</td>\n",
              "      <td>1</td>\n",
              "      <td>23000.0</td>\n",
              "      <td>276000.0</td>\n",
              "      <td>1</td>\n",
              "      <td>6</td>\n",
              "      <td>1</td>\n",
              "      <td>2012-07-20 13:44:29.220</td>\n",
              "      <td>1</td>\n",
              "      <td>1</td>\n",
              "    </tr>\n",
              "  </tbody>\n",
              "</table>\n",
              "<p>1 rows × 27 columns</p>\n",
              "</div>\n",
              "      <button class=\"colab-df-convert\" onclick=\"convertToInteractive('df-f6b4ad01-0dfc-4934-952d-a445e5455b8e')\"\n",
              "              title=\"Convert this dataframe to an interactive table.\"\n",
              "              style=\"display:none;\">\n",
              "        \n",
              "  <svg xmlns=\"http://www.w3.org/2000/svg\" height=\"24px\"viewBox=\"0 0 24 24\"\n",
              "       width=\"24px\">\n",
              "    <path d=\"M0 0h24v24H0V0z\" fill=\"none\"/>\n",
              "    <path d=\"M18.56 5.44l.94 2.06.94-2.06 2.06-.94-2.06-.94-.94-2.06-.94 2.06-2.06.94zm-11 1L8.5 8.5l.94-2.06 2.06-.94-2.06-.94L8.5 2.5l-.94 2.06-2.06.94zm10 10l.94 2.06.94-2.06 2.06-.94-2.06-.94-.94-2.06-.94 2.06-2.06.94z\"/><path d=\"M17.41 7.96l-1.37-1.37c-.4-.4-.92-.59-1.43-.59-.52 0-1.04.2-1.43.59L10.3 9.45l-7.72 7.72c-.78.78-.78 2.05 0 2.83L4 21.41c.39.39.9.59 1.41.59.51 0 1.02-.2 1.41-.59l7.78-7.78 2.81-2.81c.8-.78.8-2.07 0-2.86zM5.41 20L4 18.59l7.72-7.72 1.47 1.35L5.41 20z\"/>\n",
              "  </svg>\n",
              "      </button>\n",
              "      \n",
              "  <style>\n",
              "    .colab-df-container {\n",
              "      display:flex;\n",
              "      flex-wrap:wrap;\n",
              "      gap: 12px;\n",
              "    }\n",
              "\n",
              "    .colab-df-convert {\n",
              "      background-color: #E8F0FE;\n",
              "      border: none;\n",
              "      border-radius: 50%;\n",
              "      cursor: pointer;\n",
              "      display: none;\n",
              "      fill: #1967D2;\n",
              "      height: 32px;\n",
              "      padding: 0 0 0 0;\n",
              "      width: 32px;\n",
              "    }\n",
              "\n",
              "    .colab-df-convert:hover {\n",
              "      background-color: #E2EBFA;\n",
              "      box-shadow: 0px 1px 2px rgba(60, 64, 67, 0.3), 0px 1px 3px 1px rgba(60, 64, 67, 0.15);\n",
              "      fill: #174EA6;\n",
              "    }\n",
              "\n",
              "    [theme=dark] .colab-df-convert {\n",
              "      background-color: #3B4455;\n",
              "      fill: #D2E3FC;\n",
              "    }\n",
              "\n",
              "    [theme=dark] .colab-df-convert:hover {\n",
              "      background-color: #434B5C;\n",
              "      box-shadow: 0px 1px 3px 1px rgba(0, 0, 0, 0.15);\n",
              "      filter: drop-shadow(0px 1px 2px rgba(0, 0, 0, 0.3));\n",
              "      fill: #FFFFFF;\n",
              "    }\n",
              "  </style>\n",
              "\n",
              "      <script>\n",
              "        const buttonEl =\n",
              "          document.querySelector('#df-f6b4ad01-0dfc-4934-952d-a445e5455b8e button.colab-df-convert');\n",
              "        buttonEl.style.display =\n",
              "          google.colab.kernel.accessAllowed ? 'block' : 'none';\n",
              "\n",
              "        async function convertToInteractive(key) {\n",
              "          const element = document.querySelector('#df-f6b4ad01-0dfc-4934-952d-a445e5455b8e');\n",
              "          const dataTable =\n",
              "            await google.colab.kernel.invokeFunction('convertToInteractive',\n",
              "                                                     [key], {});\n",
              "          if (!dataTable) return;\n",
              "\n",
              "          const docLinkHtml = 'Like what you see? Visit the ' +\n",
              "            '<a target=\"_blank\" href=https://colab.research.google.com/notebooks/data_table.ipynb>data table notebook</a>'\n",
              "            + ' to learn more about interactive tables.';\n",
              "          element.innerHTML = '';\n",
              "          dataTable['output_type'] = 'display_data';\n",
              "          await google.colab.output.renderOutput(dataTable, element);\n",
              "          const docLink = document.createElement('div');\n",
              "          docLink.innerHTML = docLinkHtml;\n",
              "          element.appendChild(docLink);\n",
              "        }\n",
              "      </script>\n",
              "    </div>\n",
              "  </div>\n",
              "  "
            ],
            "text/plain": [
              "   NUMEROCLIENTE  CODIGOCLIENTE  NR_PRESTACOES  NR_PREST_PAGAS_ATRASO  \\\n",
              "0       10102010              1             36                      0   \n",
              "\n",
              "   NR_PREST_PAGAS_SEM_ATRASO  NR_PREST_NAOPAGAS_ATRASO  \\\n",
              "0                         36                         0   \n",
              "\n",
              "   NR_PREST_NAO_PAGAS_SEM_ATRASO  TIPOCREDITO DATACRIACAOCREDITO  PRAZO  ...  \\\n",
              "0                              0            1         2012-08-09     36  ...   \n",
              "\n",
              "   CATEGORIAPROFISSIONAL  TIPOCLIENTE  RENDAMENSAL  RENDAANUAL  ESTADOCIVIL  \\\n",
              "0                      1            1      23000.0    276000.0            1   \n",
              "\n",
              "   HABILITACOES  SEXO      DT_REGISTO_CLIENTE  GRADUADO  EstadoCliente  \n",
              "0             6     1 2012-07-20 13:44:29.220         1              1  \n",
              "\n",
              "[1 rows x 27 columns]"
            ]
          },
          "execution_count": 39,
          "metadata": {},
          "output_type": "execute_result"
        }
      ],
      "source": [
        "df_train_rl.iloc[0:1,]"
      ]
    },
    {
      "cell_type": "code",
      "execution_count": 40,
      "metadata": {
        "id": "l_Y7IJ7BfH0J"
      },
      "outputs": [],
      "source": [
        "df_train_rl.drop(['DATACRIACAOCREDITO','DT_REGISTO_CLIENTE',],inplace=True,axis=1)\n",
        "df_train_rl.drop(['CODIGOCLIENTE','NUMEROCLIENTE',],inplace=True,axis=1)"
      ]
    },
    {
      "cell_type": "code",
      "execution_count": 41,
      "metadata": {
        "id": "TmO35z67haP7"
      },
      "outputs": [],
      "source": [
        "cols = list(df.columns.values)"
      ]
    },
    {
      "cell_type": "code",
      "execution_count": 42,
      "metadata": {
        "colab": {
          "base_uri": "https://localhost:8080/",
          "height": 425
        },
        "id": "q1nDYc-TjQ26",
        "outputId": "464d793e-b4e8-4d23-916e-8b2984aa6509"
      },
      "outputs": [
        {
          "data": {
            "text/html": [
              "\n",
              "  <div id=\"df-25c5fce0-ed27-4b44-94f4-1752756869d8\">\n",
              "    <div class=\"colab-df-container\">\n",
              "      <div>\n",
              "<style scoped>\n",
              "    .dataframe tbody tr th:only-of-type {\n",
              "        vertical-align: middle;\n",
              "    }\n",
              "\n",
              "    .dataframe tbody tr th {\n",
              "        vertical-align: top;\n",
              "    }\n",
              "\n",
              "    .dataframe thead th {\n",
              "        text-align: right;\n",
              "    }\n",
              "</style>\n",
              "<table border=\"1\" class=\"dataframe\">\n",
              "  <thead>\n",
              "    <tr style=\"text-align: right;\">\n",
              "      <th></th>\n",
              "      <th>NR_PRESTACOES</th>\n",
              "      <th>NR_PREST_PAGAS_ATRASO</th>\n",
              "      <th>NR_PREST_PAGAS_SEM_ATRASO</th>\n",
              "      <th>NR_PREST_NAOPAGAS_ATRASO</th>\n",
              "      <th>NR_PREST_NAO_PAGAS_SEM_ATRASO</th>\n",
              "      <th>TIPOCREDITO</th>\n",
              "      <th>PRAZO</th>\n",
              "      <th>CAPACIDADEENDIVIDAMENTO</th>\n",
              "      <th>VALORCREDITO</th>\n",
              "      <th>VALORPRESTACAO</th>\n",
              "      <th>...</th>\n",
              "      <th>IDADE</th>\n",
              "      <th>PROFISSAO</th>\n",
              "      <th>CATEGORIAPROFISSIONAL</th>\n",
              "      <th>TIPOCLIENTE</th>\n",
              "      <th>RENDAMENSAL</th>\n",
              "      <th>RENDAANUAL</th>\n",
              "      <th>ESTADOCIVIL</th>\n",
              "      <th>HABILITACOES</th>\n",
              "      <th>SEXO</th>\n",
              "      <th>GRADUADO</th>\n",
              "    </tr>\n",
              "  </thead>\n",
              "  <tbody>\n",
              "    <tr>\n",
              "      <th>0</th>\n",
              "      <td>36</td>\n",
              "      <td>0</td>\n",
              "      <td>36</td>\n",
              "      <td>0</td>\n",
              "      <td>0</td>\n",
              "      <td>1</td>\n",
              "      <td>36</td>\n",
              "      <td>1</td>\n",
              "      <td>200000.0</td>\n",
              "      <td>7535.01</td>\n",
              "      <td>...</td>\n",
              "      <td>25</td>\n",
              "      <td>31</td>\n",
              "      <td>1</td>\n",
              "      <td>1</td>\n",
              "      <td>23000.00</td>\n",
              "      <td>276000.00</td>\n",
              "      <td>1</td>\n",
              "      <td>6</td>\n",
              "      <td>1</td>\n",
              "      <td>1</td>\n",
              "    </tr>\n",
              "    <tr>\n",
              "      <th>1</th>\n",
              "      <td>37</td>\n",
              "      <td>10</td>\n",
              "      <td>27</td>\n",
              "      <td>0</td>\n",
              "      <td>0</td>\n",
              "      <td>1</td>\n",
              "      <td>36</td>\n",
              "      <td>1</td>\n",
              "      <td>60000.0</td>\n",
              "      <td>2322.58</td>\n",
              "      <td>...</td>\n",
              "      <td>33</td>\n",
              "      <td>54</td>\n",
              "      <td>2</td>\n",
              "      <td>1</td>\n",
              "      <td>6451.96</td>\n",
              "      <td>77423.52</td>\n",
              "      <td>2</td>\n",
              "      <td>5</td>\n",
              "      <td>1</td>\n",
              "      <td>1</td>\n",
              "    </tr>\n",
              "    <tr>\n",
              "      <th>2</th>\n",
              "      <td>36</td>\n",
              "      <td>26</td>\n",
              "      <td>10</td>\n",
              "      <td>0</td>\n",
              "      <td>0</td>\n",
              "      <td>1</td>\n",
              "      <td>36</td>\n",
              "      <td>2</td>\n",
              "      <td>70000.0</td>\n",
              "      <td>2709.68</td>\n",
              "      <td>...</td>\n",
              "      <td>28</td>\n",
              "      <td>13</td>\n",
              "      <td>3</td>\n",
              "      <td>1</td>\n",
              "      <td>10034.00</td>\n",
              "      <td>120408.00</td>\n",
              "      <td>1</td>\n",
              "      <td>5</td>\n",
              "      <td>2</td>\n",
              "      <td>1</td>\n",
              "    </tr>\n",
              "    <tr>\n",
              "      <th>3</th>\n",
              "      <td>37</td>\n",
              "      <td>0</td>\n",
              "      <td>37</td>\n",
              "      <td>0</td>\n",
              "      <td>0</td>\n",
              "      <td>1</td>\n",
              "      <td>36</td>\n",
              "      <td>2</td>\n",
              "      <td>140000.0</td>\n",
              "      <td>5274.51</td>\n",
              "      <td>...</td>\n",
              "      <td>38</td>\n",
              "      <td>52</td>\n",
              "      <td>3</td>\n",
              "      <td>1</td>\n",
              "      <td>1615050.00</td>\n",
              "      <td>19380600.00</td>\n",
              "      <td>2</td>\n",
              "      <td>6</td>\n",
              "      <td>1</td>\n",
              "      <td>1</td>\n",
              "    </tr>\n",
              "    <tr>\n",
              "      <th>4</th>\n",
              "      <td>36</td>\n",
              "      <td>17</td>\n",
              "      <td>19</td>\n",
              "      <td>0</td>\n",
              "      <td>0</td>\n",
              "      <td>1</td>\n",
              "      <td>36</td>\n",
              "      <td>2</td>\n",
              "      <td>50000.0</td>\n",
              "      <td>1935.49</td>\n",
              "      <td>...</td>\n",
              "      <td>34</td>\n",
              "      <td>50</td>\n",
              "      <td>4</td>\n",
              "      <td>1</td>\n",
              "      <td>10000.00</td>\n",
              "      <td>120000.00</td>\n",
              "      <td>1</td>\n",
              "      <td>3</td>\n",
              "      <td>1</td>\n",
              "      <td>2</td>\n",
              "    </tr>\n",
              "    <tr>\n",
              "      <th>5</th>\n",
              "      <td>37</td>\n",
              "      <td>0</td>\n",
              "      <td>37</td>\n",
              "      <td>0</td>\n",
              "      <td>0</td>\n",
              "      <td>1</td>\n",
              "      <td>36</td>\n",
              "      <td>1</td>\n",
              "      <td>350000.0</td>\n",
              "      <td>13548.40</td>\n",
              "      <td>...</td>\n",
              "      <td>34</td>\n",
              "      <td>53</td>\n",
              "      <td>3</td>\n",
              "      <td>1</td>\n",
              "      <td>39941.00</td>\n",
              "      <td>479292.00</td>\n",
              "      <td>2</td>\n",
              "      <td>3</td>\n",
              "      <td>1</td>\n",
              "      <td>2</td>\n",
              "    </tr>\n",
              "    <tr>\n",
              "      <th>6</th>\n",
              "      <td>6</td>\n",
              "      <td>1</td>\n",
              "      <td>5</td>\n",
              "      <td>0</td>\n",
              "      <td>0</td>\n",
              "      <td>1</td>\n",
              "      <td>6</td>\n",
              "      <td>2</td>\n",
              "      <td>10000.0</td>\n",
              "      <td>1780.24</td>\n",
              "      <td>...</td>\n",
              "      <td>41</td>\n",
              "      <td>46</td>\n",
              "      <td>4</td>\n",
              "      <td>1</td>\n",
              "      <td>15000.00</td>\n",
              "      <td>180000.00</td>\n",
              "      <td>3</td>\n",
              "      <td>8</td>\n",
              "      <td>1</td>\n",
              "      <td>2</td>\n",
              "    </tr>\n",
              "    <tr>\n",
              "      <th>7</th>\n",
              "      <td>11</td>\n",
              "      <td>7</td>\n",
              "      <td>4</td>\n",
              "      <td>0</td>\n",
              "      <td>0</td>\n",
              "      <td>1</td>\n",
              "      <td>12</td>\n",
              "      <td>2</td>\n",
              "      <td>90000.0</td>\n",
              "      <td>8466.87</td>\n",
              "      <td>...</td>\n",
              "      <td>39</td>\n",
              "      <td>32</td>\n",
              "      <td>5</td>\n",
              "      <td>1</td>\n",
              "      <td>102000.00</td>\n",
              "      <td>1224000.00</td>\n",
              "      <td>1</td>\n",
              "      <td>6</td>\n",
              "      <td>1</td>\n",
              "      <td>1</td>\n",
              "    </tr>\n",
              "    <tr>\n",
              "      <th>8</th>\n",
              "      <td>36</td>\n",
              "      <td>1</td>\n",
              "      <td>35</td>\n",
              "      <td>0</td>\n",
              "      <td>0</td>\n",
              "      <td>1</td>\n",
              "      <td>36</td>\n",
              "      <td>2</td>\n",
              "      <td>500000.0</td>\n",
              "      <td>18837.53</td>\n",
              "      <td>...</td>\n",
              "      <td>36</td>\n",
              "      <td>52</td>\n",
              "      <td>5</td>\n",
              "      <td>1</td>\n",
              "      <td>68931.00</td>\n",
              "      <td>827172.00</td>\n",
              "      <td>2</td>\n",
              "      <td>7</td>\n",
              "      <td>1</td>\n",
              "      <td>1</td>\n",
              "    </tr>\n",
              "  </tbody>\n",
              "</table>\n",
              "<p>9 rows × 22 columns</p>\n",
              "</div>\n",
              "      <button class=\"colab-df-convert\" onclick=\"convertToInteractive('df-25c5fce0-ed27-4b44-94f4-1752756869d8')\"\n",
              "              title=\"Convert this dataframe to an interactive table.\"\n",
              "              style=\"display:none;\">\n",
              "        \n",
              "  <svg xmlns=\"http://www.w3.org/2000/svg\" height=\"24px\"viewBox=\"0 0 24 24\"\n",
              "       width=\"24px\">\n",
              "    <path d=\"M0 0h24v24H0V0z\" fill=\"none\"/>\n",
              "    <path d=\"M18.56 5.44l.94 2.06.94-2.06 2.06-.94-2.06-.94-.94-2.06-.94 2.06-2.06.94zm-11 1L8.5 8.5l.94-2.06 2.06-.94-2.06-.94L8.5 2.5l-.94 2.06-2.06.94zm10 10l.94 2.06.94-2.06 2.06-.94-2.06-.94-.94-2.06-.94 2.06-2.06.94z\"/><path d=\"M17.41 7.96l-1.37-1.37c-.4-.4-.92-.59-1.43-.59-.52 0-1.04.2-1.43.59L10.3 9.45l-7.72 7.72c-.78.78-.78 2.05 0 2.83L4 21.41c.39.39.9.59 1.41.59.51 0 1.02-.2 1.41-.59l7.78-7.78 2.81-2.81c.8-.78.8-2.07 0-2.86zM5.41 20L4 18.59l7.72-7.72 1.47 1.35L5.41 20z\"/>\n",
              "  </svg>\n",
              "      </button>\n",
              "      \n",
              "  <style>\n",
              "    .colab-df-container {\n",
              "      display:flex;\n",
              "      flex-wrap:wrap;\n",
              "      gap: 12px;\n",
              "    }\n",
              "\n",
              "    .colab-df-convert {\n",
              "      background-color: #E8F0FE;\n",
              "      border: none;\n",
              "      border-radius: 50%;\n",
              "      cursor: pointer;\n",
              "      display: none;\n",
              "      fill: #1967D2;\n",
              "      height: 32px;\n",
              "      padding: 0 0 0 0;\n",
              "      width: 32px;\n",
              "    }\n",
              "\n",
              "    .colab-df-convert:hover {\n",
              "      background-color: #E2EBFA;\n",
              "      box-shadow: 0px 1px 2px rgba(60, 64, 67, 0.3), 0px 1px 3px 1px rgba(60, 64, 67, 0.15);\n",
              "      fill: #174EA6;\n",
              "    }\n",
              "\n",
              "    [theme=dark] .colab-df-convert {\n",
              "      background-color: #3B4455;\n",
              "      fill: #D2E3FC;\n",
              "    }\n",
              "\n",
              "    [theme=dark] .colab-df-convert:hover {\n",
              "      background-color: #434B5C;\n",
              "      box-shadow: 0px 1px 3px 1px rgba(0, 0, 0, 0.15);\n",
              "      filter: drop-shadow(0px 1px 2px rgba(0, 0, 0, 0.3));\n",
              "      fill: #FFFFFF;\n",
              "    }\n",
              "  </style>\n",
              "\n",
              "      <script>\n",
              "        const buttonEl =\n",
              "          document.querySelector('#df-25c5fce0-ed27-4b44-94f4-1752756869d8 button.colab-df-convert');\n",
              "        buttonEl.style.display =\n",
              "          google.colab.kernel.accessAllowed ? 'block' : 'none';\n",
              "\n",
              "        async function convertToInteractive(key) {\n",
              "          const element = document.querySelector('#df-25c5fce0-ed27-4b44-94f4-1752756869d8');\n",
              "          const dataTable =\n",
              "            await google.colab.kernel.invokeFunction('convertToInteractive',\n",
              "                                                     [key], {});\n",
              "          if (!dataTable) return;\n",
              "\n",
              "          const docLinkHtml = 'Like what you see? Visit the ' +\n",
              "            '<a target=\"_blank\" href=https://colab.research.google.com/notebooks/data_table.ipynb>data table notebook</a>'\n",
              "            + ' to learn more about interactive tables.';\n",
              "          element.innerHTML = '';\n",
              "          dataTable['output_type'] = 'display_data';\n",
              "          await google.colab.output.renderOutput(dataTable, element);\n",
              "          const docLink = document.createElement('div');\n",
              "          docLink.innerHTML = docLinkHtml;\n",
              "          element.appendChild(docLink);\n",
              "        }\n",
              "      </script>\n",
              "    </div>\n",
              "  </div>\n",
              "  "
            ],
            "text/plain": [
              "   NR_PRESTACOES  NR_PREST_PAGAS_ATRASO  NR_PREST_PAGAS_SEM_ATRASO  \\\n",
              "0             36                      0                         36   \n",
              "1             37                     10                         27   \n",
              "2             36                     26                         10   \n",
              "3             37                      0                         37   \n",
              "4             36                     17                         19   \n",
              "5             37                      0                         37   \n",
              "6              6                      1                          5   \n",
              "7             11                      7                          4   \n",
              "8             36                      1                         35   \n",
              "\n",
              "   NR_PREST_NAOPAGAS_ATRASO  NR_PREST_NAO_PAGAS_SEM_ATRASO  TIPOCREDITO  \\\n",
              "0                         0                              0            1   \n",
              "1                         0                              0            1   \n",
              "2                         0                              0            1   \n",
              "3                         0                              0            1   \n",
              "4                         0                              0            1   \n",
              "5                         0                              0            1   \n",
              "6                         0                              0            1   \n",
              "7                         0                              0            1   \n",
              "8                         0                              0            1   \n",
              "\n",
              "   PRAZO  CAPACIDADEENDIVIDAMENTO  VALORCREDITO  VALORPRESTACAO  ...  IDADE  \\\n",
              "0     36                        1      200000.0         7535.01  ...     25   \n",
              "1     36                        1       60000.0         2322.58  ...     33   \n",
              "2     36                        2       70000.0         2709.68  ...     28   \n",
              "3     36                        2      140000.0         5274.51  ...     38   \n",
              "4     36                        2       50000.0         1935.49  ...     34   \n",
              "5     36                        1      350000.0        13548.40  ...     34   \n",
              "6      6                        2       10000.0         1780.24  ...     41   \n",
              "7     12                        2       90000.0         8466.87  ...     39   \n",
              "8     36                        2      500000.0        18837.53  ...     36   \n",
              "\n",
              "   PROFISSAO  CATEGORIAPROFISSIONAL  TIPOCLIENTE  RENDAMENSAL   RENDAANUAL  \\\n",
              "0         31                      1            1     23000.00    276000.00   \n",
              "1         54                      2            1      6451.96     77423.52   \n",
              "2         13                      3            1     10034.00    120408.00   \n",
              "3         52                      3            1   1615050.00  19380600.00   \n",
              "4         50                      4            1     10000.00    120000.00   \n",
              "5         53                      3            1     39941.00    479292.00   \n",
              "6         46                      4            1     15000.00    180000.00   \n",
              "7         32                      5            1    102000.00   1224000.00   \n",
              "8         52                      5            1     68931.00    827172.00   \n",
              "\n",
              "   ESTADOCIVIL  HABILITACOES  SEXO  GRADUADO  \n",
              "0            1             6     1         1  \n",
              "1            2             5     1         1  \n",
              "2            1             5     2         1  \n",
              "3            2             6     1         1  \n",
              "4            1             3     1         2  \n",
              "5            2             3     1         2  \n",
              "6            3             8     1         2  \n",
              "7            1             6     1         1  \n",
              "8            2             7     1         1  \n",
              "\n",
              "[9 rows x 22 columns]"
            ]
          },
          "execution_count": 42,
          "metadata": {},
          "output_type": "execute_result"
        }
      ],
      "source": [
        "df_train_rl.iloc[0:9,0:22]"
      ]
    },
    {
      "cell_type": "code",
      "execution_count": 43,
      "metadata": {
        "id": "go8Jr38AbcSc"
      },
      "outputs": [],
      "source": [
        "x = df_train_rl.iloc[0:9487,0:22].values\n",
        "y = df_train_rl.iloc[0:9487,22:23].values"
      ]
    },
    {
      "cell_type": "code",
      "execution_count": 44,
      "metadata": {
        "id": "6seYTDepTKQy"
      },
      "outputs": [],
      "source": [
        "from sklearn.model_selection import train_test_split\n",
        "X_train,X_test,y_train,y_test = train_test_split(x,y, test_size=0.2,random_state=101)"
      ]
    },
    {
      "cell_type": "code",
      "execution_count": 45,
      "metadata": {
        "id": "g2H82gMEhczJ"
      },
      "outputs": [],
      "source": [
        "from sklearn.preprocessing import StandardScaler\n",
        "sc = StandardScaler()\n",
        "X_train = sc.fit_transform(X_train)\n",
        "X_test = sc.transform(X_test) "
      ]
    },
    {
      "cell_type": "code",
      "execution_count": 46,
      "metadata": {
        "colab": {
          "base_uri": "https://localhost:8080/"
        },
        "id": "GCI5WBe7ZK2H",
        "outputId": "c22ff050-7327-41fb-a6c9-4d908e7d53c7"
      },
      "outputs": [
        {
          "name": "stderr",
          "output_type": "stream",
          "text": [
            "/usr/local/lib/python3.7/dist-packages/sklearn/utils/validation.py:993: DataConversionWarning: A column-vector y was passed when a 1d array was expected. Please change the shape of y to (n_samples, ), for example using ravel().\n",
            "  y = column_or_1d(y, warn=True)\n"
          ]
        },
        {
          "data": {
            "text/plain": [
              "LogisticRegression()"
            ]
          },
          "execution_count": 46,
          "metadata": {},
          "output_type": "execute_result"
        }
      ],
      "source": [
        "from sklearn.linear_model import LogisticRegression\n",
        "model = LogisticRegression()\n",
        "model.fit(X_train,y_train)"
      ]
    },
    {
      "cell_type": "code",
      "execution_count": 47,
      "metadata": {
        "id": "p7sdE95RbvZH"
      },
      "outputs": [],
      "source": [
        "from sklearn.metrics import accuracy_score,confusion_matrix,classification_report,plot_confusion_matrix\n",
        "ypread = model.predict(X_test)"
      ]
    },
    {
      "cell_type": "code",
      "execution_count": 48,
      "metadata": {
        "colab": {
          "base_uri": "https://localhost:8080/"
        },
        "id": "Sz1ERuDIeLRG",
        "outputId": "1766dff6-eb78-4114-d1da-ddc0f3afa57b"
      },
      "outputs": [
        {
          "data": {
            "text/plain": [
              "0.9931506849315068"
            ]
          },
          "execution_count": 48,
          "metadata": {},
          "output_type": "execute_result"
        }
      ],
      "source": [
        "accuracy_score(y_test,ypread)"
      ]
    },
    {
      "cell_type": "code",
      "execution_count": 49,
      "metadata": {
        "colab": {
          "base_uri": "https://localhost:8080/"
        },
        "id": "v6AkZ4IHeZFL",
        "outputId": "ac929f87-41b8-46b5-a6af-376a8edcb6ee"
      },
      "outputs": [
        {
          "data": {
            "text/plain": [
              "array([[ 827,   10],\n",
              "       [   3, 1058]])"
            ]
          },
          "execution_count": 49,
          "metadata": {},
          "output_type": "execute_result"
        }
      ],
      "source": [
        "confusion_matrix(y_test,ypread)"
      ]
    },
    {
      "cell_type": "code",
      "execution_count": 50,
      "metadata": {
        "colab": {
          "base_uri": "https://localhost:8080/",
          "height": 351
        },
        "id": "sRhmaoYygtyc",
        "outputId": "1dcb02b6-0203-4d81-a298-94726e9d3917"
      },
      "outputs": [
        {
          "name": "stderr",
          "output_type": "stream",
          "text": [
            "/usr/local/lib/python3.7/dist-packages/sklearn/utils/deprecation.py:87: FutureWarning: Function plot_confusion_matrix is deprecated; Function `plot_confusion_matrix` is deprecated in 1.0 and will be removed in 1.2. Use one of the class methods: ConfusionMatrixDisplay.from_predictions or ConfusionMatrixDisplay.from_estimator.\n",
            "  warnings.warn(msg, category=FutureWarning)\n"
          ]
        },
        {
          "data": {
            "text/plain": [
              "<sklearn.metrics._plot.confusion_matrix.ConfusionMatrixDisplay at 0x7fb840153e10>"
            ]
          },
          "execution_count": 50,
          "metadata": {},
          "output_type": "execute_result"
        },
        {
          "data": {
            "image/png": "[encoded data removed]",
            "text/plain": [
              "<Figure size 432x288 with 2 Axes>"
            ]
          },
          "metadata": {
            "needs_background": "light"
          },
          "output_type": "display_data"
        }
      ],
      "source": [
        "plot_confusion_matrix(model,X_test,y_test)"
      ]
    },
    {
      "cell_type": "code",
      "execution_count": 51,
      "metadata": {
        "colab": {
          "base_uri": "https://localhost:8080/"
        },
        "id": "Q1NoFrQYg7j6",
        "outputId": "81ea0b5f-44c3-4aaa-c700-d777408ad361"
      },
      "outputs": [
        {
          "name": "stdout",
          "output_type": "stream",
          "text": [
            "              precision    recall  f1-score   support\n",
            "\n",
            "           0       1.00      0.99      0.99       837\n",
            "           1       0.99      1.00      0.99      1061\n",
            "\n",
            "    accuracy                           0.99      1898\n",
            "   macro avg       0.99      0.99      0.99      1898\n",
            "weighted avg       0.99      0.99      0.99      1898\n",
            "\n"
          ]
        }
      ],
      "source": [
        "print(classification_report(y_test,ypread))"
      ]
    },
    {
      "cell_type": "code",
      "execution_count": 52,
      "metadata": {
        "colab": {
          "base_uri": "https://localhost:8080/",
          "height": 174
        },
        "id": "Ed3GxgozH4_J",
        "outputId": "b442cf91-c23e-490a-98dd-a44c30702acb"
      },
      "outputs": [
        {
          "data": {
            "text/html": [
              "\n",
              "  <div id=\"df-27cd3a47-e1a9-44f4-9301-3ca6327d4c16\">\n",
              "    <div class=\"colab-df-container\">\n",
              "      <div>\n",
              "<style scoped>\n",
              "    .dataframe tbody tr th:only-of-type {\n",
              "        vertical-align: middle;\n",
              "    }\n",
              "\n",
              "    .dataframe tbody tr th {\n",
              "        vertical-align: top;\n",
              "    }\n",
              "\n",
              "    .dataframe thead th {\n",
              "        text-align: right;\n",
              "    }\n",
              "</style>\n",
              "<table border=\"1\" class=\"dataframe\">\n",
              "  <thead>\n",
              "    <tr style=\"text-align: right;\">\n",
              "      <th></th>\n",
              "      <th>NR_PREST_PAGAS_ATRASO</th>\n",
              "      <th>NR_PREST_PAGAS_SEM_ATRASO</th>\n",
              "      <th>NR_PREST_NAOPAGAS_ATRASO</th>\n",
              "      <th>NR_PREST_NAO_PAGAS_SEM_ATRASO</th>\n",
              "      <th>TIPOCREDITO</th>\n",
              "      <th>PRAZO</th>\n",
              "      <th>CAPACIDADEENDIVIDAMENTO</th>\n",
              "      <th>VALORCREDITO</th>\n",
              "      <th>VALORPRESTACAO</th>\n",
              "      <th>PAIS</th>\n",
              "      <th>...</th>\n",
              "      <th>PROFISSAO</th>\n",
              "      <th>CATEGORIAPROFISSIONAL</th>\n",
              "      <th>TIPOCLIENTE</th>\n",
              "      <th>RENDAMENSAL</th>\n",
              "      <th>RENDAANUAL</th>\n",
              "      <th>ESTADOCIVIL</th>\n",
              "      <th>HABILITACOES</th>\n",
              "      <th>SEXO</th>\n",
              "      <th>GRADUADO</th>\n",
              "      <th>EstadoCliente</th>\n",
              "    </tr>\n",
              "  </thead>\n",
              "  <tbody>\n",
              "    <tr>\n",
              "      <th>2500</th>\n",
              "      <td>0</td>\n",
              "      <td>1</td>\n",
              "      <td>0</td>\n",
              "      <td>0</td>\n",
              "      <td>2</td>\n",
              "      <td>1</td>\n",
              "      <td>1</td>\n",
              "      <td>7000.0</td>\n",
              "      <td>7560.0</td>\n",
              "      <td>1</td>\n",
              "      <td>...</td>\n",
              "      <td>60</td>\n",
              "      <td>2</td>\n",
              "      <td>1</td>\n",
              "      <td>8613.09</td>\n",
              "      <td>103357.08</td>\n",
              "      <td>1</td>\n",
              "      <td>3</td>\n",
              "      <td>2</td>\n",
              "      <td>2</td>\n",
              "      <td>1</td>\n",
              "    </tr>\n",
              "  </tbody>\n",
              "</table>\n",
              "<p>1 rows × 22 columns</p>\n",
              "</div>\n",
              "      <button class=\"colab-df-convert\" onclick=\"convertToInteractive('df-27cd3a47-e1a9-44f4-9301-3ca6327d4c16')\"\n",
              "              title=\"Convert this dataframe to an interactive table.\"\n",
              "              style=\"display:none;\">\n",
              "        \n",
              "  <svg xmlns=\"http://www.w3.org/2000/svg\" height=\"24px\"viewBox=\"0 0 24 24\"\n",
              "       width=\"24px\">\n",
              "    <path d=\"M0 0h24v24H0V0z\" fill=\"none\"/>\n",
              "    <path d=\"M18.56 5.44l.94 2.06.94-2.06 2.06-.94-2.06-.94-.94-2.06-.94 2.06-2.06.94zm-11 1L8.5 8.5l.94-2.06 2.06-.94-2.06-.94L8.5 2.5l-.94 2.06-2.06.94zm10 10l.94 2.06.94-2.06 2.06-.94-2.06-.94-.94-2.06-.94 2.06-2.06.94z\"/><path d=\"M17.41 7.96l-1.37-1.37c-.4-.4-.92-.59-1.43-.59-.52 0-1.04.2-1.43.59L10.3 9.45l-7.72 7.72c-.78.78-.78 2.05 0 2.83L4 21.41c.39.39.9.59 1.41.59.51 0 1.02-.2 1.41-.59l7.78-7.78 2.81-2.81c.8-.78.8-2.07 0-2.86zM5.41 20L4 18.59l7.72-7.72 1.47 1.35L5.41 20z\"/>\n",
              "  </svg>\n",
              "      </button>\n",
              "      \n",
              "  <style>\n",
              "    .colab-df-container {\n",
              "      display:flex;\n",
              "      flex-wrap:wrap;\n",
              "      gap: 12px;\n",
              "    }\n",
              "\n",
              "    .colab-df-convert {\n",
              "      background-color: #E8F0FE;\n",
              "      border: none;\n",
              "      border-radius: 50%;\n",
              "      cursor: pointer;\n",
              "      display: none;\n",
              "      fill: #1967D2;\n",
              "      height: 32px;\n",
              "      padding: 0 0 0 0;\n",
              "      width: 32px;\n",
              "    }\n",
              "\n",
              "    .colab-df-convert:hover {\n",
              "      background-color: #E2EBFA;\n",
              "      box-shadow: 0px 1px 2px rgba(60, 64, 67, 0.3), 0px 1px 3px 1px rgba(60, 64, 67, 0.15);\n",
              "      fill: #174EA6;\n",
              "    }\n",
              "\n",
              "    [theme=dark] .colab-df-convert {\n",
              "      background-color: #3B4455;\n",
              "      fill: #D2E3FC;\n",
              "    }\n",
              "\n",
              "    [theme=dark] .colab-df-convert:hover {\n",
              "      background-color: #434B5C;\n",
              "      box-shadow: 0px 1px 3px 1px rgba(0, 0, 0, 0.15);\n",
              "      filter: drop-shadow(0px 1px 2px rgba(0, 0, 0, 0.3));\n",
              "      fill: #FFFFFF;\n",
              "    }\n",
              "  </style>\n",
              "\n",
              "      <script>\n",
              "        const buttonEl =\n",
              "          document.querySelector('#df-27cd3a47-e1a9-44f4-9301-3ca6327d4c16 button.colab-df-convert');\n",
              "        buttonEl.style.display =\n",
              "          google.colab.kernel.accessAllowed ? 'block' : 'none';\n",
              "\n",
              "        async function convertToInteractive(key) {\n",
              "          const element = document.querySelector('#df-27cd3a47-e1a9-44f4-9301-3ca6327d4c16');\n",
              "          const dataTable =\n",
              "            await google.colab.kernel.invokeFunction('convertToInteractive',\n",
              "                                                     [key], {});\n",
              "          if (!dataTable) return;\n",
              "\n",
              "          const docLinkHtml = 'Like what you see? Visit the ' +\n",
              "            '<a target=\"_blank\" href=https://colab.research.google.com/notebooks/data_table.ipynb>data table notebook</a>'\n",
              "            + ' to learn more about interactive tables.';\n",
              "          element.innerHTML = '';\n",
              "          dataTable['output_type'] = 'display_data';\n",
              "          await google.colab.output.renderOutput(dataTable, element);\n",
              "          const docLink = document.createElement('div');\n",
              "          docLink.innerHTML = docLinkHtml;\n",
              "          element.appendChild(docLink);\n",
              "        }\n",
              "      </script>\n",
              "    </div>\n",
              "  </div>\n",
              "  "
            ],
            "text/plain": [
              "      NR_PREST_PAGAS_ATRASO  NR_PREST_PAGAS_SEM_ATRASO  \\\n",
              "2500                      0                          1   \n",
              "\n",
              "      NR_PREST_NAOPAGAS_ATRASO  NR_PREST_NAO_PAGAS_SEM_ATRASO  TIPOCREDITO  \\\n",
              "2500                         0                              0            2   \n",
              "\n",
              "      PRAZO  CAPACIDADEENDIVIDAMENTO  VALORCREDITO  VALORPRESTACAO  PAIS  ...  \\\n",
              "2500      1                        1        7000.0          7560.0     1  ...   \n",
              "\n",
              "      PROFISSAO  CATEGORIAPROFISSIONAL  TIPOCLIENTE  RENDAMENSAL  RENDAANUAL  \\\n",
              "2500         60                      2            1      8613.09   103357.08   \n",
              "\n",
              "      ESTADOCIVIL  HABILITACOES  SEXO  GRADUADO  EstadoCliente  \n",
              "2500            1             3     2         2              1  \n",
              "\n",
              "[1 rows x 22 columns]"
            ]
          },
          "execution_count": 52,
          "metadata": {},
          "output_type": "execute_result"
        }
      ],
      "source": [
        "df_train_rl.iloc[2500:2501,1:]"
      ]
    },
    {
      "cell_type": "code",
      "execution_count": 53,
      "metadata": {
        "colab": {
          "base_uri": "https://localhost:8080/"
        },
        "id": "Jb0APBiPhXar",
        "outputId": "f0317fe5-ff71-45d2-f94b-f1db6216cfb6"
      },
      "outputs": [
        {
          "name": "stderr",
          "output_type": "stream",
          "text": [
            "/usr/local/lib/python3.7/dist-packages/sklearn/utils/validation.py:993: DataConversionWarning: A column-vector y was passed when a 1d array was expected. Please change the shape of y to (n_samples, ), for example using ravel().\n",
            "  y = column_or_1d(y, warn=True)\n"
          ]
        },
        {
          "data": {
            "text/plain": [
              "LogisticRegressionCV()"
            ]
          },
          "execution_count": 53,
          "metadata": {},
          "output_type": "execute_result"
        }
      ],
      "source": [
        "from sklearn.linear_model import LogisticRegressionCV\n",
        "model_CV = LogisticRegressionCV()\n",
        "model_CV.fit(X_train,y_train) "
      ]
    },
    {
      "cell_type": "code",
      "execution_count": 54,
      "metadata": {
        "colab": {
          "base_uri": "https://localhost:8080/"
        },
        "id": "Ljgv-H_Ph_-L",
        "outputId": "fb819182-326c-4a97-f5e7-ccadab2fce7e"
      },
      "outputs": [
        {
          "data": {
            "text/plain": [
              "{'Cs': 10,\n",
              " 'class_weight': None,\n",
              " 'cv': None,\n",
              " 'dual': False,\n",
              " 'fit_intercept': True,\n",
              " 'intercept_scaling': 1.0,\n",
              " 'l1_ratios': None,\n",
              " 'max_iter': 100,\n",
              " 'multi_class': 'auto',\n",
              " 'n_jobs': None,\n",
              " 'penalty': 'l2',\n",
              " 'random_state': None,\n",
              " 'refit': True,\n",
              " 'scoring': None,\n",
              " 'solver': 'lbfgs',\n",
              " 'tol': 0.0001,\n",
              " 'verbose': 0}"
            ]
          },
          "execution_count": 54,
          "metadata": {},
          "output_type": "execute_result"
        }
      ],
      "source": [
        "model_CV.get_params()"
      ]
    },
    {
      "cell_type": "code",
      "execution_count": 55,
      "metadata": {
        "colab": {
          "base_uri": "https://localhost:8080/"
        },
        "id": "mt7PF8_8iNJl",
        "outputId": "5be43243-2e7f-438f-87dc-74c10ff86b2c"
      },
      "outputs": [
        {
          "data": {
            "text/plain": [
              "array([[ 9.19749438e+00, -3.48257608e+01,  3.11178596e+00,\n",
              "        -9.68306774e+00,  1.88448650e-01,  9.03483874e-01,\n",
              "         7.10484843e-03,  4.25263457e-02,  1.92090501e-01,\n",
              "         3.46633603e-01,  6.35592901e-03, -3.73090186e-03,\n",
              "        -1.79758789e-01, -1.21895278e-01,  5.86048658e-01,\n",
              "        -1.37844463e-01,  7.59315516e-02,  7.59315516e-02,\n",
              "         2.32146958e-01, -1.61648180e-01, -2.51444845e-01,\n",
              "        -4.63285941e-01]])"
            ]
          },
          "execution_count": 55,
          "metadata": {},
          "output_type": "execute_result"
        }
      ],
      "source": [
        "model_CV.coef_"
      ]
    },
    {
      "cell_type": "code",
      "execution_count": 56,
      "metadata": {
        "id": "rdKiszIViUJQ"
      },
      "outputs": [],
      "source": [
        "from sklearn.metrics import confusion_matrix,classification_report,plot_confusion_matrix"
      ]
    },
    {
      "cell_type": "code",
      "execution_count": 57,
      "metadata": {
        "id": "zGV-Pg8TicGs"
      },
      "outputs": [],
      "source": [
        "y_pred = model_CV.predict(X_test)"
      ]
    },
    {
      "cell_type": "code",
      "execution_count": 58,
      "metadata": {
        "colab": {
          "base_uri": "https://localhost:8080/"
        },
        "id": "6vCZZtC0je2L",
        "outputId": "882abfe6-b30e-4b6d-cd61-370392fff62d"
      },
      "outputs": [
        {
          "data": {
            "text/plain": [
              "0.994204425711275"
            ]
          },
          "execution_count": 58,
          "metadata": {},
          "output_type": "execute_result"
        }
      ],
      "source": [
        "accuracy_score(y_test,y_pred)"
      ]
    },
    {
      "cell_type": "code",
      "execution_count": 59,
      "metadata": {
        "colab": {
          "base_uri": "https://localhost:8080/",
          "height": 351
        },
        "id": "SLb9BS7ikXRl",
        "outputId": "87cd5846-3412-4ab6-90f6-ebc975ba71a4"
      },
      "outputs": [
        {
          "name": "stderr",
          "output_type": "stream",
          "text": [
            "/usr/local/lib/python3.7/dist-packages/sklearn/utils/deprecation.py:87: FutureWarning: Function plot_confusion_matrix is deprecated; Function `plot_confusion_matrix` is deprecated in 1.0 and will be removed in 1.2. Use one of the class methods: ConfusionMatrixDisplay.from_predictions or ConfusionMatrixDisplay.from_estimator.\n",
            "  warnings.warn(msg, category=FutureWarning)\n"
          ]
        },
        {
          "data": {
            "text/plain": [
              "<sklearn.metrics._plot.confusion_matrix.ConfusionMatrixDisplay at 0x7fb840f674d0>"
            ]
          },
          "execution_count": 59,
          "metadata": {},
          "output_type": "execute_result"
        },
        {
          "data": {
            "image/png": "[encoded data removed]",
            "text/plain": [
              "<Figure size 432x288 with 2 Axes>"
            ]
          },
          "metadata": {
            "needs_background": "light"
          },
          "output_type": "display_data"
        }
      ],
      "source": [
        "plot_confusion_matrix(model_CV,X_test,y_test)"
      ]
    },
    {
      "cell_type": "code",
      "execution_count": 60,
      "metadata": {
        "colab": {
          "base_uri": "https://localhost:8080/"
        },
        "id": "nMT9frMTkw9m",
        "outputId": "e9f8f9a7-6ae7-4d14-e679-3db8271576af"
      },
      "outputs": [
        {
          "name": "stdout",
          "output_type": "stream",
          "text": [
            "              precision    recall  f1-score   support\n",
            "\n",
            "           0       1.00      0.99      0.99       837\n",
            "           1       0.99      1.00      0.99      1061\n",
            "\n",
            "    accuracy                           0.99      1898\n",
            "   macro avg       0.99      0.99      0.99      1898\n",
            "weighted avg       0.99      0.99      0.99      1898\n",
            "\n"
          ]
        }
      ],
      "source": [
        "print(classification_report(y_test,y_pred))"
      ]
    },
    {
      "cell_type": "code",
      "execution_count": 61,
      "metadata": {
        "id": "4zLglbgIlDvt"
      },
      "outputs": [],
      "source": [
        "from sklearn.metrics import precision_recall_curve,plot_precision_recall_curve,plot_roc_curve"
      ]
    },
    {
      "cell_type": "code",
      "execution_count": 62,
      "metadata": {
        "colab": {
          "base_uri": "https://localhost:8080/",
          "height": 334
        },
        "id": "nOh3Rl2YlRB8",
        "outputId": "284ab672-d018-4731-d83b-075a77deaf04"
      },
      "outputs": [
        {
          "name": "stderr",
          "output_type": "stream",
          "text": [
            "/usr/local/lib/python3.7/dist-packages/sklearn/utils/deprecation.py:87: FutureWarning: Function plot_precision_recall_curve is deprecated; Function `plot_precision_recall_curve` is deprecated in 1.0 and will be removed in 1.2. Use one of the class methods: PrecisionRecallDisplay.from_predictions or PrecisionRecallDisplay.from_estimator.\n",
            "  warnings.warn(msg, category=FutureWarning)\n"
          ]
        },
        {
          "data": {
            "image/png": "[encoded data removed]",
            "text/plain": [
              "<Figure size 432x288 with 1 Axes>"
            ]
          },
          "metadata": {
            "needs_background": "light"
          },
          "output_type": "display_data"
        }
      ],
      "source": [
        "plot_precision_recall_curve(model_CV,X_test,y_test);"
      ]
    },
    {
      "cell_type": "code",
      "execution_count": 63,
      "metadata": {
        "colab": {
          "base_uri": "https://localhost:8080/",
          "height": 334
        },
        "id": "j5I2ZSw8lYKc",
        "outputId": "c358353f-0c00-43a8-d723-1e12e2f7420a"
      },
      "outputs": [
        {
          "name": "stderr",
          "output_type": "stream",
          "text": [
            "/usr/local/lib/python3.7/dist-packages/sklearn/utils/deprecation.py:87: FutureWarning: Function plot_roc_curve is deprecated; Function :func:`plot_roc_curve` is deprecated in 1.0 and will be removed in 1.2. Use one of the class methods: :meth:`sklearn.metric.RocCurveDisplay.from_predictions` or :meth:`sklearn.metric.RocCurveDisplay.from_estimator`.\n",
            "  warnings.warn(msg, category=FutureWarning)\n"
          ]
        },
        {
          "data": {
            "image/png": "[encoded data removed]",
            "text/plain": [
              "<Figure size 432x288 with 1 Axes>"
            ]
          },
          "metadata": {
            "needs_background": "light"
          },
          "output_type": "display_data"
        }
      ],
      "source": [
        "plot_roc_curve(model_CV,X_test,y_test);"
      ]
    },
    {
      "cell_type": "markdown",
      "metadata": {
        "id": "SMMCGX5JVxyF"
      },
      "source": [
        "# Implementacao"
      ]
    },
    {
      "cell_type": "code",
      "execution_count": 64,
      "metadata": {
        "id": "kliLHhJTV3W5"
      },
      "outputs": [],
      "source": [
        "import pickle"
      ]
    },
    {
      "cell_type": "code",
      "execution_count": 65,
      "metadata": {
        "id": "UfdWJWPaV89Y"
      },
      "outputs": [],
      "source": [
        "pickle.dump(model,open('/content/drive/MyDrive/Monografia/Monografia 01/Parte Tecnica/Parte 1/regmodel.pkl','wb'))"
      ]
    },
    {
      "cell_type": "code",
      "execution_count": 66,
      "metadata": {
        "id": "JTv_dkMAWImy"
      },
      "outputs": [],
      "source": [
        "pickled_model = pickle.load(open('/content/drive/MyDrive/Monografia/Monografia 01/Parte Tecnica/Parte 1/regmodel.pkl','rb'))"
      ]
    },
    {
      "cell_type": "code",
      "execution_count": 69,
      "metadata": {
        "colab": {
          "base_uri": "https://localhost:8080/",
          "height": 174
        },
        "id": "CKx70duS-0IA",
        "outputId": "a7a84c4d-a280-4131-9fb5-4ed6a6d5416d"
      },
      "outputs": [
        {
          "data": {
            "text/html": [
              "\n",
              "  <div id=\"df-1b2812bc-440d-4f73-91ff-c0b0480fc236\">\n",
              "    <div class=\"colab-df-container\">\n",
              "      <div>\n",
              "<style scoped>\n",
              "    .dataframe tbody tr th:only-of-type {\n",
              "        vertical-align: middle;\n",
              "    }\n",
              "\n",
              "    .dataframe tbody tr th {\n",
              "        vertical-align: top;\n",
              "    }\n",
              "\n",
              "    .dataframe thead th {\n",
              "        text-align: right;\n",
              "    }\n",
              "</style>\n",
              "<table border=\"1\" class=\"dataframe\">\n",
              "  <thead>\n",
              "    <tr style=\"text-align: right;\">\n",
              "      <th></th>\n",
              "      <th>NR_PRESTACOES</th>\n",
              "      <th>NR_PREST_PAGAS_ATRASO</th>\n",
              "      <th>NR_PREST_PAGAS_SEM_ATRASO</th>\n",
              "      <th>NR_PREST_NAOPAGAS_ATRASO</th>\n",
              "      <th>NR_PREST_NAO_PAGAS_SEM_ATRASO</th>\n",
              "      <th>TIPOCREDITO_1</th>\n",
              "      <th>TIPOCREDITO_2</th>\n",
              "      <th>PRAZO</th>\n",
              "      <th>CAPACIDADEENDIVIDAMENTO_1</th>\n",
              "      <th>CAPACIDADEENDIVIDAMENTO_2</th>\n",
              "      <th>...</th>\n",
              "      <th>ESTADOCIVIL_3</th>\n",
              "      <th>ESTADOCIVIL_4</th>\n",
              "      <th>ESTADOCIVIL_5</th>\n",
              "      <th>ESTADOCIVIL_6</th>\n",
              "      <th>HABILITACOES</th>\n",
              "      <th>SEXO_1</th>\n",
              "      <th>SEXO_2</th>\n",
              "      <th>SEXO_3</th>\n",
              "      <th>GRADUADO_1</th>\n",
              "      <th>GRADUADO_2</th>\n",
              "    </tr>\n",
              "  </thead>\n",
              "  <tbody>\n",
              "    <tr>\n",
              "      <th>9000</th>\n",
              "      <td>3</td>\n",
              "      <td>2</td>\n",
              "      <td>1</td>\n",
              "      <td>0</td>\n",
              "      <td>0</td>\n",
              "      <td>0</td>\n",
              "      <td>1</td>\n",
              "      <td>3</td>\n",
              "      <td>0</td>\n",
              "      <td>1</td>\n",
              "      <td>...</td>\n",
              "      <td>0</td>\n",
              "      <td>0</td>\n",
              "      <td>0</td>\n",
              "      <td>0</td>\n",
              "      <td>4</td>\n",
              "      <td>0</td>\n",
              "      <td>1</td>\n",
              "      <td>0</td>\n",
              "      <td>0</td>\n",
              "      <td>1</td>\n",
              "    </tr>\n",
              "  </tbody>\n",
              "</table>\n",
              "<p>1 rows × 59 columns</p>\n",
              "</div>\n",
              "      <button class=\"colab-df-convert\" onclick=\"convertToInteractive('df-1b2812bc-440d-4f73-91ff-c0b0480fc236')\"\n",
              "              title=\"Convert this dataframe to an interactive table.\"\n",
              "              style=\"display:none;\">\n",
              "        \n",
              "  <svg xmlns=\"http://www.w3.org/2000/svg\" height=\"24px\"viewBox=\"0 0 24 24\"\n",
              "       width=\"24px\">\n",
              "    <path d=\"M0 0h24v24H0V0z\" fill=\"none\"/>\n",
              "    <path d=\"M18.56 5.44l.94 2.06.94-2.06 2.06-.94-2.06-.94-.94-2.06-.94 2.06-2.06.94zm-11 1L8.5 8.5l.94-2.06 2.06-.94-2.06-.94L8.5 2.5l-.94 2.06-2.06.94zm10 10l.94 2.06.94-2.06 2.06-.94-2.06-.94-.94-2.06-.94 2.06-2.06.94z\"/><path d=\"M17.41 7.96l-1.37-1.37c-.4-.4-.92-.59-1.43-.59-.52 0-1.04.2-1.43.59L10.3 9.45l-7.72 7.72c-.78.78-.78 2.05 0 2.83L4 21.41c.39.39.9.59 1.41.59.51 0 1.02-.2 1.41-.59l7.78-7.78 2.81-2.81c.8-.78.8-2.07 0-2.86zM5.41 20L4 18.59l7.72-7.72 1.47 1.35L5.41 20z\"/>\n",
              "  </svg>\n",
              "      </button>\n",
              "      \n",
              "  <style>\n",
              "    .colab-df-container {\n",
              "      display:flex;\n",
              "      flex-wrap:wrap;\n",
              "      gap: 12px;\n",
              "    }\n",
              "\n",
              "    .colab-df-convert {\n",
              "      background-color: #E8F0FE;\n",
              "      border: none;\n",
              "      border-radius: 50%;\n",
              "      cursor: pointer;\n",
              "      display: none;\n",
              "      fill: #1967D2;\n",
              "      height: 32px;\n",
              "      padding: 0 0 0 0;\n",
              "      width: 32px;\n",
              "    }\n",
              "\n",
              "    .colab-df-convert:hover {\n",
              "      background-color: #E2EBFA;\n",
              "      box-shadow: 0px 1px 2px rgba(60, 64, 67, 0.3), 0px 1px 3px 1px rgba(60, 64, 67, 0.15);\n",
              "      fill: #174EA6;\n",
              "    }\n",
              "\n",
              "    [theme=dark] .colab-df-convert {\n",
              "      background-color: #3B4455;\n",
              "      fill: #D2E3FC;\n",
              "    }\n",
              "\n",
              "    [theme=dark] .colab-df-convert:hover {\n",
              "      background-color: #434B5C;\n",
              "      box-shadow: 0px 1px 3px 1px rgba(0, 0, 0, 0.15);\n",
              "      filter: drop-shadow(0px 1px 2px rgba(0, 0, 0, 0.3));\n",
              "      fill: #FFFFFF;\n",
              "    }\n",
              "  </style>\n",
              "\n",
              "      <script>\n",
              "        const buttonEl =\n",
              "          document.querySelector('#df-1b2812bc-440d-4f73-91ff-c0b0480fc236 button.colab-df-convert');\n",
              "        buttonEl.style.display =\n",
              "          google.colab.kernel.accessAllowed ? 'block' : 'none';\n",
              "\n",
              "        async function convertToInteractive(key) {\n",
              "          const element = document.querySelector('#df-1b2812bc-440d-4f73-91ff-c0b0480fc236');\n",
              "          const dataTable =\n",
              "            await google.colab.kernel.invokeFunction('convertToInteractive',\n",
              "                                                     [key], {});\n",
              "          if (!dataTable) return;\n",
              "\n",
              "          const docLinkHtml = 'Like what you see? Visit the ' +\n",
              "            '<a target=\"_blank\" href=https://colab.research.google.com/notebooks/data_table.ipynb>data table notebook</a>'\n",
              "            + ' to learn more about interactive tables.';\n",
              "          element.innerHTML = '';\n",
              "          dataTable['output_type'] = 'display_data';\n",
              "          await google.colab.output.renderOutput(dataTable, element);\n",
              "          const docLink = document.createElement('div');\n",
              "          docLink.innerHTML = docLinkHtml;\n",
              "          element.appendChild(docLink);\n",
              "        }\n",
              "      </script>\n",
              "    </div>\n",
              "  </div>\n",
              "  "
            ],
            "text/plain": [
              "      NR_PRESTACOES  NR_PREST_PAGAS_ATRASO  NR_PREST_PAGAS_SEM_ATRASO  \\\n",
              "9000              3                      2                          1   \n",
              "\n",
              "      NR_PREST_NAOPAGAS_ATRASO  NR_PREST_NAO_PAGAS_SEM_ATRASO  TIPOCREDITO_1  \\\n",
              "9000                         0                              0              0   \n",
              "\n",
              "      TIPOCREDITO_2  PRAZO  CAPACIDADEENDIVIDAMENTO_1  \\\n",
              "9000              1      3                          0   \n",
              "\n",
              "      CAPACIDADEENDIVIDAMENTO_2  ...  ESTADOCIVIL_3  ESTADOCIVIL_4  \\\n",
              "9000                          1  ...              0              0   \n",
              "\n",
              "      ESTADOCIVIL_5  ESTADOCIVIL_6  HABILITACOES  SEXO_1  SEXO_2  SEXO_3  \\\n",
              "9000              0              0             4       0       1       0   \n",
              "\n",
              "      GRADUADO_1  GRADUADO_2  \n",
              "9000           0           1  \n",
              "\n",
              "[1 rows x 59 columns]"
            ]
          },
          "execution_count": 69,
          "metadata": {},
          "output_type": "execute_result"
        }
      ],
      "source": [
        "Log.iloc[9000:9001,0:59]"
      ]
    },
    {
      "cell_type": "code",
      "execution_count": 67,
      "metadata": {
        "colab": {
          "base_uri": "https://localhost:8080/",
          "height": 345
        },
        "id": "tcKyC-aXYQmL",
        "outputId": "83164ffa-9765-4f5e-ee1c-2db03c4c7a88"
      },
      "outputs": [
        {
          "name": "stderr",
          "output_type": "stream",
          "text": [
            "/usr/local/lib/python3.7/dist-packages/sklearn/base.py:444: UserWarning: X has feature names, but StandardScaler was fitted without feature names\n",
            "  f\"X has feature names, but {self.__class__.__name__} was fitted without\"\n"
          ]
        },
        {
          "ename": "ValueError",
          "evalue": "ignored",
          "output_type": "error",
          "traceback": [
            "\u001b[0;31m---------------------------------------------------------------------------\u001b[0m",
            "\u001b[0;31mValueError\u001b[0m                                Traceback (most recent call last)",
            "\u001b[0;32m<ipython-input-67-f8fc5825bbb9>\u001b[0m in \u001b[0;36m<module>\u001b[0;34m\u001b[0m\n\u001b[0;32m----> 1\u001b[0;31m \u001b[0mpickled_model\u001b[0m\u001b[0;34m.\u001b[0m\u001b[0mpredict\u001b[0m\u001b[0;34m(\u001b[0m\u001b[0mscc\u001b[0m\u001b[0;34m.\u001b[0m\u001b[0mtransform\u001b[0m\u001b[0;34m(\u001b[0m\u001b[0mLog\u001b[0m\u001b[0;34m.\u001b[0m\u001b[0miloc\u001b[0m\u001b[0;34m[\u001b[0m\u001b[0;36m9000\u001b[0m\u001b[0;34m:\u001b[0m\u001b[0;36m9001\u001b[0m\u001b[0;34m,\u001b[0m\u001b[0;36m0\u001b[0m\u001b[0;34m:\u001b[0m\u001b[0;36m59\u001b[0m\u001b[0;34m]\u001b[0m\u001b[0;34m)\u001b[0m\u001b[0;34m)\u001b[0m\u001b[0;34m\u001b[0m\u001b[0;34m\u001b[0m\u001b[0m\n\u001b[0m",
            "\u001b[0;32m/usr/local/lib/python3.7/dist-packages/sklearn/linear_model/_base.py\u001b[0m in \u001b[0;36mpredict\u001b[0;34m(self, X)\u001b[0m\n\u001b[1;32m    423\u001b[0m             \u001b[0mVector\u001b[0m \u001b[0mcontaining\u001b[0m \u001b[0mthe\u001b[0m \u001b[0;32mclass\u001b[0m \u001b[0mlabels\u001b[0m \u001b[0;32mfor\u001b[0m \u001b[0meach\u001b[0m \u001b[0msample\u001b[0m\u001b[0;34m.\u001b[0m\u001b[0;34m\u001b[0m\u001b[0;34m\u001b[0m\u001b[0m\n\u001b[1;32m    424\u001b[0m         \"\"\"\n\u001b[0;32m--> 425\u001b[0;31m         \u001b[0mscores\u001b[0m \u001b[0;34m=\u001b[0m \u001b[0mself\u001b[0m\u001b[0;34m.\u001b[0m\u001b[0mdecision_function\u001b[0m\u001b[0;34m(\u001b[0m\u001b[0mX\u001b[0m\u001b[0;34m)\u001b[0m\u001b[0;34m\u001b[0m\u001b[0;34m\u001b[0m\u001b[0m\n\u001b[0m\u001b[1;32m    426\u001b[0m         \u001b[0;32mif\u001b[0m \u001b[0mlen\u001b[0m\u001b[0;34m(\u001b[0m\u001b[0mscores\u001b[0m\u001b[0;34m.\u001b[0m\u001b[0mshape\u001b[0m\u001b[0;34m)\u001b[0m \u001b[0;34m==\u001b[0m \u001b[0;36m1\u001b[0m\u001b[0;34m:\u001b[0m\u001b[0;34m\u001b[0m\u001b[0;34m\u001b[0m\u001b[0m\n\u001b[1;32m    427\u001b[0m             \u001b[0mindices\u001b[0m \u001b[0;34m=\u001b[0m \u001b[0;34m(\u001b[0m\u001b[0mscores\u001b[0m \u001b[0;34m>\u001b[0m \u001b[0;36m0\u001b[0m\u001b[0;34m)\u001b[0m\u001b[0;34m.\u001b[0m\u001b[0mastype\u001b[0m\u001b[0;34m(\u001b[0m\u001b[0mint\u001b[0m\u001b[0;34m)\u001b[0m\u001b[0;34m\u001b[0m\u001b[0;34m\u001b[0m\u001b[0m\n",
            "\u001b[0;32m/usr/local/lib/python3.7/dist-packages/sklearn/linear_model/_base.py\u001b[0m in \u001b[0;36mdecision_function\u001b[0;34m(self, X)\u001b[0m\n\u001b[1;32m    405\u001b[0m         \u001b[0mcheck_is_fitted\u001b[0m\u001b[0;34m(\u001b[0m\u001b[0mself\u001b[0m\u001b[0;34m)\u001b[0m\u001b[0;34m\u001b[0m\u001b[0;34m\u001b[0m\u001b[0m\n\u001b[1;32m    406\u001b[0m \u001b[0;34m\u001b[0m\u001b[0m\n\u001b[0;32m--> 407\u001b[0;31m         \u001b[0mX\u001b[0m \u001b[0;34m=\u001b[0m \u001b[0mself\u001b[0m\u001b[0;34m.\u001b[0m\u001b[0m_validate_data\u001b[0m\u001b[0;34m(\u001b[0m\u001b[0mX\u001b[0m\u001b[0;34m,\u001b[0m \u001b[0maccept_sparse\u001b[0m\u001b[0;34m=\u001b[0m\u001b[0;34m\"csr\"\u001b[0m\u001b[0;34m,\u001b[0m \u001b[0mreset\u001b[0m\u001b[0;34m=\u001b[0m\u001b[0;32mFalse\u001b[0m\u001b[0;34m)\u001b[0m\u001b[0;34m\u001b[0m\u001b[0;34m\u001b[0m\u001b[0m\n\u001b[0m\u001b[1;32m    408\u001b[0m         \u001b[0mscores\u001b[0m \u001b[0;34m=\u001b[0m \u001b[0msafe_sparse_dot\u001b[0m\u001b[0;34m(\u001b[0m\u001b[0mX\u001b[0m\u001b[0;34m,\u001b[0m \u001b[0mself\u001b[0m\u001b[0;34m.\u001b[0m\u001b[0mcoef_\u001b[0m\u001b[0;34m.\u001b[0m\u001b[0mT\u001b[0m\u001b[0;34m,\u001b[0m \u001b[0mdense_output\u001b[0m\u001b[0;34m=\u001b[0m\u001b[0;32mTrue\u001b[0m\u001b[0;34m)\u001b[0m \u001b[0;34m+\u001b[0m \u001b[0mself\u001b[0m\u001b[0;34m.\u001b[0m\u001b[0mintercept_\u001b[0m\u001b[0;34m\u001b[0m\u001b[0;34m\u001b[0m\u001b[0m\n\u001b[1;32m    409\u001b[0m         \u001b[0;32mreturn\u001b[0m \u001b[0mscores\u001b[0m\u001b[0;34m.\u001b[0m\u001b[0mravel\u001b[0m\u001b[0;34m(\u001b[0m\u001b[0;34m)\u001b[0m \u001b[0;32mif\u001b[0m \u001b[0mscores\u001b[0m\u001b[0;34m.\u001b[0m\u001b[0mshape\u001b[0m\u001b[0;34m[\u001b[0m\u001b[0;36m1\u001b[0m\u001b[0;34m]\u001b[0m \u001b[0;34m==\u001b[0m \u001b[0;36m1\u001b[0m \u001b[0;32melse\u001b[0m \u001b[0mscores\u001b[0m\u001b[0;34m\u001b[0m\u001b[0;34m\u001b[0m\u001b[0m\n",
            "\u001b[0;32m/usr/local/lib/python3.7/dist-packages/sklearn/base.py\u001b[0m in \u001b[0;36m_validate_data\u001b[0;34m(self, X, y, reset, validate_separately, **check_params)\u001b[0m\n\u001b[1;32m    583\u001b[0m \u001b[0;34m\u001b[0m\u001b[0m\n\u001b[1;32m    584\u001b[0m         \u001b[0;32mif\u001b[0m \u001b[0;32mnot\u001b[0m \u001b[0mno_val_X\u001b[0m \u001b[0;32mand\u001b[0m \u001b[0mcheck_params\u001b[0m\u001b[0;34m.\u001b[0m\u001b[0mget\u001b[0m\u001b[0;34m(\u001b[0m\u001b[0;34m\"ensure_2d\"\u001b[0m\u001b[0;34m,\u001b[0m \u001b[0;32mTrue\u001b[0m\u001b[0;34m)\u001b[0m\u001b[0;34m:\u001b[0m\u001b[0;34m\u001b[0m\u001b[0;34m\u001b[0m\u001b[0m\n\u001b[0;32m--> 585\u001b[0;31m             \u001b[0mself\u001b[0m\u001b[0;34m.\u001b[0m\u001b[0m_check_n_features\u001b[0m\u001b[0;34m(\u001b[0m\u001b[0mX\u001b[0m\u001b[0;34m,\u001b[0m \u001b[0mreset\u001b[0m\u001b[0;34m=\u001b[0m\u001b[0mreset\u001b[0m\u001b[0;34m)\u001b[0m\u001b[0;34m\u001b[0m\u001b[0;34m\u001b[0m\u001b[0m\n\u001b[0m\u001b[1;32m    586\u001b[0m \u001b[0;34m\u001b[0m\u001b[0m\n\u001b[1;32m    587\u001b[0m         \u001b[0;32mreturn\u001b[0m \u001b[0mout\u001b[0m\u001b[0;34m\u001b[0m\u001b[0;34m\u001b[0m\u001b[0m\n",
            "\u001b[0;32m/usr/local/lib/python3.7/dist-packages/sklearn/base.py\u001b[0m in \u001b[0;36m_check_n_features\u001b[0;34m(self, X, reset)\u001b[0m\n\u001b[1;32m    399\u001b[0m         \u001b[0;32mif\u001b[0m \u001b[0mn_features\u001b[0m \u001b[0;34m!=\u001b[0m \u001b[0mself\u001b[0m\u001b[0;34m.\u001b[0m\u001b[0mn_features_in_\u001b[0m\u001b[0;34m:\u001b[0m\u001b[0;34m\u001b[0m\u001b[0;34m\u001b[0m\u001b[0m\n\u001b[1;32m    400\u001b[0m             raise ValueError(\n\u001b[0;32m--> 401\u001b[0;31m                 \u001b[0;34mf\"X has {n_features} features, but {self.__class__.__name__} \"\u001b[0m\u001b[0;34m\u001b[0m\u001b[0;34m\u001b[0m\u001b[0m\n\u001b[0m\u001b[1;32m    402\u001b[0m                 \u001b[0;34mf\"is expecting {self.n_features_in_} features as input.\"\u001b[0m\u001b[0;34m\u001b[0m\u001b[0;34m\u001b[0m\u001b[0m\n\u001b[1;32m    403\u001b[0m             )\n",
            "\u001b[0;31mValueError\u001b[0m: X has 59 features, but LogisticRegression is expecting 22 features as input."
          ]
        }
      ],
      "source": [
        "pickled_model.predict(scc.transform(Log.iloc[9000:9001,0:59]))"
      ]
    }
  ],
  "metadata": {
    "colab": {
      "collapsed_sections": [
        "8Khx-_d0iwhU"
      ],
      "provenance": []
    },
    "kernelspec": {
      "display_name": "Python 3.7.0 (conda)",
      "language": "python",
      "name": "python3"
    },
    "language_info": {
      "name": "python",
      "version": "3.7.0"
    },
    "vscode": {
      "interpreter": {
        "hash": "03dcaa9ae7d51ed1c0e1308920573b88739b975dc664046674a4fd8f5d27504e"
      }
    }
  },
  "nbformat": 4,
  "nbformat_minor": 0
}
